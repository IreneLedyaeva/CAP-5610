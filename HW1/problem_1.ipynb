{
  "nbformat": 4,
  "nbformat_minor": 0,
  "metadata": {
    "colab": {
      "name": "problem_1.ipynb",
      "version": "0.3.2",
      "provenance": [],
      "include_colab_link": true
    },
    "kernelspec": {
      "name": "python3",
      "display_name": "Python 3"
    }
  },
  "cells": [
    {
      "cell_type": "markdown",
      "metadata": {
        "id": "view-in-github",
        "colab_type": "text"
      },
      "source": [
        "<a href=\"https://colab.research.google.com/github/IreneLedyaeva/CAP-5610/blob/master/HW1/problem_1.ipynb\" target=\"_parent\"><img src=\"https://colab.research.google.com/assets/colab-badge.svg\" alt=\"Open In Colab\"/></a>"
      ]
    },
    {
      "metadata": {
        "id": "T1L5i6vi7QKU",
        "colab_type": "text"
      },
      "cell_type": "markdown",
      "source": [
        "### Load the training and test data using Keras"
      ]
    },
    {
      "metadata": {
        "id": "hhLBHFkm7bYN",
        "colab_type": "code",
        "colab": {}
      },
      "cell_type": "code",
      "source": [
        "from keras.datasets import mnist\n",
        "\n",
        "(train_images_original, train_labels_original), (test_images_original, test_labels_original) = mnist.load_data()"
      ],
      "execution_count": 0,
      "outputs": []
    },
    {
      "metadata": {
        "id": "gGW5SZY_9Q-b",
        "colab_type": "text"
      },
      "cell_type": "markdown",
      "source": [
        "### Preparing the training and test images"
      ]
    },
    {
      "metadata": {
        "id": "ajUwoWMX9UV4",
        "colab_type": "code",
        "colab": {}
      },
      "cell_type": "code",
      "source": [
        "train_images = train_images_original.reshape(train_images_original.shape[0], 28 * 28)\n",
        "train_images = train_images.astype('float32') / 255\n",
        "\n",
        "test_images = test_images_original.reshape(test_images_original.shape[0], 28 * 28)\n",
        "test_images = test_images.astype('float32') / 255"
      ],
      "execution_count": 0,
      "outputs": []
    },
    {
      "metadata": {
        "id": "5RpAJp9I9rdO",
        "colab_type": "text"
      },
      "cell_type": "markdown",
      "source": [
        "### Encoding the training and test labels [0, 1]"
      ]
    },
    {
      "metadata": {
        "id": "u5L_gml_-CGc",
        "colab_type": "code",
        "colab": {}
      },
      "cell_type": "code",
      "source": [
        "from keras.utils import to_categorical\n",
        "\n",
        "train_labels = to_categorical(train_labels_original)\n",
        "test_labels = to_categorical(test_labels_original)"
      ],
      "execution_count": 0,
      "outputs": []
    },
    {
      "metadata": {
        "id": "sAALoqpMGl6X",
        "colab_type": "text"
      },
      "cell_type": "markdown",
      "source": [
        "### Classifying the data"
      ]
    },
    {
      "metadata": {
        "id": "326eoGNsGqgZ",
        "colab_type": "code",
        "outputId": "5df4683c-7cec-45b6-8c18-398998c84e6e",
        "colab": {
          "base_uri": "https://localhost:8080/",
          "height": 187
        }
      },
      "cell_type": "code",
      "source": [
        "import numpy as np\n",
        "\n",
        "def sigmoid(z):\n",
        "  return 1 / (1 + np.exp(-z)) \n",
        "\n",
        "def feed_forward(X, weights, bias):\n",
        "  return sigmoid(np.dot(weights.T, X) + bias)\n",
        "\n",
        "def train(X, Y):\n",
        "  \n",
        "  m = X.shape[0]\n",
        "  epochs = 10\n",
        "  batch_size = 1\n",
        "  lr = 0.1\n",
        "  \n",
        "  weights = np.zeros(shape=(X.shape[1], Y.shape[1]), dtype=np.float32)\n",
        "  bias = 0\n",
        "  \n",
        "  for epoch in range(epochs):\n",
        "    \n",
        "    shuffled_indices = np.random.permutation(m)\n",
        "    X_shuffled = X[shuffled_indices, :]\n",
        "    Y_shuffled = Y[shuffled_indices]\n",
        "    \n",
        "    for i in range(0, m, batch_size):\n",
        "        \n",
        "        Xi = X_shuffled[i:i+batch_size].T\n",
        "        Yi = Y_shuffled[i:i+batch_size].T\n",
        "        \n",
        "        a = feed_forward(Xi, weights, bias)\n",
        "        \n",
        "        delta = (a - Yi) * a * (1 - a)\n",
        "        dw = np.dot(Xi, delta.T)\n",
        "        db = delta\n",
        "        \n",
        "        weights -= lr * dw\n",
        "        bias -= lr * db\n",
        "    \n",
        "    prediction = np.argmax(feed_forward(test_images.T, weights, bias), axis=0)\n",
        "    print (epoch, np.mean(prediction == np.argmax(test_labels, axis=1)) * 100, prediction)\n",
        "\n",
        "train(train_images, train_labels)"
      ],
      "execution_count": 86,
      "outputs": [
        {
          "output_type": "stream",
          "text": [
            "0 91.4 [7 2 1 ... 4 8 6]\n",
            "1 91.53 [7 2 1 ... 4 8 6]\n",
            "2 91.86 [7 2 1 ... 4 8 6]\n",
            "3 91.88 [7 2 1 ... 4 8 6]\n",
            "4 91.71000000000001 [7 2 1 ... 4 8 6]\n",
            "5 91.19 [7 2 1 ... 4 8 6]\n",
            "6 91.94 [7 2 1 ... 4 8 6]\n",
            "7 91.85 [7 2 1 ... 4 8 6]\n",
            "8 91.88 [7 2 1 ... 4 8 6]\n",
            "9 92.15 [7 2 1 ... 4 8 6]\n"
          ],
          "name": "stdout"
        }
      ]
    }
  ]
}
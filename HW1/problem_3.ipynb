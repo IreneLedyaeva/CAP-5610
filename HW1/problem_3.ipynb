{
  "nbformat": 4,
  "nbformat_minor": 0,
  "metadata": {
    "colab": {
      "name": "problem_3.ipynb",
      "version": "0.3.2",
      "provenance": [],
      "include_colab_link": true
    },
    "kernelspec": {
      "name": "python3",
      "display_name": "Python 3"
    }
  },
  "cells": [
    {
      "cell_type": "markdown",
      "metadata": {
        "id": "view-in-github",
        "colab_type": "text"
      },
      "source": [
        "<a href=\"https://colab.research.google.com/github/IreneLedyaeva/CAP-5610/blob/master/HW1/problem_3.ipynb\" target=\"_parent\"><img src=\"https://colab.research.google.com/assets/colab-badge.svg\" alt=\"Open In Colab\"/></a>"
      ]
    },
    {
      "metadata": {
        "id": "T1L5i6vi7QKU",
        "colab_type": "text"
      },
      "cell_type": "markdown",
      "source": [
        "### Load the training and test data using Keras"
      ]
    },
    {
      "metadata": {
        "id": "hhLBHFkm7bYN",
        "colab_type": "code",
        "colab": {}
      },
      "cell_type": "code",
      "source": [
        "from keras.datasets import mnist\n",
        "\n",
        "(train_images_original, train_labels_original), (test_images_original, test_labels_original) = mnist.load_data()"
      ],
      "execution_count": 0,
      "outputs": []
    },
    {
      "metadata": {
        "id": "gGW5SZY_9Q-b",
        "colab_type": "text"
      },
      "cell_type": "markdown",
      "source": [
        "### Preparing the training and test images"
      ]
    },
    {
      "metadata": {
        "id": "ajUwoWMX9UV4",
        "colab_type": "code",
        "colab": {}
      },
      "cell_type": "code",
      "source": [
        "train_images = train_images_original.reshape(train_images_original.shape[0], 28 * 28)\n",
        "train_images = train_images.astype('float32') / 255\n",
        "\n",
        "test_images = test_images_original.reshape(test_images_original.shape[0], 28 * 28)\n",
        "test_images = test_images.astype('float32') / 255"
      ],
      "execution_count": 0,
      "outputs": []
    },
    {
      "metadata": {
        "id": "5RpAJp9I9rdO",
        "colab_type": "text"
      },
      "cell_type": "markdown",
      "source": [
        "### Encoding the training and test labels [0, 1]"
      ]
    },
    {
      "metadata": {
        "id": "u5L_gml_-CGc",
        "colab_type": "code",
        "colab": {}
      },
      "cell_type": "code",
      "source": [
        "from keras.utils import to_categorical\n",
        "\n",
        "train_labels = to_categorical(train_labels_original)\n",
        "test_labels = to_categorical(test_labels_original)"
      ],
      "execution_count": 0,
      "outputs": []
    },
    {
      "metadata": {
        "id": "sAALoqpMGl6X",
        "colab_type": "text"
      },
      "cell_type": "markdown",
      "source": [
        "### Classifying the data"
      ]
    },
    {
      "metadata": {
        "id": "hMsc6zlBeALl",
        "colab_type": "code",
        "colab": {
          "base_uri": "https://localhost:8080/",
          "height": 85
        },
        "outputId": "3fdce8ad-8c8c-4971-9d16-e995a6bf3815"
      },
      "cell_type": "code",
      "source": [
        "import numpy as np\n",
        "\n",
        "def softmax(z):\n",
        "  return np.exp(z) / np.sum(np.exp(z)) \n",
        "\n",
        "def cross_entropy(a, y):\n",
        "  return -np.sum(y * np.log(a + 1e-6))\n",
        "\n",
        "def train(X, Y):\n",
        "  \n",
        "  m = X.shape[0]\n",
        "  epochs = 10\n",
        "  batch_size = 10\n",
        "  lr = 0.001\n",
        "  \n",
        "  weights = np.zeros(shape=(784, 10), dtype=np.float32)\n",
        "  biases = np.zeros(shape=(10, batch_size), dtype=np.float32)\n",
        "  \n",
        "  for epoch in range(epochs):\n",
        "    \n",
        "    shuffled_indices = np.random.permutation(m)\n",
        "    X_shuffled = X[shuffled_indices, :]\n",
        "    Y_shuffled = Y[shuffled_indices]\n",
        "    \n",
        "    for i in range(0, m, batch_size):\n",
        "        \n",
        "        Xi = X_shuffled[i:i+batch_size]\n",
        "        Yi = Y_shuffled[i:i+batch_size]\n",
        "        \n",
        "        z = np.dot(Xi, weights) + biases\n",
        "        a = softmax(z)\n",
        "        loss = cross_entropy(a, Yi)\n",
        "        \n",
        "        dw = np.dot((a - Yi), Xi)\n",
        "        db = a - Yi\n",
        "        \n",
        "        weights -= lr * dw.T\n",
        "        biases -= lr * db.T\n",
        "        \n",
        "    #prediction = np.argmax(softmax(np.dot(test_images, weights) + biases), axis=1)\n",
        "    #print (epoch, np.mean(prediction == np.argmax(test_labels, axis=1)) * 100, prediction)\n",
        "\n",
        "train(train_images, train_labels)"
      ],
      "execution_count": 45,
      "outputs": [
        {
          "output_type": "stream",
          "text": [
            "/usr/local/lib/python3.6/dist-packages/ipykernel_launcher.py:4: RuntimeWarning: overflow encountered in exp\n",
            "  after removing the cwd from sys.path.\n",
            "/usr/local/lib/python3.6/dist-packages/ipykernel_launcher.py:4: RuntimeWarning: invalid value encountered in true_divide\n",
            "  after removing the cwd from sys.path.\n"
          ],
          "name": "stderr"
        }
      ]
    }
  ]
}
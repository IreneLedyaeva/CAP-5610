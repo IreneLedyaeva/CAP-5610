{
  "nbformat": 4,
  "nbformat_minor": 0,
  "metadata": {
    "colab": {
      "name": "problem_2.ipynb",
      "version": "0.3.2",
      "provenance": [],
      "include_colab_link": true
    },
    "kernelspec": {
      "name": "python3",
      "display_name": "Python 3"
    }
  },
  "cells": [
    {
      "cell_type": "markdown",
      "metadata": {
        "id": "view-in-github",
        "colab_type": "text"
      },
      "source": [
        "<a href=\"https://colab.research.google.com/github/IreneLedyaeva/CAP-5610/blob/master/HW1/problem_2.ipynb\" target=\"_parent\"><img src=\"https://colab.research.google.com/assets/colab-badge.svg\" alt=\"Open In Colab\"/></a>"
      ]
    },
    {
      "metadata": {
        "id": "T1L5i6vi7QKU",
        "colab_type": "text"
      },
      "cell_type": "markdown",
      "source": [
        "### Load the training and test data using Keras (6th classifier)"
      ]
    },
    {
      "metadata": {
        "id": "hhLBHFkm7bYN",
        "colab_type": "code",
        "colab": {}
      },
      "cell_type": "code",
      "source": [
        "from keras.datasets import mnist\n",
        "import numpy as np\n",
        "\n",
        "(train_images_original, train_labels_original), (test_images_original, test_labels_original) = mnist.load_data()\n",
        "\n",
        "train_filter = np.where(train_labels_original == 5)\n",
        "test_filter = np.where(test_labels_original == 5)\n",
        "\n",
        "train_images_original, train_labels_original = train_images_original[train_filter], train_labels_original[train_filter]\n",
        "test_images_original, test_labels_original = test_images_original[test_filter], test_labels_original[test_filter]"
      ],
      "execution_count": 0,
      "outputs": []
    },
    {
      "metadata": {
        "id": "gGW5SZY_9Q-b",
        "colab_type": "text"
      },
      "cell_type": "markdown",
      "source": [
        "### Preparing the training and test images"
      ]
    },
    {
      "metadata": {
        "id": "ajUwoWMX9UV4",
        "colab_type": "code",
        "colab": {}
      },
      "cell_type": "code",
      "source": [
        "train_images = train_images_original.reshape(train_images_original.shape[0], 28 * 28)\n",
        "train_images = train_images.astype('float32') / 255\n",
        "\n",
        "test_images = test_images_original.reshape(test_images_original.shape[0], 28 * 28)\n",
        "test_images = test_images.astype('float32') / 255"
      ],
      "execution_count": 0,
      "outputs": []
    },
    {
      "metadata": {
        "id": "5RpAJp9I9rdO",
        "colab_type": "text"
      },
      "cell_type": "markdown",
      "source": [
        "### Encoding the training and test labels"
      ]
    },
    {
      "metadata": {
        "id": "u5L_gml_-CGc",
        "colab_type": "code",
        "colab": {}
      },
      "cell_type": "code",
      "source": [
        "from keras.utils import to_categorical\n",
        "\n",
        "train_labels = to_categorical(train_labels_original)\n",
        "test_labels = to_categorical(test_labels_original)\n",
        "\n",
        "train_labels = train_labels_original.reshape(train_labels_original.shape[0], 1)\n",
        "test_labels = test_labels_original.reshape(test_labels_original.shape[0], 1)"
      ],
      "execution_count": 0,
      "outputs": []
    },
    {
      "metadata": {
        "id": "w97dxRBUeOy-",
        "colab_type": "text"
      },
      "cell_type": "markdown",
      "source": [
        "### Permutating the training dataset"
      ]
    },
    {
      "metadata": {
        "id": "9jsYD38oebdT",
        "colab_type": "code",
        "outputId": "501a2b12-2da8-404e-caf1-6534b3d86bf4",
        "colab": {
          "base_uri": "https://localhost:8080/",
          "height": 51
        }
      },
      "cell_type": "code",
      "source": [
        "shuffled_indices = np.random.permutation(train_labels.shape[0])\n",
        "train_labels = train_labels[shuffled_indices, :]\n",
        "train_images = train_images[shuffled_indices, :]\n",
        "\n",
        "print(\"X features:\", train_images.shape)\n",
        "print(\"Y labels:\", train_labels.shape)"
      ],
      "execution_count": 0,
      "outputs": [
        {
          "output_type": "stream",
          "text": [
            "X features: (5421, 784)\n",
            "Y labels: (5421, 1)\n"
          ],
          "name": "stdout"
        }
      ]
    },
    {
      "metadata": {
        "id": "sAALoqpMGl6X",
        "colab_type": "text"
      },
      "cell_type": "markdown",
      "source": [
        "### Classifying the data"
      ]
    },
    {
      "metadata": {
        "id": "326eoGNsGqgZ",
        "colab_type": "code",
        "colab": {}
      },
      "cell_type": "code",
      "source": [
        "# 2. (-y * np.log(a) - (1 - y) * np.log(1 - a)).mean() \n",
        "# 2. (-1) * np.mean(np.multiply(Y, np.log(a)) + np.multiply(1 - Y, np.log(1 - a)), axis=1)\n",
        "\n",
        "def sigmoid(z):\n",
        "  return 1 / (1 + np.exp(-z)) \n",
        "\n",
        "def predict(weight, bias, X):\n",
        "  \n",
        "  m = X.shape[1]\n",
        "  Y_prediction = np.zeros((1,m))\n",
        "  weight = weight.reshape(X.shape[0], 1)\n",
        "  z = np.matmul(weight.T, X) + bias\n",
        "  a = sigmoid(z)\n",
        "  \n",
        "  for i in range(a.shape[1]):\n",
        "    if a[0, i] > 0.5:\n",
        "      Y_prediction[0, i] = 1\n",
        "    else:\n",
        "      Y_prediction[0, i] = 0\n",
        "    \n",
        "  return Y_prediction\n",
        "  \n",
        "def train(X, Y, lr):\n",
        "  \n",
        "  epochs = 10\n",
        "  batch_size = 1\n",
        "  m = X.shape[1] # number of examples\n",
        "  \n",
        "  # Initializing weights and a bias\n",
        "  weight = np.zeros(shape=(X.shape[0], 1), dtype=np.float32)\n",
        "  bias = 0\n",
        "  \n",
        "  for i in range(100):\n",
        "    z = np.dot(weight.T, X) + bias\n",
        "    a = sigmoid(z)\n",
        "    loss = 0.5*((a - Y)**2)\n",
        "    dw = np.matmul(X, np.transpose(a - Y)) * (1/m)\n",
        "    db = np.mean((a - Y))\n",
        "    # Updating weights and a bias\n",
        "    weight = weight - lr * dw\n",
        "    bias = bias - lr * db\n",
        "    \n",
        "  Y_prediction_test = predict(weight, bias, test_images.T)\n",
        "  #Y_prediction_train = predict(w, b, train_images.T)\n",
        "\n",
        "train(train_images.T, train_labels.T, lr = 0.01)"
      ],
      "execution_count": 0,
      "outputs": []
    }
  ]
}
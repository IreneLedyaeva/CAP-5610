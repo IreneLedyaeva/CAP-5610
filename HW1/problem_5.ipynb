{
  "nbformat": 4,
  "nbformat_minor": 0,
  "metadata": {
    "colab": {
      "name": "problem_5.ipynb",
      "version": "0.3.2",
      "provenance": [],
      "include_colab_link": true
    },
    "kernelspec": {
      "name": "python3",
      "display_name": "Python 3"
    }
  },
  "cells": [
    {
      "cell_type": "markdown",
      "metadata": {
        "id": "view-in-github",
        "colab_type": "text"
      },
      "source": [
        "<a href=\"https://colab.research.google.com/github/IreneLedyaeva/CAP-5610/blob/master/HW1/problem_5.ipynb\" target=\"_parent\"><img src=\"https://colab.research.google.com/assets/colab-badge.svg\" alt=\"Open In Colab\"/></a>"
      ]
    },
    {
      "metadata": {
        "id": "T1L5i6vi7QKU",
        "colab_type": "text"
      },
      "cell_type": "markdown",
      "source": [
        "### Load the training and test data using Keras"
      ]
    },
    {
      "metadata": {
        "id": "hhLBHFkm7bYN",
        "colab_type": "code",
        "colab": {}
      },
      "cell_type": "code",
      "source": [
        "from keras.datasets import mnist\n",
        "\n",
        "(train_images_original, train_labels_original), (test_images_original, test_labels_original) = mnist.load_data()"
      ],
      "execution_count": 0,
      "outputs": []
    },
    {
      "metadata": {
        "id": "gGW5SZY_9Q-b",
        "colab_type": "text"
      },
      "cell_type": "markdown",
      "source": [
        "### Preparing the training and test images"
      ]
    },
    {
      "metadata": {
        "id": "ajUwoWMX9UV4",
        "colab_type": "code",
        "colab": {}
      },
      "cell_type": "code",
      "source": [
        "train_images = train_images_original.reshape(train_images_original.shape[0], 28 * 28)\n",
        "train_images = train_images.astype('float32') / 255\n",
        "\n",
        "test_images = test_images_original.reshape(test_images_original.shape[0], 28 * 28)\n",
        "test_images = test_images.astype('float32') / 255"
      ],
      "execution_count": 0,
      "outputs": []
    },
    {
      "metadata": {
        "id": "5RpAJp9I9rdO",
        "colab_type": "text"
      },
      "cell_type": "markdown",
      "source": [
        "### Encoding the training and test labels [0, 1]"
      ]
    },
    {
      "metadata": {
        "id": "u5L_gml_-CGc",
        "colab_type": "code",
        "colab": {}
      },
      "cell_type": "code",
      "source": [
        "from keras.utils import to_categorical\n",
        "\n",
        "train_labels = to_categorical(train_labels_original)\n",
        "test_labels = to_categorical(test_labels_original)"
      ],
      "execution_count": 0,
      "outputs": []
    },
    {
      "metadata": {
        "id": "mHFsjtPq26iD",
        "colab_type": "text"
      },
      "cell_type": "markdown",
      "source": [
        "### Counting a number of connected components in train_images_bw [1, 2 or 3]"
      ]
    },
    {
      "metadata": {
        "id": "7_AQ6-kA3EvD",
        "colab_type": "code",
        "outputId": "641a62ad-3ed1-4be9-df13-1c3a07abc2e5",
        "colab": {
          "base_uri": "https://localhost:8080/",
          "height": 1067
        }
      },
      "cell_type": "code",
      "source": [
        "import numpy as np\n",
        "import networkx as nx\n",
        "import matplotlib.pyplot as plt\n",
        "\n",
        "def countComponents(image):\n",
        "  \n",
        "  G = nx.Graph()\n",
        "  for i in range(image.shape[0]):\n",
        "    for j in range(image.shape[1]):\n",
        "      if(image[i][j] == 0):\n",
        "        node = str(i) + str(j)\n",
        "        G.add_node(node)\n",
        "\n",
        "  for i in range(image.shape[0]):\n",
        "    for j in range(image.shape[1] - 1):\n",
        "      if(image[i][j] == 0 and image[i][j+1] == 0):\n",
        "        node1 = str(i) + str(j) \n",
        "        node2 = str(i) + str(j+1)\n",
        "        G.add_edge(node1, node2)\n",
        "\n",
        "  for i in range(image.T.shape[0]):\n",
        "    for j in range(image.T.shape[1] - 1):\n",
        "      if(image.T[i][j] == 0 and image.T[i][j+1] == 0):\n",
        "        node1 = str(j) + str(i) \n",
        "        node2 = str(j+1) + str(i)\n",
        "        G.add_edge(node1, node2)\n",
        "        \n",
        "  return len(list(nx.connected_components(G)))\n",
        "       \n",
        "train_regions = train_labels_original.reshape(train_labels_original.shape[0], 1)\n",
        "\n",
        "for i in range(10):\n",
        "  train_filter = np.where((train_labels_original == i))\n",
        "  train_images_bw, train_labels_bw = train_images_original[train_filter], train_labels_original[train_filter]\n",
        "  train_images_bw = train_images_bw.astype('float32') / 255\n",
        "  train_images_bw = np.around(train_images_bw)\n",
        "  digit_0 = train_images_bw[0]\n",
        "  plt.figure(figsize=(1,1))\n",
        "  plt.imshow(digit_0)\n",
        "  plt.grid(None)\n",
        "  plt.show()\n",
        "  num_components = countComponents(train_images_bw[0]) \n",
        "  train_regions[train_regions == i] = num_components\n",
        "  print(\"White regions: \", num_components)"
      ],
      "execution_count": 34,
      "outputs": [
        {
          "output_type": "display_data",
          "data": {
            "image/png": "[encoded data removed]",
            "text/plain": [
              "<Figure size 72x72 with 1 Axes>"
            ]
          },
          "metadata": {
            "tags": []
          }
        },
        {
          "output_type": "stream",
          "text": [
            "White regions:  2\n"
          ],
          "name": "stdout"
        },
        {
          "output_type": "display_data",
          "data": {
            "image/png": "[encoded data removed]",
            "text/plain": [
              "<Figure size 72x72 with 1 Axes>"
            ]
          },
          "metadata": {
            "tags": []
          }
        },
        {
          "output_type": "stream",
          "text": [
            "White regions:  1\n"
          ],
          "name": "stdout"
        },
        {
          "output_type": "display_data",
          "data": {
            "image/png": "[encoded data removed]",
            "text/plain": [
              "<Figure size 72x72 with 1 Axes>"
            ]
          },
          "metadata": {
            "tags": []
          }
        },
        {
          "output_type": "stream",
          "text": [
            "White regions:  2\n"
          ],
          "name": "stdout"
        },
        {
          "output_type": "display_data",
          "data": {
            "image/png": "[encoded data removed]",
            "text/plain": [
              "<Figure size 72x72 with 1 Axes>"
            ]
          },
          "metadata": {
            "tags": []
          }
        },
        {
          "output_type": "stream",
          "text": [
            "White regions:  1\n"
          ],
          "name": "stdout"
        },
        {
          "output_type": "display_data",
          "data": {
            "image/png": "[encoded data removed]",
            "text/plain": [
              "<Figure size 72x72 with 1 Axes>"
            ]
          },
          "metadata": {
            "tags": []
          }
        },
        {
          "output_type": "stream",
          "text": [
            "White regions:  1\n"
          ],
          "name": "stdout"
        },
        {
          "output_type": "display_data",
          "data": {
            "image/png": "[encoded data removed]",
            "text/plain": [
              "<Figure size 72x72 with 1 Axes>"
            ]
          },
          "metadata": {
            "tags": []
          }
        },
        {
          "output_type": "stream",
          "text": [
            "White regions:  1\n"
          ],
          "name": "stdout"
        },
        {
          "output_type": "display_data",
          "data": {
            "image/png": "[encoded data removed]",
            "text/plain": [
              "<Figure size 72x72 with 1 Axes>"
            ]
          },
          "metadata": {
            "tags": []
          }
        },
        {
          "output_type": "stream",
          "text": [
            "White regions:  2\n"
          ],
          "name": "stdout"
        },
        {
          "output_type": "display_data",
          "data": {
            "image/png": "[encoded data removed]",
            "text/plain": [
              "<Figure size 72x72 with 1 Axes>"
            ]
          },
          "metadata": {
            "tags": []
          }
        },
        {
          "output_type": "stream",
          "text": [
            "White regions:  1\n"
          ],
          "name": "stdout"
        },
        {
          "output_type": "display_data",
          "data": {
            "image/png": "[encoded data removed]",
            "text/plain": [
              "<Figure size 72x72 with 1 Axes>"
            ]
          },
          "metadata": {
            "tags": []
          }
        },
        {
          "output_type": "stream",
          "text": [
            "White regions:  3\n"
          ],
          "name": "stdout"
        },
        {
          "output_type": "display_data",
          "data": {
            "image/png": "[encoded data removed]",
            "text/plain": [
              "<Figure size 72x72 with 1 Axes>"
            ]
          },
          "metadata": {
            "tags": []
          }
        },
        {
          "output_type": "stream",
          "text": [
            "White regions:  2\n"
          ],
          "name": "stdout"
        }
      ]
    },
    {
      "metadata": {
        "id": "fgzvnZAnmC76",
        "colab_type": "text"
      },
      "cell_type": "markdown",
      "source": [
        "### The network architecture"
      ]
    },
    {
      "metadata": {
        "id": "fESrf7_qmLCG",
        "colab_type": "code",
        "outputId": "e6d299f3-6ff5-4a57-94b4-27080f9cf098",
        "colab": {
          "base_uri": "https://localhost:8080/",
          "height": 374
        }
      },
      "cell_type": "code",
      "source": [
        "from keras import models\n",
        "from keras import layers\n",
        "\n",
        "input1 = layers.Input(shape=(28 * 28,))\n",
        "x1 = layers.Dense(10, activation='softmax')(input1)\n",
        "input2 = layers.Input(shape=(28 * 28,))\n",
        "x2 = layers.Dense(10, activation='softmax')(input2)\n",
        "added = layers.Add()([x1, x2])\n",
        "\n",
        "out = layers.Dense(10)(added)\n",
        "model = models.Model(inputs=[input1, input2], outputs=out)\n",
        "\n",
        "model.compile(optimizer='rmsprop',\n",
        "                loss='categorical_crossentropy',\n",
        "                metrics=['accuracy'])\n",
        "epochs = 10\n",
        "history = model.fit([train_images, train_images], \n",
        "                      train_labels, \n",
        "                      epochs=epochs, \n",
        "                      batch_size=20, \n",
        "                      validation_data=([test_images, test_images], test_labels))"
      ],
      "execution_count": 0,
      "outputs": [
        {
          "output_type": "stream",
          "text": [
            "Train on 60000 samples, validate on 10000 samples\n",
            "Epoch 1/10\n",
            "60000/60000 [==============================] - 6s 104us/step - loss: 8.2648 - acc: 0.1349 - val_loss: 7.0232 - val_acc: 0.1722\n",
            "Epoch 2/10\n",
            "60000/60000 [==============================] - 5s 88us/step - loss: 7.2428 - acc: 0.1536 - val_loss: 8.1932 - val_acc: 0.1068\n",
            "Epoch 3/10\n",
            "60000/60000 [==============================] - 5s 89us/step - loss: 7.9275 - acc: 0.1107 - val_loss: 8.1865 - val_acc: 0.1056\n",
            "Epoch 4/10\n",
            "60000/60000 [==============================] - 5s 89us/step - loss: 8.0696 - acc: 0.1100 - val_loss: 8.1961 - val_acc: 0.1061\n",
            "Epoch 5/10\n",
            "60000/60000 [==============================] - 5s 87us/step - loss: 8.0165 - acc: 0.1105 - val_loss: 8.1898 - val_acc: 0.1063\n",
            "Epoch 6/10\n",
            "60000/60000 [==============================] - 5s 86us/step - loss: 7.9890 - acc: 0.1103 - val_loss: 7.5610 - val_acc: 0.1073\n",
            "Epoch 7/10\n",
            "60000/60000 [==============================] - 5s 87us/step - loss: 7.7697 - acc: 0.1105 - val_loss: 6.6326 - val_acc: 0.1062\n",
            "Epoch 8/10\n",
            "60000/60000 [==============================] - 5s 88us/step - loss: 7.1464 - acc: 0.1103 - val_loss: 7.2759 - val_acc: 0.1057\n",
            "Epoch 9/10\n",
            "60000/60000 [==============================] - 5s 89us/step - loss: 7.7727 - acc: 0.1100 - val_loss: 8.3040 - val_acc: 0.1018\n",
            "Epoch 10/10\n",
            "60000/60000 [==============================] - 5s 87us/step - loss: 8.0828 - acc: 0.1033 - val_loss: 8.3057 - val_acc: 0.1019\n"
          ],
          "name": "stdout"
        }
      ]
    }
  ]
}
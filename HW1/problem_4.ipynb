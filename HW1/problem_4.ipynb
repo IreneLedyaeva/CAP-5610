{
  "nbformat": 4,
  "nbformat_minor": 0,
  "metadata": {
    "colab": {
      "name": "problem_4.ipynb",
      "version": "0.3.2",
      "provenance": [],
      "include_colab_link": true
    },
    "kernelspec": {
      "name": "python3",
      "display_name": "Python 3"
    }
  },
  "cells": [
    {
      "cell_type": "markdown",
      "metadata": {
        "id": "view-in-github",
        "colab_type": "text"
      },
      "source": [
        "<a href=\"https://colab.research.google.com/github/IreneLedyaeva/CAP-5610/blob/master/HW1/problem_4.ipynb\" target=\"_parent\"><img src=\"https://colab.research.google.com/assets/colab-badge.svg\" alt=\"Open In Colab\"/></a>"
      ]
    },
    {
      "metadata": {
        "id": "T1L5i6vi7QKU",
        "colab_type": "text"
      },
      "cell_type": "markdown",
      "source": [
        "### Load the training and test data using Keras"
      ]
    },
    {
      "metadata": {
        "id": "hhLBHFkm7bYN",
        "colab_type": "code",
        "colab": {}
      },
      "cell_type": "code",
      "source": [
        "from keras.datasets import mnist\n",
        "\n",
        "(train_images_original, train_labels_original), (test_images_original, test_labels_original) = mnist.load_data()"
      ],
      "execution_count": 0,
      "outputs": []
    },
    {
      "metadata": {
        "id": "gGW5SZY_9Q-b",
        "colab_type": "text"
      },
      "cell_type": "markdown",
      "source": [
        "### Preparing the training and test images"
      ]
    },
    {
      "metadata": {
        "id": "ajUwoWMX9UV4",
        "colab_type": "code",
        "colab": {}
      },
      "cell_type": "code",
      "source": [
        "train_images = train_images_original.reshape(train_images_original.shape[0], 28 * 28)\n",
        "train_images = train_images.astype('float32') / 255\n",
        "\n",
        "test_images = test_images_original.reshape(test_images_original.shape[0], 28 * 28)\n",
        "test_images = test_images.astype('float32') / 255"
      ],
      "execution_count": 0,
      "outputs": []
    },
    {
      "metadata": {
        "id": "5RpAJp9I9rdO",
        "colab_type": "text"
      },
      "cell_type": "markdown",
      "source": [
        "### Encoding the training and test labels [0, 1]"
      ]
    },
    {
      "metadata": {
        "id": "u5L_gml_-CGc",
        "colab_type": "code",
        "colab": {}
      },
      "cell_type": "code",
      "source": [
        "from keras.utils import to_categorical\n",
        "\n",
        "train_labels = to_categorical(train_labels_original)\n",
        "test_labels = to_categorical(test_labels_original)"
      ],
      "execution_count": 0,
      "outputs": []
    },
    {
      "metadata": {
        "id": "fgzvnZAnmC76",
        "colab_type": "text"
      },
      "cell_type": "markdown",
      "source": [
        "### The network architecture"
      ]
    },
    {
      "metadata": {
        "id": "fESrf7_qmLCG",
        "colab_type": "code",
        "outputId": "6b4bc4e8-0f89-49a5-8513-7121407a9e07",
        "colab": {
          "base_uri": "https://localhost:8080/",
          "height": 374
        }
      },
      "cell_type": "code",
      "source": [
        "from keras import models\n",
        "from keras import layers\n",
        "\n",
        "network = models.Sequential()\n",
        "network.add(layers.Dense(10, activation='softmax', input_shape=(28 * 28,)))\n",
        "\n",
        "network.compile(optimizer='rmsprop',\n",
        "                loss='categorical_crossentropy',\n",
        "                metrics=['accuracy'])\n",
        "epochs = 10\n",
        "history = network.fit(train_images, \n",
        "                      train_labels, \n",
        "                      epochs=epochs, \n",
        "                      batch_size=20, \n",
        "                      validation_data=(test_images, test_labels))"
      ],
      "execution_count": 14,
      "outputs": [
        {
          "output_type": "stream",
          "text": [
            "Train on 60000 samples, validate on 10000 samples\n",
            "Epoch 1/10\n",
            "60000/60000 [==============================] - 5s 81us/step - loss: 0.4122 - acc: 0.8871 - val_loss: 0.3030 - val_acc: 0.9145\n",
            "Epoch 2/10\n",
            "60000/60000 [==============================] - 4s 72us/step - loss: 0.3037 - acc: 0.9165 - val_loss: 0.2972 - val_acc: 0.9207\n",
            "Epoch 3/10\n",
            "60000/60000 [==============================] - 4s 73us/step - loss: 0.2947 - acc: 0.9218 - val_loss: 0.2953 - val_acc: 0.9236\n",
            "Epoch 4/10\n",
            "60000/60000 [==============================] - 4s 72us/step - loss: 0.2936 - acc: 0.9237 - val_loss: 0.2976 - val_acc: 0.9233\n",
            "Epoch 5/10\n",
            "60000/60000 [==============================] - 4s 72us/step - loss: 0.2930 - acc: 0.9248 - val_loss: 0.2985 - val_acc: 0.9268\n",
            "Epoch 6/10\n",
            "60000/60000 [==============================] - 4s 71us/step - loss: 0.2933 - acc: 0.9262 - val_loss: 0.3002 - val_acc: 0.9257\n",
            "Epoch 7/10\n",
            "60000/60000 [==============================] - 4s 72us/step - loss: 0.2932 - acc: 0.9270 - val_loss: 0.3079 - val_acc: 0.9244\n",
            "Epoch 8/10\n",
            "60000/60000 [==============================] - 4s 71us/step - loss: 0.2947 - acc: 0.9272 - val_loss: 0.3068 - val_acc: 0.9270\n",
            "Epoch 9/10\n",
            "60000/60000 [==============================] - 4s 72us/step - loss: 0.2967 - acc: 0.9283 - val_loss: 0.3127 - val_acc: 0.9271\n",
            "Epoch 10/10\n",
            "60000/60000 [==============================] - 4s 72us/step - loss: 0.2978 - acc: 0.9286 - val_loss: 0.3162 - val_acc: 0.9286\n"
          ],
          "name": "stdout"
        }
      ]
    }
  ]
}
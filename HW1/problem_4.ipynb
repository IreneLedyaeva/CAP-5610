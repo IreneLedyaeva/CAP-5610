{
  "nbformat": 4,
  "nbformat_minor": 0,
  "metadata": {
    "colab": {
      "name": "problem_4.ipynb",
      "version": "0.3.2",
      "provenance": [],
      "include_colab_link": true
    },
    "kernelspec": {
      "name": "python3",
      "display_name": "Python 3"
    }
  },
  "cells": [
    {
      "cell_type": "markdown",
      "metadata": {
        "id": "view-in-github",
        "colab_type": "text"
      },
      "source": [
        "<a href=\"https://colab.research.google.com/github/IreneLedyaeva/CAP-5610/blob/master/HW1/problem_4.ipynb\" target=\"_parent\"><img src=\"https://colab.research.google.com/assets/colab-badge.svg\" alt=\"Open In Colab\"/></a>"
      ]
    },
    {
      "metadata": {
        "id": "T1L5i6vi7QKU",
        "colab_type": "text"
      },
      "cell_type": "markdown",
      "source": [
        "### Load the training and test data using Keras"
      ]
    },
    {
      "metadata": {
        "id": "hhLBHFkm7bYN",
        "colab_type": "code",
        "outputId": "ddf154a4-61f7-47ec-9719-f530fb433a08",
        "colab": {
          "base_uri": "https://localhost:8080/",
          "height": 68
        }
      },
      "cell_type": "code",
      "source": [
        "from keras.datasets import mnist\n",
        "\n",
        "(train_images_original, train_labels_original), (test_images_original, test_labels_original) = mnist.load_data()"
      ],
      "execution_count": 1,
      "outputs": [
        {
          "output_type": "stream",
          "text": [
            "Using TensorFlow backend.\n"
          ],
          "name": "stderr"
        },
        {
          "output_type": "stream",
          "text": [
            "Downloading data from https://s3.amazonaws.com/img-datasets/mnist.npz\n",
            "11493376/11490434 [==============================] - 0s 0us/step\n"
          ],
          "name": "stdout"
        }
      ]
    },
    {
      "metadata": {
        "id": "gGW5SZY_9Q-b",
        "colab_type": "text"
      },
      "cell_type": "markdown",
      "source": [
        "### Preparing the training and test images"
      ]
    },
    {
      "metadata": {
        "id": "ajUwoWMX9UV4",
        "colab_type": "code",
        "colab": {}
      },
      "cell_type": "code",
      "source": [
        "train_images = train_images_original.reshape(train_images_original.shape[0], 28 * 28)\n",
        "train_images = train_images.astype('float32') / 255\n",
        "\n",
        "test_images = test_images_original.reshape(test_images_original.shape[0], 28 * 28)\n",
        "test_images = test_images.astype('float32') / 255"
      ],
      "execution_count": 0,
      "outputs": []
    },
    {
      "metadata": {
        "id": "5RpAJp9I9rdO",
        "colab_type": "text"
      },
      "cell_type": "markdown",
      "source": [
        "### Encoding the training and test labels [0, 1]"
      ]
    },
    {
      "metadata": {
        "id": "u5L_gml_-CGc",
        "colab_type": "code",
        "colab": {}
      },
      "cell_type": "code",
      "source": [
        "from keras.utils import to_categorical\n",
        "\n",
        "train_labels = to_categorical(train_labels_original)\n",
        "test_labels = to_categorical(test_labels_original)"
      ],
      "execution_count": 0,
      "outputs": []
    },
    {
      "metadata": {
        "id": "fgzvnZAnmC76",
        "colab_type": "text"
      },
      "cell_type": "markdown",
      "source": [
        "### The network architecture"
      ]
    },
    {
      "metadata": {
        "id": "fESrf7_qmLCG",
        "colab_type": "code",
        "colab": {
          "base_uri": "https://localhost:8080/",
          "height": 374
        },
        "outputId": "96cae2df-68cf-4e55-e885-d33f31ead541"
      },
      "cell_type": "code",
      "source": [
        "import tensorflow as tf\n",
        "from tensorflow import keras\n",
        "\n",
        "model = keras.Sequential([\n",
        "    keras.layers.Flatten(input_shape=(28, 28)),\n",
        "    keras.layers.Dense(10, activation=tf.nn.softmax)\n",
        "])\n",
        "\n",
        "network.compile(optimizer='rmsprop',\n",
        "                loss='categorical_crossentropy',\n",
        "                metrics=['accuracy'])\n",
        "\n",
        "history = network.fit(train_images, \n",
        "                      train_labels, \n",
        "                      epochs=epochs, \n",
        "                      batch_size=10, \n",
        "                      validation_data=(test_images, test_labels))"
      ],
      "execution_count": 10,
      "outputs": [
        {
          "output_type": "stream",
          "text": [
            "Train on 60000 samples, validate on 10000 samples\n",
            "Epoch 1/10\n",
            "60000/60000 [==============================] - 7s 120us/step - loss: 0.3513 - acc: 0.9281 - val_loss: 0.3773 - val_acc: 0.9246\n",
            "Epoch 2/10\n",
            "60000/60000 [==============================] - 7s 116us/step - loss: 0.3536 - acc: 0.9279 - val_loss: 0.3794 - val_acc: 0.9248\n",
            "Epoch 3/10\n",
            "60000/60000 [==============================] - 7s 115us/step - loss: 0.3554 - acc: 0.9281 - val_loss: 0.3855 - val_acc: 0.9257\n",
            "Epoch 4/10\n",
            "60000/60000 [==============================] - 7s 116us/step - loss: 0.3575 - acc: 0.9281 - val_loss: 0.3875 - val_acc: 0.9264\n",
            "Epoch 5/10\n",
            "60000/60000 [==============================] - 7s 125us/step - loss: 0.3607 - acc: 0.9287 - val_loss: 0.3916 - val_acc: 0.9263\n",
            "Epoch 6/10\n",
            "60000/60000 [==============================] - 7s 121us/step - loss: 0.3623 - acc: 0.9289 - val_loss: 0.4019 - val_acc: 0.9241\n",
            "Epoch 7/10\n",
            "60000/60000 [==============================] - 7s 115us/step - loss: 0.3646 - acc: 0.9289 - val_loss: 0.3984 - val_acc: 0.9245\n",
            "Epoch 8/10\n",
            "60000/60000 [==============================] - 7s 115us/step - loss: 0.3655 - acc: 0.9294 - val_loss: 0.4002 - val_acc: 0.9265\n",
            "Epoch 9/10\n",
            "60000/60000 [==============================] - 7s 115us/step - loss: 0.3671 - acc: 0.9295 - val_loss: 0.4051 - val_acc: 0.9244\n",
            "Epoch 10/10\n",
            "60000/60000 [==============================] - 7s 115us/step - loss: 0.3700 - acc: 0.9296 - val_loss: 0.4170 - val_acc: 0.9239\n"
          ],
          "name": "stdout"
        }
      ]
    }
  ]
}
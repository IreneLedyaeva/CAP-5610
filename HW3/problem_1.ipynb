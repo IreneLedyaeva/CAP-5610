{
  "nbformat": 4,
  "nbformat_minor": 0,
  "metadata": {
    "colab": {
      "name": "problem_1.ipynb",
      "version": "0.3.2",
      "provenance": [],
      "include_colab_link": true
    },
    "kernelspec": {
      "name": "python3",
      "display_name": "Python 3"
    }
  },
  "cells": [
    {
      "cell_type": "markdown",
      "metadata": {
        "id": "view-in-github",
        "colab_type": "text"
      },
      "source": [
        "<a href=\"https://colab.research.google.com/github/IreneLedyaeva/CAP-5610/blob/master/HW3/problem_1.ipynb\" target=\"_parent\"><img src=\"https://colab.research.google.com/assets/colab-badge.svg\" alt=\"Open In Colab\"/></a>"
      ]
    },
    {
      "metadata": {
        "id": "k8qzSaD3500x",
        "colab_type": "text"
      },
      "cell_type": "markdown",
      "source": [
        "## Feature extraction with data augmentation"
      ]
    },
    {
      "metadata": {
        "id": "ce2jTPU16YS0",
        "colab_type": "text"
      },
      "cell_type": "markdown",
      "source": [
        "### Downloading the cats vs dogs data"
      ]
    },
    {
      "metadata": {
        "id": "5sNMhXrX6tgB",
        "colab_type": "code",
        "colab": {}
      },
      "cell_type": "code",
      "source": [
        "!wget --no-check-certificate \\\n",
        "    https://storage.googleapis.com/mledu-datasets/cats_and_dogs_filtered.zip \\\n",
        "    -O /tmp/cats_and_dogs_filtered.zip"
      ],
      "execution_count": 0,
      "outputs": []
    },
    {
      "metadata": {
        "id": "YT1qePtS66ln",
        "colab_type": "text"
      },
      "cell_type": "markdown",
      "source": [
        "### Extracting the data locally in /tmp"
      ]
    },
    {
      "metadata": {
        "id": "88_MQy2V64_g",
        "colab_type": "code",
        "colab": {}
      },
      "cell_type": "code",
      "source": [
        "import os\n",
        "import zipfile\n",
        "\n",
        "local_zip = '/tmp/cats_and_dogs_filtered.zip'\n",
        "zip_ref = zipfile.ZipFile(local_zip, 'r')\n",
        "zip_ref.extractall('/tmp')\n",
        "zip_ref.close()"
      ],
      "execution_count": 0,
      "outputs": []
    },
    {
      "metadata": {
        "id": "cn76w0Br7Rx7",
        "colab_type": "text"
      },
      "cell_type": "markdown",
      "source": [
        "### Training and validation directories"
      ]
    },
    {
      "metadata": {
        "id": "6QfJ21WK7eDu",
        "colab_type": "code",
        "colab": {}
      },
      "cell_type": "code",
      "source": [
        "base_dir = '/tmp/cats_and_dogs_filtered'\n",
        "train_dir = os.path.join(base_dir, 'train')\n",
        "validation_dir = os.path.join(base_dir, 'validation')\n",
        "\n",
        "train_cats_dir = os.path.join(train_dir, 'cats')\n",
        "train_dogs_dir = os.path.join(train_dir, 'dogs')\n",
        "\n",
        "validation_cats_dir = os.path.join(validation_dir, 'cats')\n",
        "validation_dogs_dir = os.path.join(validation_dir, 'dogs')"
      ],
      "execution_count": 0,
      "outputs": []
    },
    {
      "metadata": {
        "id": "AaM5xITo70vX",
        "colab_type": "text"
      },
      "cell_type": "markdown",
      "source": [
        "### Loading the convolutional base of VGG19"
      ]
    },
    {
      "metadata": {
        "id": "JQ48--GJ7_A6",
        "colab_type": "code",
        "colab": {}
      },
      "cell_type": "code",
      "source": [
        "from keras.applications import VGG19\n",
        "\n",
        "conv_base = VGG19(\n",
        "    weights='imagenet', \n",
        "    include_top=False, \n",
        "    input_shape=(150, 150, 3))"
      ],
      "execution_count": 0,
      "outputs": []
    },
    {
      "metadata": {
        "id": "jRu96RLD8a7L",
        "colab_type": "text"
      },
      "cell_type": "markdown",
      "source": [
        "### Freezing the convolutional base weights"
      ]
    },
    {
      "metadata": {
        "id": "lUUX9KhR8dzV",
        "colab_type": "code",
        "colab": {}
      },
      "cell_type": "code",
      "source": [
        "conv_base.trainable = False"
      ],
      "execution_count": 0,
      "outputs": []
    },
    {
      "metadata": {
        "id": "VuVPwCkm82xV",
        "colab_type": "text"
      },
      "cell_type": "markdown",
      "source": [
        "### Building the model by adding new dense layers"
      ]
    },
    {
      "metadata": {
        "id": "0r6SgUdc86HZ",
        "colab_type": "code",
        "outputId": "791e1d9a-be04-4619-afe2-186d415b37a9",
        "colab": {
          "base_uri": "https://localhost:8080/",
          "height": 272
        }
      },
      "cell_type": "code",
      "source": [
        "from keras import layers\n",
        "from keras import models\n",
        "\n",
        "model = models.Sequential()\n",
        "model.add(conv_base)\n",
        "model.add(layers.Flatten())\n",
        "model.add(layers.Dense(256, activation='relu'))\n",
        "model.add(layers.Dense(1, activation='sigmoid'))\n",
        "\n",
        "model.summary()"
      ],
      "execution_count": 0,
      "outputs": [
        {
          "output_type": "stream",
          "text": [
            "_________________________________________________________________\n",
            "Layer (type)                 Output Shape              Param #   \n",
            "=================================================================\n",
            "vgg19 (Model)                (None, 4, 4, 512)         20024384  \n",
            "_________________________________________________________________\n",
            "flatten_1 (Flatten)          (None, 8192)              0         \n",
            "_________________________________________________________________\n",
            "dense_1 (Dense)              (None, 256)               2097408   \n",
            "_________________________________________________________________\n",
            "dense_2 (Dense)              (None, 1)                 257       \n",
            "=================================================================\n",
            "Total params: 22,122,049\n",
            "Trainable params: 2,097,665\n",
            "Non-trainable params: 20,024,384\n",
            "_________________________________________________________________\n"
          ],
          "name": "stdout"
        }
      ]
    },
    {
      "metadata": {
        "id": "aBnPEfIS9Xso",
        "colab_type": "text"
      },
      "cell_type": "markdown",
      "source": [
        "### Data augmentation\n",
        "Validation data should not be augmented"
      ]
    },
    {
      "metadata": {
        "id": "BtOsH2Cy9cM4",
        "colab_type": "code",
        "outputId": "da64aa41-6e13-4fee-a5fc-a712d85032f6",
        "colab": {
          "base_uri": "https://localhost:8080/",
          "height": 51
        }
      },
      "cell_type": "code",
      "source": [
        "from keras.preprocessing.image import ImageDataGenerator\n",
        "\n",
        "train_datagen = ImageDataGenerator(\n",
        "    rescale=1./255, \n",
        "    rotation_range=40,\n",
        "    width_shift_range=0.2,\n",
        "    height_shift_range=0.2,\n",
        "    shear_range=0.2,\n",
        "    zoom_range=0.2,\n",
        "    horizontal_flip=True,\n",
        "    fill_mode='nearest')\n",
        "\n",
        "train_generator = train_datagen.flow_from_directory(\n",
        "    train_dir,\n",
        "    target_size=(150, 150),\n",
        "    batch_size=20,\n",
        "    class_mode='binary')\n",
        "\n",
        "validation_datagen = ImageDataGenerator(rescale=1./255)\n",
        "\n",
        "validation_generator = validation_datagen.flow_from_directory(\n",
        "    validation_dir,\n",
        "    target_size=(150, 150),\n",
        "    batch_size=20,\n",
        "    class_mode='binary')"
      ],
      "execution_count": 9,
      "outputs": [
        {
          "output_type": "stream",
          "text": [
            "Found 2000 images belonging to 2 classes.\n",
            "Found 1000 images belonging to 2 classes.\n"
          ],
          "name": "stdout"
        }
      ]
    },
    {
      "metadata": {
        "id": "VjZLZBzA9w1i",
        "colab_type": "text"
      },
      "cell_type": "markdown",
      "source": [
        "### Running the model"
      ]
    },
    {
      "metadata": {
        "id": "oS8Q8lfX90QX",
        "colab_type": "code",
        "outputId": "4057c0d8-6a66-4174-ccf4-70478e4668a5",
        "colab": {
          "base_uri": "https://localhost:8080/",
          "height": 1020
        }
      },
      "cell_type": "code",
      "source": [
        "from keras import optimizers\n",
        "\n",
        "model.compile(\n",
        "    loss='binary_crossentropy', \n",
        "    optimizer=optimizers.RMSprop(lr=2e-5), \n",
        "    metrics=['accuracy'])\n",
        "\n",
        "history = model.fit_generator(\n",
        "    train_generator,\n",
        "    steps_per_epoch=50,\n",
        "    epochs=30,\n",
        "    validation_data=validation_generator,\n",
        "    validation_steps=25)"
      ],
      "execution_count": 0,
      "outputs": [
        {
          "output_type": "stream",
          "text": [
            "50/50 [==============================] - 442s 9s/step - loss: 0.6539 - acc: 0.6190 - val_loss: 0.5816 - val_acc: 0.7020\n",
            "Epoch 2/30\n",
            "50/50 [==============================] - 439s 9s/step - loss: 0.5855 - acc: 0.7320 - val_loss: 0.4866 - val_acc: 0.7980\n",
            "Epoch 3/30\n",
            "50/50 [==============================] - 438s 9s/step - loss: 0.5366 - acc: 0.7450 - val_loss: 0.4612 - val_acc: 0.7980\n",
            "Epoch 4/30\n",
            "50/50 [==============================] - 438s 9s/step - loss: 0.5144 - acc: 0.7420 - val_loss: 0.4245 - val_acc: 0.7900\n",
            "Epoch 5/30\n",
            "50/50 [==============================] - 439s 9s/step - loss: 0.4734 - acc: 0.7810 - val_loss: 0.3992 - val_acc: 0.8200\n",
            "Epoch 6/30\n",
            "50/50 [==============================] - 441s 9s/step - loss: 0.4862 - acc: 0.7630 - val_loss: 0.3896 - val_acc: 0.8340\n",
            "Epoch 7/30\n",
            "50/50 [==============================] - 440s 9s/step - loss: 0.4488 - acc: 0.7880 - val_loss: 0.3707 - val_acc: 0.8380\n",
            "Epoch 8/30\n",
            "50/50 [==============================] - 438s 9s/step - loss: 0.4702 - acc: 0.7790 - val_loss: 0.3575 - val_acc: 0.8300\n",
            "Epoch 9/30\n",
            "50/50 [==============================] - 437s 9s/step - loss: 0.4408 - acc: 0.8050 - val_loss: 0.3425 - val_acc: 0.8400\n",
            "Epoch 10/30\n",
            "50/50 [==============================] - 437s 9s/step - loss: 0.4316 - acc: 0.8120 - val_loss: 0.3459 - val_acc: 0.8540\n",
            "Epoch 11/30\n",
            "50/50 [==============================] - 437s 9s/step - loss: 0.4398 - acc: 0.8000 - val_loss: 0.3548 - val_acc: 0.8440\n",
            "Epoch 12/30\n",
            "50/50 [==============================] - 438s 9s/step - loss: 0.4076 - acc: 0.8140 - val_loss: 0.3137 - val_acc: 0.8640\n",
            "Epoch 13/30\n",
            "50/50 [==============================] - 436s 9s/step - loss: 0.4141 - acc: 0.8140 - val_loss: 0.3295 - val_acc: 0.8380\n",
            "Epoch 14/30\n",
            "50/50 [==============================] - 437s 9s/step - loss: 0.4131 - acc: 0.8120 - val_loss: 0.3177 - val_acc: 0.8600\n",
            "Epoch 15/30\n",
            "50/50 [==============================] - 436s 9s/step - loss: 0.3744 - acc: 0.8360 - val_loss: 0.2918 - val_acc: 0.8720\n",
            "Epoch 16/30\n",
            "50/50 [==============================] - 437s 9s/step - loss: 0.4196 - acc: 0.8050 - val_loss: 0.3667 - val_acc: 0.8360\n",
            "Epoch 17/30\n",
            "50/50 [==============================] - 438s 9s/step - loss: 0.3830 - acc: 0.8230 - val_loss: 0.3249 - val_acc: 0.8560\n",
            "Epoch 18/30\n",
            "50/50 [==============================] - 437s 9s/step - loss: 0.3987 - acc: 0.8140 - val_loss: 0.2876 - val_acc: 0.8660\n",
            "Epoch 19/30\n",
            "50/50 [==============================] - 438s 9s/step - loss: 0.3673 - acc: 0.8370 - val_loss: 0.3139 - val_acc: 0.8420\n",
            "Epoch 20/30\n",
            "50/50 [==============================] - 438s 9s/step - loss: 0.3922 - acc: 0.8190 - val_loss: 0.2872 - val_acc: 0.8740\n",
            "Epoch 21/30\n",
            "50/50 [==============================] - 438s 9s/step - loss: 0.3629 - acc: 0.8430 - val_loss: 0.3282 - val_acc: 0.8640\n",
            "Epoch 22/30\n",
            "50/50 [==============================] - 439s 9s/step - loss: 0.3706 - acc: 0.8280 - val_loss: 0.2795 - val_acc: 0.8800\n",
            "Epoch 23/30\n",
            "50/50 [==============================] - 438s 9s/step - loss: 0.3682 - acc: 0.8500 - val_loss: 0.2853 - val_acc: 0.8780\n",
            "Epoch 24/30\n",
            "50/50 [==============================] - 438s 9s/step - loss: 0.3880 - acc: 0.8110 - val_loss: 0.2910 - val_acc: 0.8620\n",
            "Epoch 25/30\n",
            "50/50 [==============================] - 439s 9s/step - loss: 0.3754 - acc: 0.8250 - val_loss: 0.2858 - val_acc: 0.8600\n",
            "Epoch 26/30\n",
            "50/50 [==============================] - 439s 9s/step - loss: 0.3551 - acc: 0.8460 - val_loss: 0.2847 - val_acc: 0.8800\n",
            "Epoch 27/30\n",
            "50/50 [==============================] - 438s 9s/step - loss: 0.3718 - acc: 0.8370 - val_loss: 0.3043 - val_acc: 0.8680\n",
            "Epoch 28/30\n",
            "50/50 [==============================] - 438s 9s/step - loss: 0.3672 - acc: 0.8410 - val_loss: 0.2756 - val_acc: 0.8840\n",
            "Epoch 29/30\n",
            "50/50 [==============================] - 438s 9s/step - loss: 0.3559 - acc: 0.8330 - val_loss: 0.2886 - val_acc: 0.8700\n",
            "Epoch 30/30\n",
            "50/50 [==============================] - 439s 9s/step - loss: 0.3532 - acc: 0.8470 - val_loss: 0.2718 - val_acc: 0.8880\n"
          ],
          "name": "stdout"
        }
      ]
    },
    {
      "metadata": {
        "id": "dojWyjUYcmJl",
        "colab_type": "text"
      },
      "cell_type": "markdown",
      "source": [
        "### Checking overfitting"
      ]
    },
    {
      "metadata": {
        "id": "mUL22HPCcovm",
        "colab_type": "code",
        "outputId": "41c18b16-eeb1-47a0-dca6-51d70856d757",
        "colab": {
          "base_uri": "https://localhost:8080/",
          "height": 545
        }
      },
      "cell_type": "code",
      "source": [
        "import matplotlib.pyplot as plt\n",
        "\n",
        "acc = history.history['acc']\n",
        "val_acc = history.history['val_acc']\n",
        "\n",
        "loss = history.history['loss']\n",
        "val_loss = history.history['val_loss']\n",
        "\n",
        "epochs = range(1, len(acc) + 1)\n",
        "\n",
        "plt.plot(epochs, acc, 'bo', label='training acc')\n",
        "plt.plot(epochs, val_acc, 'b', label='validation acc')\n",
        "plt.title('training and validation accuracy')\n",
        "plt.legend()\n",
        "\n",
        "plt.figure()\n",
        "\n",
        "plt.plot(epochs, loss, 'bo', label='training loss')\n",
        "plt.plot(epochs, val_loss, 'b', label='validation loss')\n",
        "plt.title('training and validation loss')\n",
        "plt.legend()\n",
        "\n",
        "plt.show()"
      ],
      "execution_count": 0,
      "outputs": [
        {
          "output_type": "display_data",
          "data": {
            "image/png": "[encoded data removed]",
            "text/plain": [
              "<Figure size 432x288 with 1 Axes>"
            ]
          },
          "metadata": {
            "tags": []
          }
        },
        {
          "output_type": "display_data",
          "data": {
            "image/png": "[encoded data removed]",
            "text/plain": [
              "<Figure size 432x288 with 1 Axes>"
            ]
          },
          "metadata": {
            "tags": []
          }
        }
      ]
    },
    {
      "metadata": {
        "id": "Py7ulWvqcycB",
        "colab_type": "text"
      },
      "cell_type": "markdown",
      "source": [
        "### Printing out validation loss and accuracy"
      ]
    },
    {
      "metadata": {
        "id": "mXQJmkojc0pD",
        "colab_type": "code",
        "colab": {}
      },
      "cell_type": "code",
      "source": [
        "val_loss, val_acc = model.evaluate_generator(validation_generator, steps=25)"
      ],
      "execution_count": 0,
      "outputs": []
    },
    {
      "metadata": {
        "id": "xtSO1fLzd38G",
        "colab_type": "code",
        "outputId": "1abc4c4f-25c7-4525-8a4f-5246a4d05022",
        "colab": {
          "base_uri": "https://localhost:8080/",
          "height": 51
        }
      },
      "cell_type": "code",
      "source": [
        "print(\"Validation loss:\", val_loss)\n",
        "print(\"Validation accuracy:\", val_acc)"
      ],
      "execution_count": 0,
      "outputs": [
        {
          "output_type": "stream",
          "text": [
            "Validation loss: 0.2707520940899849\n",
            "Validation accuracy: 0.8859999990463256\n"
          ],
          "name": "stdout"
        }
      ]
    },
    {
      "metadata": {
        "id": "KT4gZVmwc7Z6",
        "colab_type": "text"
      },
      "cell_type": "markdown",
      "source": [
        "### Saving the model"
      ]
    },
    {
      "metadata": {
        "id": "8M5G2f17c_TE",
        "colab_type": "code",
        "colab": {}
      },
      "cell_type": "code",
      "source": [
        "model_fname = 'cats_and_dogs_pretrained.h5' \n",
        "model.save(model_fname)\n",
        "\n",
        "from google.colab import files\n",
        "\n",
        "with open(model_fname, 'r') as f:\n",
        "  files.download(model_fname)"
      ],
      "execution_count": 0,
      "outputs": []
    },
    {
      "metadata": {
        "id": "IV08WVT_9kj7",
        "colab_type": "text"
      },
      "cell_type": "markdown",
      "source": [
        "### Uploading the model"
      ]
    },
    {
      "metadata": {
        "id": "yYuE7y1a9Uzj",
        "colab_type": "code",
        "colab": {}
      },
      "cell_type": "code",
      "source": [
        "from google.colab import files\n",
        "\n",
        "uploaded = files.upload()"
      ],
      "execution_count": 0,
      "outputs": []
    },
    {
      "metadata": {
        "id": "K17d4ipxE3yz",
        "colab_type": "text"
      },
      "cell_type": "markdown",
      "source": [
        "### Loading the model"
      ]
    },
    {
      "metadata": {
        "id": "ehMRONbwE6T0",
        "colab_type": "code",
        "colab": {}
      },
      "cell_type": "code",
      "source": [
        "from keras.models import load_model\n",
        "\n",
        "model = load_model('cats_and_dogs_pretrained.h5')"
      ],
      "execution_count": 0,
      "outputs": []
    },
    {
      "metadata": {
        "id": "cZ7B8572Pnv_",
        "colab_type": "text"
      },
      "cell_type": "markdown",
      "source": [
        "### Downloading the image"
      ]
    },
    {
      "metadata": {
        "id": "whPa9Tf0NoJY",
        "colab_type": "code",
        "colab": {}
      },
      "cell_type": "code",
      "source": [
        "!wget https://cdn.royalcanin-weshare-online.io/d_o7IGYBIYfdNSoC2wgt/v1/bd29h-basset-hound-adult-in-black-and-white?raw=true -O basset_hound.jpg\n",
        "  \n",
        "img_path1 = 'basset_hound.jpg'"
      ],
      "execution_count": 0,
      "outputs": []
    },
    {
      "metadata": {
        "id": "05pyPzTPPqrd",
        "colab_type": "text"
      },
      "cell_type": "markdown",
      "source": [
        "### Predicting the image"
      ]
    },
    {
      "metadata": {
        "id": "X1v0UbinNcI8",
        "colab_type": "code",
        "outputId": "2f2a8fbe-324e-4442-93a1-a0f24a7d8e17",
        "colab": {
          "base_uri": "https://localhost:8080/",
          "height": 269
        }
      },
      "cell_type": "code",
      "source": [
        "import tensorflow\n",
        "from tensorflow.keras.preprocessing import image\n",
        "import matplotlib.pyplot as plt\n",
        "import numpy as np\n",
        "\n",
        "img1 = image.load_img(img_path1, target_size=(150, 150))\n",
        "img = image.img_to_array(img1)\n",
        "img = img/255\n",
        "\n",
        "img = np.expand_dims(img, axis=0)\n",
        "prediction = model.predict(img, batch_size=None,steps=1)\n",
        "if(prediction[:,:]>0.5):\n",
        "    value ='Dog :%1.2f'%(prediction[0,0])\n",
        "    plt.text(20, 62,value,color='red',fontsize=18,bbox=dict(facecolor='white',alpha=0.8))\n",
        "else:\n",
        "    value ='Cat :%1.2f'%(1.0-prediction[0,0])\n",
        "    plt.text(20, 62,value,color='red',fontsize=18,bbox=dict(facecolor='white',alpha=0.8))\n",
        "\n",
        "plt.imshow(img1)\n",
        "plt.show()"
      ],
      "execution_count": 4,
      "outputs": [
        {
          "output_type": "display_data",
          "data": {
            "image/png": "[encoded data removed]",
            "text/plain": [
              "<Figure size 432x288 with 1 Axes>"
            ]
          },
          "metadata": {
            "tags": []
          }
        }
      ]
    },
    {
      "metadata": {
        "id": "nz2e0HRfFAig",
        "colab_type": "text"
      },
      "cell_type": "markdown",
      "source": [
        "### Predictions"
      ]
    },
    {
      "metadata": {
        "id": "TaNQN3VEFC6-",
        "colab_type": "code",
        "colab": {}
      },
      "cell_type": "code",
      "source": [
        "predictions = model.predict_generator(validation_generator, steps=50)\n",
        "y_pred = [1 * (x[0] >= 0.5) for x in predictions]"
      ],
      "execution_count": 0,
      "outputs": []
    },
    {
      "metadata": {
        "id": "E1UVL19vALkW",
        "colab_type": "text"
      },
      "cell_type": "markdown",
      "source": [
        "### Confusion matrix"
      ]
    },
    {
      "metadata": {
        "id": "I2TKonFbAUsw",
        "colab_type": "code",
        "outputId": "fe2505ae-1c1a-46c2-9eb0-bb52cccea11e",
        "colab": {
          "base_uri": "https://localhost:8080/",
          "height": 300
        }
      },
      "cell_type": "code",
      "source": [
        "from sklearn.metrics import confusion_matrix\n",
        "import seaborn as sns\n",
        "\n",
        "conf_matrix = confusion_matrix(validation_generator.classes, y_pred)\n",
        "\n",
        "sns.heatmap(conf_matrix,cmap=\"YlGnBu\",annot=True,fmt='g')\n",
        "plt.xlabel('predicted value')\n",
        "plt.ylabel('true value')"
      ],
      "execution_count": 11,
      "outputs": [
        {
          "output_type": "execute_result",
          "data": {
            "text/plain": [
              "Text(33.0, 0.5, 'true value')"
            ]
          },
          "metadata": {
            "tags": []
          },
          "execution_count": 11
        },
        {
          "output_type": "display_data",
          "data": {
            "image/png": "[encoded data removed]",
            "text/plain": [
              "<Figure size 432x288 with 2 Axes>"
            ]
          },
          "metadata": {
            "tags": []
          }
        }
      ]
    }
  ]
}
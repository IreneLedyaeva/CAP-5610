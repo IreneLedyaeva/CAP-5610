{
  "nbformat": 4,
  "nbformat_minor": 0,
  "metadata": {
    "colab": {
      "name": "problem_2.ipynb",
      "version": "0.3.2",
      "provenance": [],
      "include_colab_link": true
    },
    "kernelspec": {
      "name": "python3",
      "display_name": "Python 3"
    }
  },
  "cells": [
    {
      "cell_type": "markdown",
      "metadata": {
        "id": "view-in-github",
        "colab_type": "text"
      },
      "source": [
        "<a href=\"https://colab.research.google.com/github/IreneLedyaeva/CAP-5610/blob/master/HW3/problem_2.ipynb\" target=\"_parent\"><img src=\"https://colab.research.google.com/assets/colab-badge.svg\" alt=\"Open In Colab\"/></a>"
      ]
    },
    {
      "metadata": {
        "id": "k8qzSaD3500x",
        "colab_type": "text"
      },
      "cell_type": "markdown",
      "source": [
        "## Fine-tuning with data augmentation"
      ]
    },
    {
      "metadata": {
        "id": "ce2jTPU16YS0",
        "colab_type": "text"
      },
      "cell_type": "markdown",
      "source": [
        "### Downloading the cats vs dogs data"
      ]
    },
    {
      "metadata": {
        "id": "5sNMhXrX6tgB",
        "colab_type": "code",
        "colab": {}
      },
      "cell_type": "code",
      "source": [
        "!wget --no-check-certificate \\\n",
        "    https://storage.googleapis.com/mledu-datasets/cats_and_dogs_filtered.zip \\\n",
        "    -O /tmp/cats_and_dogs_filtered.zip"
      ],
      "execution_count": 0,
      "outputs": []
    },
    {
      "metadata": {
        "id": "YT1qePtS66ln",
        "colab_type": "text"
      },
      "cell_type": "markdown",
      "source": [
        "### Extracting the data locally in /tmp"
      ]
    },
    {
      "metadata": {
        "id": "88_MQy2V64_g",
        "colab_type": "code",
        "colab": {}
      },
      "cell_type": "code",
      "source": [
        "import os\n",
        "import zipfile\n",
        "\n",
        "local_zip = '/tmp/cats_and_dogs_filtered.zip'\n",
        "zip_ref = zipfile.ZipFile(local_zip, 'r')\n",
        "zip_ref.extractall('/tmp')\n",
        "zip_ref.close()"
      ],
      "execution_count": 0,
      "outputs": []
    },
    {
      "metadata": {
        "id": "cn76w0Br7Rx7",
        "colab_type": "text"
      },
      "cell_type": "markdown",
      "source": [
        "### Training and validation directories"
      ]
    },
    {
      "metadata": {
        "id": "6QfJ21WK7eDu",
        "colab_type": "code",
        "colab": {}
      },
      "cell_type": "code",
      "source": [
        "base_dir = '/tmp/cats_and_dogs_filtered'\n",
        "train_dir = os.path.join(base_dir, 'train')\n",
        "validation_dir = os.path.join(base_dir, 'validation')\n",
        "\n",
        "train_cats_dir = os.path.join(train_dir, 'cats')\n",
        "train_dogs_dir = os.path.join(train_dir, 'dogs')\n",
        "\n",
        "validation_cats_dir = os.path.join(validation_dir, 'cats')\n",
        "validation_dogs_dir = os.path.join(validation_dir, 'dogs')"
      ],
      "execution_count": 0,
      "outputs": []
    },
    {
      "metadata": {
        "id": "AaM5xITo70vX",
        "colab_type": "text"
      },
      "cell_type": "markdown",
      "source": [
        "### Loading the convolutional base of VGG19"
      ]
    },
    {
      "metadata": {
        "id": "JQ48--GJ7_A6",
        "colab_type": "code",
        "colab": {}
      },
      "cell_type": "code",
      "source": [
        "from keras.applications import VGG19\n",
        "\n",
        "conv_base = VGG19(\n",
        "    weights='imagenet', \n",
        "    include_top=False, \n",
        "    input_shape=(150, 150, 3))"
      ],
      "execution_count": 0,
      "outputs": []
    },
    {
      "metadata": {
        "id": "jRu96RLD8a7L",
        "colab_type": "text"
      },
      "cell_type": "markdown",
      "source": [
        "### Freezing the convolutional base weights"
      ]
    },
    {
      "metadata": {
        "id": "lUUX9KhR8dzV",
        "colab_type": "code",
        "colab": {}
      },
      "cell_type": "code",
      "source": [
        "conv_base.trainable = False"
      ],
      "execution_count": 0,
      "outputs": []
    },
    {
      "metadata": {
        "id": "VuVPwCkm82xV",
        "colab_type": "text"
      },
      "cell_type": "markdown",
      "source": [
        "### Building the model by adding new dense layers"
      ]
    },
    {
      "metadata": {
        "id": "0r6SgUdc86HZ",
        "colab_type": "code",
        "outputId": "1f1a63aa-fdef-4c81-a73a-8986f2d866e4",
        "colab": {
          "base_uri": "https://localhost:8080/",
          "height": 272
        }
      },
      "cell_type": "code",
      "source": [
        "from keras import layers\n",
        "from keras import models\n",
        "\n",
        "model = models.Sequential()\n",
        "model.add(conv_base)\n",
        "model.add(layers.Flatten())\n",
        "model.add(layers.Dense(256, activation='relu'))\n",
        "model.add(layers.Dense(1, activation='sigmoid'))\n",
        "\n",
        "model.summary()"
      ],
      "execution_count": 6,
      "outputs": [
        {
          "output_type": "stream",
          "text": [
            "_________________________________________________________________\n",
            "Layer (type)                 Output Shape              Param #   \n",
            "=================================================================\n",
            "vgg19 (Model)                (None, 4, 4, 512)         20024384  \n",
            "_________________________________________________________________\n",
            "flatten_1 (Flatten)          (None, 8192)              0         \n",
            "_________________________________________________________________\n",
            "dense_1 (Dense)              (None, 256)               2097408   \n",
            "_________________________________________________________________\n",
            "dense_2 (Dense)              (None, 1)                 257       \n",
            "=================================================================\n",
            "Total params: 22,122,049\n",
            "Trainable params: 2,097,665\n",
            "Non-trainable params: 20,024,384\n",
            "_________________________________________________________________\n"
          ],
          "name": "stdout"
        }
      ]
    },
    {
      "metadata": {
        "id": "aBnPEfIS9Xso",
        "colab_type": "text"
      },
      "cell_type": "markdown",
      "source": [
        "### Data augmentation\n",
        "Validation data should not be augmented"
      ]
    },
    {
      "metadata": {
        "id": "BtOsH2Cy9cM4",
        "colab_type": "code",
        "outputId": "9a718a92-b377-48ee-8124-6321c0cb7273",
        "colab": {
          "base_uri": "https://localhost:8080/",
          "height": 51
        }
      },
      "cell_type": "code",
      "source": [
        "from keras.preprocessing.image import ImageDataGenerator\n",
        "\n",
        "train_datagen = ImageDataGenerator(\n",
        "    rescale=1./255, \n",
        "    rotation_range=40,\n",
        "    width_shift_range=0.2,\n",
        "    height_shift_range=0.2,\n",
        "    shear_range=0.2,\n",
        "    zoom_range=0.2,\n",
        "    horizontal_flip=True,\n",
        "    fill_mode='nearest')\n",
        "\n",
        "train_generator = train_datagen.flow_from_directory(\n",
        "    train_dir,\n",
        "    target_size=(150, 150),\n",
        "    batch_size=20,\n",
        "    class_mode='binary')\n",
        "\n",
        "validation_datagen = ImageDataGenerator(rescale=1./255)\n",
        "\n",
        "validation_generator = validation_datagen.flow_from_directory(\n",
        "    validation_dir,\n",
        "    target_size=(150, 150),\n",
        "    batch_size=20,\n",
        "    class_mode='binary')"
      ],
      "execution_count": 7,
      "outputs": [
        {
          "output_type": "stream",
          "text": [
            "Found 2000 images belonging to 2 classes.\n",
            "Found 1000 images belonging to 2 classes.\n"
          ],
          "name": "stdout"
        }
      ]
    },
    {
      "metadata": {
        "id": "pa9qdmv4Y7u0",
        "colab_type": "text"
      },
      "cell_type": "markdown",
      "source": [
        "### Fine-tuning the model"
      ]
    },
    {
      "metadata": {
        "id": "_MeOgmbxY_pK",
        "colab_type": "code",
        "outputId": "f5f34da7-94db-46a3-da9f-b63717f1f110",
        "colab": {
          "base_uri": "https://localhost:8080/",
          "height": 391
        }
      },
      "cell_type": "code",
      "source": [
        "conv_base.trainable = True\n",
        "\n",
        "set_trainable = False\n",
        "for layer in conv_base.layers:\n",
        "  if layer.name == 'block5_conv1':\n",
        "    set_trainable = True\n",
        "  if set_trainable:\n",
        "    layer.trainable = True\n",
        "  else:\n",
        "    layer.trainable = False\n",
        "  print(layer.name, layer.trainable)"
      ],
      "execution_count": 8,
      "outputs": [
        {
          "output_type": "stream",
          "text": [
            "input_1 False\n",
            "block1_conv1 False\n",
            "block1_conv2 False\n",
            "block1_pool False\n",
            "block2_conv1 False\n",
            "block2_conv2 False\n",
            "block2_pool False\n",
            "block3_conv1 False\n",
            "block3_conv2 False\n",
            "block3_conv3 False\n",
            "block3_conv4 False\n",
            "block3_pool False\n",
            "block4_conv1 False\n",
            "block4_conv2 False\n",
            "block4_conv3 False\n",
            "block4_conv4 False\n",
            "block4_pool False\n",
            "block5_conv1 True\n",
            "block5_conv2 True\n",
            "block5_conv3 True\n",
            "block5_conv4 True\n",
            "block5_pool True\n"
          ],
          "name": "stdout"
        }
      ]
    },
    {
      "metadata": {
        "id": "VjZLZBzA9w1i",
        "colab_type": "text"
      },
      "cell_type": "markdown",
      "source": [
        "### Running the model"
      ]
    },
    {
      "metadata": {
        "id": "oS8Q8lfX90QX",
        "colab_type": "code",
        "outputId": "7a3ea11e-5372-48d1-a785-3316d43f9c61",
        "colab": {
          "base_uri": "https://localhost:8080/",
          "height": 1020
        }
      },
      "cell_type": "code",
      "source": [
        "from keras import optimizers\n",
        "\n",
        "model.compile(\n",
        "    loss='binary_crossentropy',\n",
        "    optimizer=optimizers.RMSprop(lr=1e-5), \n",
        "    metrics=['accuracy'])\n",
        "\n",
        "history = model.fit_generator(\n",
        "    train_generator,\n",
        "    steps_per_epoch=50,\n",
        "    epochs=30,\n",
        "    validation_data=validation_generator,\n",
        "    validation_steps=25)"
      ],
      "execution_count": 9,
      "outputs": [
        {
          "output_type": "stream",
          "text": [
            "50/50 [==============================] - 499s 10s/step - loss: 0.6332 - acc: 0.6440 - val_loss: 0.5237 - val_acc: 0.7400\n",
            "Epoch 2/30\n",
            "50/50 [==============================] - 496s 10s/step - loss: 0.4751 - acc: 0.7810 - val_loss: 0.4080 - val_acc: 0.7960\n",
            "Epoch 3/30\n",
            "50/50 [==============================] - 498s 10s/step - loss: 0.4065 - acc: 0.8180 - val_loss: 0.3389 - val_acc: 0.8320\n",
            "Epoch 4/30\n",
            "50/50 [==============================] - 500s 10s/step - loss: 0.4059 - acc: 0.8170 - val_loss: 0.4482 - val_acc: 0.8120\n",
            "Epoch 5/30\n",
            "50/50 [==============================] - 498s 10s/step - loss: 0.3718 - acc: 0.8190 - val_loss: 0.3483 - val_acc: 0.8500\n",
            "Epoch 6/30\n",
            "50/50 [==============================] - 498s 10s/step - loss: 0.3258 - acc: 0.8500 - val_loss: 0.2245 - val_acc: 0.9020\n",
            "Epoch 7/30\n",
            "50/50 [==============================] - 500s 10s/step - loss: 0.2837 - acc: 0.8840 - val_loss: 0.2372 - val_acc: 0.8960\n",
            "Epoch 8/30\n",
            "50/50 [==============================] - 501s 10s/step - loss: 0.2964 - acc: 0.8740 - val_loss: 0.2859 - val_acc: 0.8840\n",
            "Epoch 9/30\n",
            "50/50 [==============================] - 498s 10s/step - loss: 0.2933 - acc: 0.8810 - val_loss: 0.2481 - val_acc: 0.9000\n",
            "Epoch 10/30\n",
            "50/50 [==============================] - 496s 10s/step - loss: 0.2628 - acc: 0.8840 - val_loss: 0.2008 - val_acc: 0.9060\n",
            "Epoch 11/30\n",
            "50/50 [==============================] - 493s 10s/step - loss: 0.2612 - acc: 0.8860 - val_loss: 0.2468 - val_acc: 0.8980\n",
            "Epoch 12/30\n",
            "50/50 [==============================] - 485s 10s/step - loss: 0.2607 - acc: 0.8850 - val_loss: 0.2281 - val_acc: 0.9020\n",
            "Epoch 13/30\n",
            "50/50 [==============================] - 487s 10s/step - loss: 0.2410 - acc: 0.9070 - val_loss: 0.2523 - val_acc: 0.9040\n",
            "Epoch 14/30\n",
            "50/50 [==============================] - 496s 10s/step - loss: 0.2357 - acc: 0.9040 - val_loss: 0.2612 - val_acc: 0.8940\n",
            "Epoch 15/30\n",
            "50/50 [==============================] - 479s 10s/step - loss: 0.2511 - acc: 0.8900 - val_loss: 0.2087 - val_acc: 0.9220\n",
            "Epoch 16/30\n",
            "50/50 [==============================] - 496s 10s/step - loss: 0.2213 - acc: 0.8990 - val_loss: 0.1962 - val_acc: 0.9180\n",
            "Epoch 17/30\n",
            "50/50 [==============================] - 496s 10s/step - loss: 0.2448 - acc: 0.8870 - val_loss: 0.1917 - val_acc: 0.9140\n",
            "Epoch 18/30\n",
            "50/50 [==============================] - 497s 10s/step - loss: 0.2063 - acc: 0.9170 - val_loss: 0.1747 - val_acc: 0.9360\n",
            "Epoch 19/30\n",
            "50/50 [==============================] - 500s 10s/step - loss: 0.2187 - acc: 0.9120 - val_loss: 0.1861 - val_acc: 0.9380\n",
            "Epoch 20/30\n",
            "50/50 [==============================] - 491s 10s/step - loss: 0.2087 - acc: 0.9120 - val_loss: 0.1758 - val_acc: 0.9280\n",
            "Epoch 21/30\n",
            "50/50 [==============================] - 496s 10s/step - loss: 0.1937 - acc: 0.9260 - val_loss: 0.1388 - val_acc: 0.9400\n",
            "Epoch 22/30\n",
            "50/50 [==============================] - 493s 10s/step - loss: 0.2008 - acc: 0.9230 - val_loss: 0.2933 - val_acc: 0.8920\n",
            "Epoch 23/30\n",
            "50/50 [==============================] - 495s 10s/step - loss: 0.1766 - acc: 0.9220 - val_loss: 0.1915 - val_acc: 0.9360\n",
            "Epoch 24/30\n",
            "50/50 [==============================] - 494s 10s/step - loss: 0.1978 - acc: 0.9210 - val_loss: 0.1878 - val_acc: 0.9160\n",
            "Epoch 25/30\n",
            "50/50 [==============================] - 492s 10s/step - loss: 0.2009 - acc: 0.9270 - val_loss: 0.1532 - val_acc: 0.9400\n",
            "Epoch 26/30\n",
            "50/50 [==============================] - 490s 10s/step - loss: 0.1792 - acc: 0.9290 - val_loss: 0.3425 - val_acc: 0.8800\n",
            "Epoch 27/30\n",
            "50/50 [==============================] - 488s 10s/step - loss: 0.1847 - acc: 0.9280 - val_loss: 0.1522 - val_acc: 0.9440\n",
            "Epoch 28/30\n",
            "50/50 [==============================] - 493s 10s/step - loss: 0.1794 - acc: 0.9270 - val_loss: 0.1738 - val_acc: 0.9280\n",
            "Epoch 29/30\n",
            "50/50 [==============================] - 444s 9s/step - loss: 0.1433 - acc: 0.9460 - val_loss: 0.1559 - val_acc: 0.9460\n",
            "Epoch 30/30\n",
            "50/50 [==============================] - 417s 8s/step - loss: 0.1773 - acc: 0.9240 - val_loss: 0.1678 - val_acc: 0.9360\n"
          ],
          "name": "stdout"
        }
      ]
    },
    {
      "metadata": {
        "id": "dojWyjUYcmJl",
        "colab_type": "text"
      },
      "cell_type": "markdown",
      "source": [
        "### Checking overfitting"
      ]
    },
    {
      "metadata": {
        "id": "mUL22HPCcovm",
        "colab_type": "code",
        "outputId": "56dbbb2a-f00f-4362-9b57-aa958d53c070",
        "colab": {
          "base_uri": "https://localhost:8080/",
          "height": 545
        }
      },
      "cell_type": "code",
      "source": [
        "import matplotlib.pyplot as plt\n",
        "\n",
        "acc = history.history['acc']\n",
        "val_acc = history.history['val_acc']\n",
        "\n",
        "loss = history.history['loss']\n",
        "val_loss = history.history['val_loss']\n",
        "\n",
        "epochs = range(1, len(acc) + 1)\n",
        "\n",
        "plt.plot(epochs, acc, 'bo', label='training acc')\n",
        "plt.plot(epochs, val_acc, 'b', label='validation acc')\n",
        "plt.title('training and validation accuracy')\n",
        "plt.legend()\n",
        "\n",
        "plt.figure()\n",
        "\n",
        "plt.plot(epochs, loss, 'bo', label='training loss')\n",
        "plt.plot(epochs, val_loss, 'b', label='validation loss')\n",
        "plt.title('training and validation loss')\n",
        "plt.legend()\n",
        "\n",
        "plt.show()"
      ],
      "execution_count": 10,
      "outputs": [
        {
          "output_type": "display_data",
          "data": {
            "image/png": "[encoded data removed]",
            "text/plain": [
              "<Figure size 432x288 with 1 Axes>"
            ]
          },
          "metadata": {
            "tags": []
          }
        },
        {
          "output_type": "display_data",
          "data": {
            "image/png": "[encoded data removed]",
            "text/plain": [
              "<Figure size 432x288 with 1 Axes>"
            ]
          },
          "metadata": {
            "tags": []
          }
        }
      ]
    },
    {
      "metadata": {
        "id": "Py7ulWvqcycB",
        "colab_type": "text"
      },
      "cell_type": "markdown",
      "source": [
        "### Printing out validation loss and accuracy"
      ]
    },
    {
      "metadata": {
        "id": "mXQJmkojc0pD",
        "colab_type": "code",
        "colab": {}
      },
      "cell_type": "code",
      "source": [
        "val_loss, val_acc = model.evaluate_generator(validation_generator, steps=25)"
      ],
      "execution_count": 0,
      "outputs": []
    },
    {
      "metadata": {
        "id": "xtSO1fLzd38G",
        "colab_type": "code",
        "outputId": "674be82d-4227-4960-e08a-f2e5d86ba453",
        "colab": {
          "base_uri": "https://localhost:8080/",
          "height": 51
        }
      },
      "cell_type": "code",
      "source": [
        "print(\"Validation loss:\", val_loss)\n",
        "print(\"Validation accuracy:\", val_acc)"
      ],
      "execution_count": 12,
      "outputs": [
        {
          "output_type": "stream",
          "text": [
            "Validation loss: 0.15043387833982705\n",
            "Validation accuracy: 0.9439999914169311\n"
          ],
          "name": "stdout"
        }
      ]
    },
    {
      "metadata": {
        "id": "KT4gZVmwc7Z6",
        "colab_type": "text"
      },
      "cell_type": "markdown",
      "source": [
        "### Saving the model"
      ]
    },
    {
      "metadata": {
        "id": "8M5G2f17c_TE",
        "colab_type": "code",
        "colab": {}
      },
      "cell_type": "code",
      "source": [
        "model_fname = 'cats_and_dogs_pretrained_fine_tune.h5' \n",
        "model.save(model_fname)\n",
        "\n",
        "from google.colab import files\n",
        "\n",
        "with open(model_fname, 'r') as f:\n",
        "  files.download(model_fname)"
      ],
      "execution_count": 0,
      "outputs": []
    },
    {
      "metadata": {
        "id": "cZ7B8572Pnv_",
        "colab_type": "text"
      },
      "cell_type": "markdown",
      "source": [
        "### Downloading the image"
      ]
    },
    {
      "metadata": {
        "id": "whPa9Tf0NoJY",
        "colab_type": "code",
        "colab": {}
      },
      "cell_type": "code",
      "source": [
        "!wget https://cdn.royalcanin-weshare-online.io/d_o7IGYBIYfdNSoC2wgt/v1/bd29h-basset-hound-adult-in-black-and-white?raw=true -O basset_hound.jpg\n",
        "  \n",
        "img_path1 = 'basset_hound.jpg'"
      ],
      "execution_count": 0,
      "outputs": []
    },
    {
      "metadata": {
        "id": "05pyPzTPPqrd",
        "colab_type": "text"
      },
      "cell_type": "markdown",
      "source": [
        "### Predicting the image"
      ]
    },
    {
      "metadata": {
        "id": "X1v0UbinNcI8",
        "colab_type": "code",
        "outputId": "060ed3c1-0525-4a6b-c25d-c127b73dbb7c",
        "colab": {
          "base_uri": "https://localhost:8080/",
          "height": 269
        }
      },
      "cell_type": "code",
      "source": [
        "import tensorflow\n",
        "from tensorflow.keras.preprocessing import image\n",
        "import matplotlib.pyplot as plt\n",
        "import numpy as np\n",
        "\n",
        "img1 = image.load_img(img_path1, target_size=(150, 150))\n",
        "img = image.img_to_array(img1)\n",
        "img = img/255\n",
        "\n",
        "img = np.expand_dims(img, axis=0)\n",
        "prediction = model.predict(img, batch_size=None,steps=1)\n",
        "if(prediction[:,:]>0.5):\n",
        "    value ='Dog :%1.2f'%(prediction[0,0])\n",
        "    plt.text(20, 62,value,color='red',fontsize=18,bbox=dict(facecolor='white',alpha=0.8))\n",
        "else:\n",
        "    value ='Cat :%1.2f'%(1.0-prediction[0,0])\n",
        "    plt.text(20, 62,value,color='red',fontsize=18,bbox=dict(facecolor='white',alpha=0.8))\n",
        "\n",
        "plt.imshow(img1)\n",
        "plt.show()"
      ],
      "execution_count": 16,
      "outputs": [
        {
          "output_type": "display_data",
          "data": {
            "image/png": "[encoded data removed]",
            "text/plain": [
              "<Figure size 432x288 with 1 Axes>"
            ]
          },
          "metadata": {
            "tags": []
          }
        }
      ]
    },
    {
      "metadata": {
        "id": "nz2e0HRfFAig",
        "colab_type": "text"
      },
      "cell_type": "markdown",
      "source": [
        "### Predictions"
      ]
    },
    {
      "metadata": {
        "id": "TaNQN3VEFC6-",
        "colab_type": "code",
        "colab": {}
      },
      "cell_type": "code",
      "source": [
        "import numpy as np\n",
        "\n",
        "predictions = model.predict_generator(validation_generator, steps=50)\n",
        "y_pred = [1 * (x[0] >= 0.5) for x in predictions]"
      ],
      "execution_count": 0,
      "outputs": []
    },
    {
      "metadata": {
        "id": "E1UVL19vALkW",
        "colab_type": "text"
      },
      "cell_type": "markdown",
      "source": [
        "### Confusion matrix"
      ]
    },
    {
      "metadata": {
        "id": "I2TKonFbAUsw",
        "colab_type": "code",
        "outputId": "d57851c9-64ff-4c67-84be-00ad63ccfee2",
        "colab": {
          "base_uri": "https://localhost:8080/",
          "height": 300
        }
      },
      "cell_type": "code",
      "source": [
        "from sklearn.metrics import confusion_matrix\n",
        "import seaborn as sns\n",
        "\n",
        "conf_matrix = confusion_matrix(validation_generator.classes, y_pred)\n",
        "\n",
        "sns.heatmap(conf_matrix,cmap=\"YlGnBu\",annot=True,fmt='g')\n",
        "plt.xlabel('predicted value')\n",
        "plt.ylabel('true value')"
      ],
      "execution_count": 21,
      "outputs": [
        {
          "output_type": "execute_result",
          "data": {
            "text/plain": [
              "Text(33.0, 0.5, 'true value')"
            ]
          },
          "metadata": {
            "tags": []
          },
          "execution_count": 21
        },
        {
          "output_type": "display_data",
          "data": {
            "image/png": "[encoded data removed]",
            "text/plain": [
              "<Figure size 432x288 with 2 Axes>"
            ]
          },
          "metadata": {
            "tags": []
          }
        }
      ]
    }
  ]
}
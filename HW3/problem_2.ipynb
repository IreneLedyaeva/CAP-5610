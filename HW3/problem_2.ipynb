{
  "nbformat": 4,
  "nbformat_minor": 0,
  "metadata": {
    "colab": {
      "name": "problem_2.ipynb",
      "version": "0.3.2",
      "provenance": [],
      "include_colab_link": true
    },
    "kernelspec": {
      "name": "python3",
      "display_name": "Python 3"
    }
  },
  "cells": [
    {
      "cell_type": "markdown",
      "metadata": {
        "id": "view-in-github",
        "colab_type": "text"
      },
      "source": [
        "<a href=\"https://colab.research.google.com/github/IreneLedyaeva/CAP-5610/blob/master/HW3/problem_2.ipynb\" target=\"_parent\"><img src=\"https://colab.research.google.com/assets/colab-badge.svg\" alt=\"Open In Colab\"/></a>"
      ]
    },
    {
      "metadata": {
        "id": "k8qzSaD3500x",
        "colab_type": "text"
      },
      "cell_type": "markdown",
      "source": [
        "## Fine-tuning with data augmentation"
      ]
    },
    {
      "metadata": {
        "id": "ce2jTPU16YS0",
        "colab_type": "text"
      },
      "cell_type": "markdown",
      "source": [
        "### Downloading the cats vs dogs data"
      ]
    },
    {
      "metadata": {
        "id": "5sNMhXrX6tgB",
        "colab_type": "code",
        "outputId": "627dde21-b3e8-4164-b7fd-1bcc1346e0a5",
        "colab": {
          "base_uri": "https://localhost:8080/",
          "height": 204
        }
      },
      "cell_type": "code",
      "source": [
        "!wget --no-check-certificate \\\n",
        "    https://storage.googleapis.com/mledu-datasets/cats_and_dogs_filtered.zip \\\n",
        "    -O /tmp/cats_and_dogs_filtered.zip"
      ],
      "execution_count": 1,
      "outputs": [
        {
          "output_type": "stream",
          "text": [
            "--2019-04-11 03:12:59--  https://storage.googleapis.com/mledu-datasets/cats_and_dogs_filtered.zip\n",
            "Resolving storage.googleapis.com (storage.googleapis.com)... 74.125.141.128, 2607:f8b0:400c:c06::80\n",
            "Connecting to storage.googleapis.com (storage.googleapis.com)|74.125.141.128|:443... connected.\n",
            "HTTP request sent, awaiting response... 200 OK\n",
            "Length: 68606236 (65M) [application/zip]\n",
            "Saving to: ‘/tmp/cats_and_dogs_filtered.zip’\n",
            "\n",
            "/tmp/cats_and_dogs_ 100%[===================>]  65.43M   111MB/s    in 0.6s    \n",
            "\n",
            "2019-04-11 03:12:59 (111 MB/s) - ‘/tmp/cats_and_dogs_filtered.zip’ saved [68606236/68606236]\n",
            "\n"
          ],
          "name": "stdout"
        }
      ]
    },
    {
      "metadata": {
        "id": "YT1qePtS66ln",
        "colab_type": "text"
      },
      "cell_type": "markdown",
      "source": [
        "### Extracting the data locally in /tmp"
      ]
    },
    {
      "metadata": {
        "id": "88_MQy2V64_g",
        "colab_type": "code",
        "colab": {}
      },
      "cell_type": "code",
      "source": [
        "import os\n",
        "import zipfile\n",
        "\n",
        "local_zip = '/tmp/cats_and_dogs_filtered.zip'\n",
        "zip_ref = zipfile.ZipFile(local_zip, 'r')\n",
        "zip_ref.extractall('/tmp')\n",
        "zip_ref.close()"
      ],
      "execution_count": 0,
      "outputs": []
    },
    {
      "metadata": {
        "id": "cn76w0Br7Rx7",
        "colab_type": "text"
      },
      "cell_type": "markdown",
      "source": [
        "### Training and validation directories"
      ]
    },
    {
      "metadata": {
        "id": "6QfJ21WK7eDu",
        "colab_type": "code",
        "colab": {}
      },
      "cell_type": "code",
      "source": [
        "base_dir = '/tmp/cats_and_dogs_filtered'\n",
        "train_dir = os.path.join(base_dir, 'train')\n",
        "validation_dir = os.path.join(base_dir, 'validation')\n",
        "\n",
        "train_cats_dir = os.path.join(train_dir, 'cats')\n",
        "train_dogs_dir = os.path.join(train_dir, 'dogs')\n",
        "\n",
        "validation_cats_dir = os.path.join(validation_dir, 'cats')\n",
        "validation_dogs_dir = os.path.join(validation_dir, 'dogs')"
      ],
      "execution_count": 0,
      "outputs": []
    },
    {
      "metadata": {
        "id": "AaM5xITo70vX",
        "colab_type": "text"
      },
      "cell_type": "markdown",
      "source": [
        "### Loading the convolutional base of VGG19"
      ]
    },
    {
      "metadata": {
        "id": "JQ48--GJ7_A6",
        "colab_type": "code",
        "outputId": "d0abf926-7b76-4fca-bd48-0afd3f76a11a",
        "colab": {
          "base_uri": "https://localhost:8080/",
          "height": 139
        }
      },
      "cell_type": "code",
      "source": [
        "from keras.applications import VGG19\n",
        "\n",
        "conv_base = VGG19(\n",
        "    weights='imagenet', \n",
        "    include_top=False, \n",
        "    input_shape=(150, 150, 3))"
      ],
      "execution_count": 4,
      "outputs": [
        {
          "output_type": "stream",
          "text": [
            "Using TensorFlow backend.\n"
          ],
          "name": "stderr"
        },
        {
          "output_type": "stream",
          "text": [
            "WARNING:tensorflow:From /usr/local/lib/python3.6/dist-packages/tensorflow/python/framework/op_def_library.py:263: colocate_with (from tensorflow.python.framework.ops) is deprecated and will be removed in a future version.\n",
            "Instructions for updating:\n",
            "Colocations handled automatically by placer.\n",
            "Downloading data from https://github.com/fchollet/deep-learning-models/releases/download/v0.1/vgg19_weights_tf_dim_ordering_tf_kernels_notop.h5\n",
            "80142336/80134624 [==============================] - 2s 0us/step\n"
          ],
          "name": "stdout"
        }
      ]
    },
    {
      "metadata": {
        "id": "jRu96RLD8a7L",
        "colab_type": "text"
      },
      "cell_type": "markdown",
      "source": [
        "### Freezing the convolutional base weights"
      ]
    },
    {
      "metadata": {
        "id": "lUUX9KhR8dzV",
        "colab_type": "code",
        "colab": {}
      },
      "cell_type": "code",
      "source": [
        "conv_base.trainable = False"
      ],
      "execution_count": 0,
      "outputs": []
    },
    {
      "metadata": {
        "id": "VuVPwCkm82xV",
        "colab_type": "text"
      },
      "cell_type": "markdown",
      "source": [
        "### Building the model by adding new dense layers"
      ]
    },
    {
      "metadata": {
        "id": "0r6SgUdc86HZ",
        "colab_type": "code",
        "outputId": "03213e5f-bad5-4ab3-b3f2-662069a6ccd9",
        "colab": {
          "base_uri": "https://localhost:8080/",
          "height": 272
        }
      },
      "cell_type": "code",
      "source": [
        "from keras import layers\n",
        "from keras import models\n",
        "\n",
        "model = models.Sequential()\n",
        "model.add(conv_base)\n",
        "model.add(layers.Flatten())\n",
        "model.add(layers.Dense(256, activation='relu'))\n",
        "model.add(layers.Dense(1, activation='sigmoid'))\n",
        "\n",
        "model.summary()"
      ],
      "execution_count": 6,
      "outputs": [
        {
          "output_type": "stream",
          "text": [
            "_________________________________________________________________\n",
            "Layer (type)                 Output Shape              Param #   \n",
            "=================================================================\n",
            "vgg19 (Model)                (None, 4, 4, 512)         20024384  \n",
            "_________________________________________________________________\n",
            "flatten_1 (Flatten)          (None, 8192)              0         \n",
            "_________________________________________________________________\n",
            "dense_1 (Dense)              (None, 256)               2097408   \n",
            "_________________________________________________________________\n",
            "dense_2 (Dense)              (None, 1)                 257       \n",
            "=================================================================\n",
            "Total params: 22,122,049\n",
            "Trainable params: 2,097,665\n",
            "Non-trainable params: 20,024,384\n",
            "_________________________________________________________________\n"
          ],
          "name": "stdout"
        }
      ]
    },
    {
      "metadata": {
        "id": "aBnPEfIS9Xso",
        "colab_type": "text"
      },
      "cell_type": "markdown",
      "source": [
        "### Data augmentation\n",
        "Validation data should not be augmented"
      ]
    },
    {
      "metadata": {
        "id": "BtOsH2Cy9cM4",
        "colab_type": "code",
        "outputId": "ad19f72b-15b9-4478-d820-e1c70dfc88f6",
        "colab": {
          "base_uri": "https://localhost:8080/",
          "height": 51
        }
      },
      "cell_type": "code",
      "source": [
        "from keras.preprocessing.image import ImageDataGenerator\n",
        "\n",
        "train_datagen = ImageDataGenerator(\n",
        "    rescale=1./255, \n",
        "    rotation_range=40,\n",
        "    width_shift_range=0.2,\n",
        "    height_shift_range=0.2,\n",
        "    shear_range=0.2,\n",
        "    zoom_range=0.2,\n",
        "    horizontal_flip=True,\n",
        "    fill_mode='nearest')\n",
        "\n",
        "train_generator = train_datagen.flow_from_directory(\n",
        "    train_dir,\n",
        "    target_size=(150, 150),\n",
        "    batch_size=20,\n",
        "    class_mode='binary')\n",
        "\n",
        "validation_datagen = ImageDataGenerator(rescale=1./255)\n",
        "\n",
        "validation_generator = validation_datagen.flow_from_directory(\n",
        "    validation_dir,\n",
        "    target_size=(150, 150),\n",
        "    batch_size=20,\n",
        "    class_mode='binary')"
      ],
      "execution_count": 7,
      "outputs": [
        {
          "output_type": "stream",
          "text": [
            "Found 2000 images belonging to 2 classes.\n",
            "Found 1000 images belonging to 2 classes.\n"
          ],
          "name": "stdout"
        }
      ]
    },
    {
      "metadata": {
        "id": "pa9qdmv4Y7u0",
        "colab_type": "text"
      },
      "cell_type": "markdown",
      "source": [
        "### Fine-tuning the model"
      ]
    },
    {
      "metadata": {
        "id": "_MeOgmbxY_pK",
        "colab_type": "code",
        "colab": {
          "base_uri": "https://localhost:8080/",
          "height": 391
        },
        "outputId": "29ed80fd-1f54-4eae-ab5e-865eb3b21699"
      },
      "cell_type": "code",
      "source": [
        "conv_base.trainable = True\n",
        "\n",
        "set_trainable = False\n",
        "for layer in conv_base.layers:\n",
        "  if layer.name == 'block5_conv1':\n",
        "    set_trainable = True\n",
        "  if set_trainable:\n",
        "    layer.trainable = True\n",
        "  else:\n",
        "    layer.trainable = False\n",
        "  print(layer.name, layer.trainable)"
      ],
      "execution_count": 8,
      "outputs": [
        {
          "output_type": "stream",
          "text": [
            "input_1 False\n",
            "block1_conv1 False\n",
            "block1_conv2 False\n",
            "block1_pool False\n",
            "block2_conv1 False\n",
            "block2_conv2 False\n",
            "block2_pool False\n",
            "block3_conv1 False\n",
            "block3_conv2 False\n",
            "block3_conv3 False\n",
            "block3_conv4 False\n",
            "block3_pool False\n",
            "block4_conv1 False\n",
            "block4_conv2 False\n",
            "block4_conv3 False\n",
            "block4_conv4 False\n",
            "block4_pool False\n",
            "block5_conv1 True\n",
            "block5_conv2 True\n",
            "block5_conv3 True\n",
            "block5_conv4 True\n",
            "block5_pool True\n"
          ],
          "name": "stdout"
        }
      ]
    },
    {
      "metadata": {
        "id": "VjZLZBzA9w1i",
        "colab_type": "text"
      },
      "cell_type": "markdown",
      "source": [
        "### Running the model"
      ]
    },
    {
      "metadata": {
        "id": "oS8Q8lfX90QX",
        "colab_type": "code",
        "outputId": "d306102e-aff2-4947-a5f2-ee1e426789ca",
        "colab": {
          "base_uri": "https://localhost:8080/",
          "height": 1037
        }
      },
      "cell_type": "code",
      "source": [
        "from keras import optimizers\n",
        "\n",
        "model.compile(\n",
        "    loss='binary_crossentropy',\n",
        "    optimizer=optimizers.RMSprop(lr=1e-5), \n",
        "    metrics=['accuracy'])\n",
        "\n",
        "history = model.fit_generator(\n",
        "    train_generator,\n",
        "    steps_per_epoch=50,\n",
        "    epochs=30,\n",
        "    validation_data=validation_generator,\n",
        "    validation_steps=25)"
      ],
      "execution_count": 12,
      "outputs": [
        {
          "output_type": "stream",
          "text": [
            "Epoch 1/30\n",
            "50/50 [==============================] - 509s 10s/step - loss: 0.3022 - acc: 0.8750 - val_loss: 0.2177 - val_acc: 0.8960\n",
            "Epoch 2/30\n",
            "50/50 [==============================] - 508s 10s/step - loss: 0.2933 - acc: 0.8600 - val_loss: 0.2066 - val_acc: 0.9200\n",
            "Epoch 3/30\n",
            "50/50 [==============================] - 508s 10s/step - loss: 0.2627 - acc: 0.9000 - val_loss: 0.2034 - val_acc: 0.9180\n",
            "Epoch 4/30\n",
            "50/50 [==============================] - 511s 10s/step - loss: 0.2483 - acc: 0.9000 - val_loss: 0.2324 - val_acc: 0.9020\n",
            "Epoch 5/30\n",
            "50/50 [==============================] - 510s 10s/step - loss: 0.2484 - acc: 0.8920 - val_loss: 0.2026 - val_acc: 0.9280\n",
            "Epoch 6/30\n",
            "50/50 [==============================] - 514s 10s/step - loss: 0.2471 - acc: 0.8960 - val_loss: 0.2074 - val_acc: 0.9160\n",
            "Epoch 7/30\n",
            "50/50 [==============================] - 512s 10s/step - loss: 0.2075 - acc: 0.9150 - val_loss: 0.2473 - val_acc: 0.9040\n",
            "Epoch 8/30\n",
            "50/50 [==============================] - 513s 10s/step - loss: 0.2286 - acc: 0.9060 - val_loss: 0.1800 - val_acc: 0.9300\n",
            "Epoch 9/30\n",
            "50/50 [==============================] - 511s 10s/step - loss: 0.2166 - acc: 0.9000 - val_loss: 0.2169 - val_acc: 0.9120\n",
            "Epoch 10/30\n",
            "50/50 [==============================] - 512s 10s/step - loss: 0.2258 - acc: 0.9090 - val_loss: 0.1860 - val_acc: 0.9220\n",
            "Epoch 11/30\n",
            "50/50 [==============================] - 511s 10s/step - loss: 0.2146 - acc: 0.9160 - val_loss: 0.1576 - val_acc: 0.9320\n",
            "Epoch 12/30\n",
            "50/50 [==============================] - 514s 10s/step - loss: 0.2169 - acc: 0.9120 - val_loss: 0.1733 - val_acc: 0.9300\n",
            "Epoch 13/30\n",
            "50/50 [==============================] - 510s 10s/step - loss: 0.1860 - acc: 0.9260 - val_loss: 0.2327 - val_acc: 0.9240\n",
            "Epoch 14/30\n",
            "50/50 [==============================] - 513s 10s/step - loss: 0.2030 - acc: 0.9180 - val_loss: 0.2273 - val_acc: 0.9140\n",
            "Epoch 15/30\n",
            "50/50 [==============================] - 513s 10s/step - loss: 0.1763 - acc: 0.9230 - val_loss: 0.1763 - val_acc: 0.9320\n",
            "Epoch 16/30\n",
            "50/50 [==============================] - 513s 10s/step - loss: 0.1948 - acc: 0.9150 - val_loss: 0.1930 - val_acc: 0.9260\n",
            "Epoch 17/30\n",
            "50/50 [==============================] - 513s 10s/step - loss: 0.1809 - acc: 0.9180 - val_loss: 0.2179 - val_acc: 0.9160\n",
            "Epoch 18/30\n",
            "50/50 [==============================] - 521s 10s/step - loss: 0.1697 - acc: 0.9360 - val_loss: 0.1624 - val_acc: 0.9440\n",
            "Epoch 19/30\n",
            "50/50 [==============================] - 513s 10s/step - loss: 0.1637 - acc: 0.9340 - val_loss: 0.1655 - val_acc: 0.9320\n",
            "Epoch 20/30\n",
            "50/50 [==============================] - 511s 10s/step - loss: 0.1795 - acc: 0.9270 - val_loss: 0.2637 - val_acc: 0.9200\n",
            "Epoch 21/30\n",
            "50/50 [==============================] - 513s 10s/step - loss: 0.1553 - acc: 0.9450 - val_loss: 0.1457 - val_acc: 0.9420\n",
            "Epoch 22/30\n",
            "50/50 [==============================] - 512s 10s/step - loss: 0.1661 - acc: 0.9290 - val_loss: 0.2471 - val_acc: 0.9100\n",
            "Epoch 23/30\n",
            "50/50 [==============================] - 513s 10s/step - loss: 0.1625 - acc: 0.9280 - val_loss: 0.2055 - val_acc: 0.9220\n",
            "Epoch 24/30\n",
            "50/50 [==============================] - 520s 10s/step - loss: 0.1891 - acc: 0.9240 - val_loss: 0.2496 - val_acc: 0.9140\n",
            "Epoch 25/30\n",
            "50/50 [==============================] - 512s 10s/step - loss: 0.1509 - acc: 0.9430 - val_loss: 0.1677 - val_acc: 0.9260\n",
            "Epoch 26/30\n",
            "50/50 [==============================] - 510s 10s/step - loss: 0.1489 - acc: 0.9400 - val_loss: 0.1542 - val_acc: 0.9420\n",
            "Epoch 27/30\n",
            "50/50 [==============================] - 512s 10s/step - loss: 0.1709 - acc: 0.9310 - val_loss: 0.2026 - val_acc: 0.9240\n",
            "Epoch 28/30\n",
            "50/50 [==============================] - 514s 10s/step - loss: 0.1513 - acc: 0.9420 - val_loss: 0.2089 - val_acc: 0.9260\n",
            "Epoch 29/30\n",
            "50/50 [==============================] - 511s 10s/step - loss: 0.1526 - acc: 0.9390 - val_loss: 0.1954 - val_acc: 0.9320\n",
            "Epoch 30/30\n",
            "50/50 [==============================] - 518s 10s/step - loss: 0.1575 - acc: 0.9380 - val_loss: 0.4176 - val_acc: 0.8760\n"
          ],
          "name": "stdout"
        }
      ]
    },
    {
      "metadata": {
        "id": "dojWyjUYcmJl",
        "colab_type": "text"
      },
      "cell_type": "markdown",
      "source": [
        "### Checking overfitting"
      ]
    },
    {
      "metadata": {
        "id": "mUL22HPCcovm",
        "colab_type": "code",
        "outputId": "9aaef79a-276f-4cb4-8060-c5745f748d47",
        "colab": {
          "base_uri": "https://localhost:8080/",
          "height": 232
        }
      },
      "cell_type": "code",
      "source": [
        "import matplotlib.pyplot as plt\n",
        "\n",
        "acc = history.history['acc']\n",
        "val_acc = history.history['val_acc']\n",
        "\n",
        "loss = history.history['loss']\n",
        "val_loss = history.history['val_loss']\n",
        "\n",
        "epochs = range(1, len(acc) + 1)\n",
        "\n",
        "plt.plot(epochs, acc, 'bo', label='training acc')\n",
        "plt.plot(epochs, val_acc, 'b', label='validation acc')\n",
        "plt.title('training and validation accuracy')\n",
        "plt.legend()\n",
        "\n",
        "plt.figure()\n",
        "\n",
        "plt.plot(epochs, loss, 'bo', label='training loss')\n",
        "plt.plot(epochs, val_loss, 'b', label='validation loss')\n",
        "plt.title('training and validation loss')\n",
        "plt.legend()\n",
        "\n",
        "plt.show()"
      ],
      "execution_count": 1,
      "outputs": [
        {
          "output_type": "error",
          "ename": "NameError",
          "evalue": "ignored",
          "traceback": [
            "\u001b[0;31m---------------------------------------------------------------------------\u001b[0m",
            "\u001b[0;31mNameError\u001b[0m                                 Traceback (most recent call last)",
            "\u001b[0;32m<ipython-input-1-e4d3896664d5>\u001b[0m in \u001b[0;36m<module>\u001b[0;34m()\u001b[0m\n\u001b[1;32m      1\u001b[0m \u001b[0;32mimport\u001b[0m \u001b[0mmatplotlib\u001b[0m\u001b[0;34m.\u001b[0m\u001b[0mpyplot\u001b[0m \u001b[0;32mas\u001b[0m \u001b[0mplt\u001b[0m\u001b[0;34m\u001b[0m\u001b[0;34m\u001b[0m\u001b[0m\n\u001b[1;32m      2\u001b[0m \u001b[0;34m\u001b[0m\u001b[0m\n\u001b[0;32m----> 3\u001b[0;31m \u001b[0macc\u001b[0m \u001b[0;34m=\u001b[0m \u001b[0mhistory\u001b[0m\u001b[0;34m.\u001b[0m\u001b[0mhistory\u001b[0m\u001b[0;34m[\u001b[0m\u001b[0;34m'acc'\u001b[0m\u001b[0;34m]\u001b[0m\u001b[0;34m\u001b[0m\u001b[0;34m\u001b[0m\u001b[0m\n\u001b[0m\u001b[1;32m      4\u001b[0m \u001b[0mval_acc\u001b[0m \u001b[0;34m=\u001b[0m \u001b[0mhistory\u001b[0m\u001b[0;34m.\u001b[0m\u001b[0mhistory\u001b[0m\u001b[0;34m[\u001b[0m\u001b[0;34m'val_acc'\u001b[0m\u001b[0;34m]\u001b[0m\u001b[0;34m\u001b[0m\u001b[0;34m\u001b[0m\u001b[0m\n\u001b[1;32m      5\u001b[0m \u001b[0;34m\u001b[0m\u001b[0m\n",
            "\u001b[0;31mNameError\u001b[0m: name 'history' is not defined"
          ]
        }
      ]
    },
    {
      "metadata": {
        "id": "Py7ulWvqcycB",
        "colab_type": "text"
      },
      "cell_type": "markdown",
      "source": [
        "### Printing out validation loss and accuracy"
      ]
    },
    {
      "metadata": {
        "id": "mXQJmkojc0pD",
        "colab_type": "code",
        "colab": {}
      },
      "cell_type": "code",
      "source": [
        "val_loss, val_acc = model.evaluate_generator(validation_generator, steps=25)"
      ],
      "execution_count": 0,
      "outputs": []
    },
    {
      "metadata": {
        "id": "xtSO1fLzd38G",
        "colab_type": "code",
        "outputId": "1abc4c4f-25c7-4525-8a4f-5246a4d05022",
        "colab": {
          "base_uri": "https://localhost:8080/",
          "height": 51
        }
      },
      "cell_type": "code",
      "source": [
        "print(\"Validation loss:\", val_loss)\n",
        "print(\"Validation accuracy:\", val_acc)"
      ],
      "execution_count": 0,
      "outputs": [
        {
          "output_type": "stream",
          "text": [
            "Validation loss: 0.2707520940899849\n",
            "Validation accuracy: 0.8859999990463256\n"
          ],
          "name": "stdout"
        }
      ]
    },
    {
      "metadata": {
        "id": "KT4gZVmwc7Z6",
        "colab_type": "text"
      },
      "cell_type": "markdown",
      "source": [
        "### Saving the model"
      ]
    },
    {
      "metadata": {
        "id": "8M5G2f17c_TE",
        "colab_type": "code",
        "colab": {}
      },
      "cell_type": "code",
      "source": [
        "model_fname = 'cats_and_dogs_pretrained_fine_tune.h5' \n",
        "model.save(model_fname)\n",
        "\n",
        "from google.colab import files\n",
        "\n",
        "with open(model_fname, 'r') as f:\n",
        "  files.download(model_fname)"
      ],
      "execution_count": 0,
      "outputs": []
    }
  ]
}
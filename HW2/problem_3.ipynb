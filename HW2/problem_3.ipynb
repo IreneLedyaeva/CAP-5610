{
  "nbformat": 4,
  "nbformat_minor": 0,
  "metadata": {
    "colab": {
      "name": "problem_3.ipynb",
      "version": "0.3.2",
      "provenance": [],
      "include_colab_link": true
    },
    "kernelspec": {
      "name": "python3",
      "display_name": "Python 3"
    }
  },
  "cells": [
    {
      "cell_type": "markdown",
      "metadata": {
        "id": "view-in-github",
        "colab_type": "text"
      },
      "source": [
        "<a href=\"https://colab.research.google.com/github/IreneLedyaeva/CAP-5610/blob/master/HW2/problem_3.ipynb\" target=\"_parent\"><img src=\"https://colab.research.google.com/assets/colab-badge.svg\" alt=\"Open In Colab\"/></a>"
      ]
    },
    {
      "metadata": {
        "id": "pwfDXmfJ_zK3",
        "colab_type": "text"
      },
      "cell_type": "markdown",
      "source": [
        "## CNN architecture with hold-out validation, data augmentation, and a dropout layer"
      ]
    },
    {
      "metadata": {
        "id": "zRWk951gSW_n",
        "colab_type": "text"
      },
      "cell_type": "markdown",
      "source": [
        "### Loading the CIFAR10 data set"
      ]
    },
    {
      "metadata": {
        "id": "JhDk_-QE_2Ns",
        "colab_type": "code",
        "colab": {}
      },
      "cell_type": "code",
      "source": [
        "from keras.datasets import cifar10\n",
        "\n",
        "(non_test_images, non_test_labels), (test_images, test_labels) = cifar10.load_data()"
      ],
      "execution_count": 0,
      "outputs": []
    },
    {
      "metadata": {
        "id": "kVOZsyMM18jB",
        "colab_type": "text"
      },
      "cell_type": "markdown",
      "source": [
        "### Splitting non-test data into training and validation"
      ]
    },
    {
      "metadata": {
        "id": "j2pjCIjQ2DQ-",
        "colab_type": "code",
        "outputId": "0d36a55c-7cdc-4dc1-8b4a-9f21df4453b2",
        "colab": {
          "base_uri": "https://localhost:8080/",
          "height": 51
        }
      },
      "cell_type": "code",
      "source": [
        "num_validation_samples = int(non_test_images.shape[0] * 0.2)\n",
        "\n",
        "train_images = non_test_images[num_validation_samples:] \n",
        "validation_images = non_test_images[:num_validation_samples]\n",
        "\n",
        "train_labels = non_test_labels[num_validation_samples:] \n",
        "validation_labels = non_test_labels[:num_validation_samples]\n",
        "\n",
        "print('total training images:', train_images.shape[0])\n",
        "print('total validation images:', validation_images.shape[0])"
      ],
      "execution_count": 3,
      "outputs": [
        {
          "output_type": "stream",
          "text": [
            "total training images: 40000\n",
            "total validation images: 10000\n"
          ],
          "name": "stdout"
        }
      ]
    },
    {
      "metadata": {
        "id": "7dHHcp5USgOD",
        "colab_type": "text"
      },
      "cell_type": "markdown",
      "source": [
        "### Encoding the labels"
      ]
    },
    {
      "metadata": {
        "id": "Ecf4mka-SusC",
        "colab_type": "code",
        "colab": {}
      },
      "cell_type": "code",
      "source": [
        "from keras.utils import to_categorical\n",
        "\n",
        "class_names = ['airplan', 'automobile', 'bird', 'cat', 'deer', 'dog', 'frog', 'horse', 'ship', 'truck']\n",
        "num_classes = len(class_names)\n",
        "\n",
        "train_labels = to_categorical(train_labels, num_classes)\n",
        "validation_labels = to_categorical(validation_labels, num_classes)"
      ],
      "execution_count": 0,
      "outputs": []
    },
    {
      "metadata": {
        "id": "90zmcK2hhyWQ",
        "colab_type": "text"
      },
      "cell_type": "markdown",
      "source": [
        "### Preprocessing the data"
      ]
    },
    {
      "metadata": {
        "id": "eNeeHK0Qh1r9",
        "colab_type": "code",
        "colab": {}
      },
      "cell_type": "code",
      "source": [
        "train_images = train_images.astype('float32') / 255.0\n",
        "validation_images = validation_images.astype('float32') / 255.0"
      ],
      "execution_count": 0,
      "outputs": []
    },
    {
      "metadata": {
        "id": "nx40fYO57VQs",
        "colab_type": "text"
      },
      "cell_type": "markdown",
      "source": [
        "### Adding data augmentation\n",
        "Validation should not be augmented"
      ]
    },
    {
      "metadata": {
        "id": "PiRs1w0t7ZmG",
        "colab_type": "code",
        "colab": {}
      },
      "cell_type": "code",
      "source": [
        "from tensorflow.keras.preprocessing.image import ImageDataGenerator\n",
        "\n",
        "# Training images\n",
        "datagen = ImageDataGenerator(\n",
        "    rotation_range=15,\n",
        "    width_shift_range=0.1,\n",
        "    height_shift_range=0.1,\n",
        "    horizontal_flip=True)\n",
        "\n",
        "datagen.fit(train_images)"
      ],
      "execution_count": 0,
      "outputs": []
    },
    {
      "metadata": {
        "id": "tOK5_ixvAzcR",
        "colab_type": "text"
      },
      "cell_type": "markdown",
      "source": [
        "### Building the model with a dropout layer"
      ]
    },
    {
      "metadata": {
        "id": "1giH-P1NI9pl",
        "colab_type": "code",
        "outputId": "45174e92-4f85-43dd-aa80-a681179837df",
        "colab": {
          "base_uri": "https://localhost:8080/",
          "height": 442
        }
      },
      "cell_type": "code",
      "source": [
        "from tensorflow import keras\n",
        "\n",
        "model = keras.Sequential([\n",
        "    keras.layers.Conv2D(32, (3, 3), activation='relu', input_shape=(32, 32, 3)),\n",
        "    keras.layers.MaxPooling2D((2, 2)),\n",
        "    \n",
        "    keras.layers.Conv2D(64, (3, 3), activation='relu'),\n",
        "    keras.layers.MaxPooling2D((2, 2)),\n",
        "    \n",
        "    keras.layers.Conv2D(128, (3, 3), activation='relu'),\n",
        "    keras.layers.MaxPooling2D((2, 2)),\n",
        "    \n",
        "    keras.layers.Flatten(),\n",
        "    keras.layers.Dropout(0.5),\n",
        "    keras.layers.Dense(num_classes, activation='softmax')\n",
        "])\n",
        "\n",
        "model.summary()"
      ],
      "execution_count": 8,
      "outputs": [
        {
          "output_type": "stream",
          "text": [
            "_________________________________________________________________\n",
            "Layer (type)                 Output Shape              Param #   \n",
            "=================================================================\n",
            "conv2d_3 (Conv2D)            (None, 30, 30, 32)        896       \n",
            "_________________________________________________________________\n",
            "max_pooling2d_3 (MaxPooling2 (None, 15, 15, 32)        0         \n",
            "_________________________________________________________________\n",
            "conv2d_4 (Conv2D)            (None, 13, 13, 64)        18496     \n",
            "_________________________________________________________________\n",
            "max_pooling2d_4 (MaxPooling2 (None, 6, 6, 64)          0         \n",
            "_________________________________________________________________\n",
            "conv2d_5 (Conv2D)            (None, 4, 4, 128)         73856     \n",
            "_________________________________________________________________\n",
            "max_pooling2d_5 (MaxPooling2 (None, 2, 2, 128)         0         \n",
            "_________________________________________________________________\n",
            "flatten_1 (Flatten)          (None, 512)               0         \n",
            "_________________________________________________________________\n",
            "dropout_1 (Dropout)          (None, 512)               0         \n",
            "_________________________________________________________________\n",
            "dense_1 (Dense)              (None, 10)                5130      \n",
            "=================================================================\n",
            "Total params: 98,378\n",
            "Trainable params: 98,378\n",
            "Non-trainable params: 0\n",
            "_________________________________________________________________\n"
          ],
          "name": "stdout"
        }
      ]
    },
    {
      "metadata": {
        "id": "S6wmyqtMJW6I",
        "colab_type": "text"
      },
      "cell_type": "markdown",
      "source": [
        "### Compiling the model"
      ]
    },
    {
      "metadata": {
        "id": "gJjJAvwDJf8P",
        "colab_type": "code",
        "colab": {}
      },
      "cell_type": "code",
      "source": [
        "from tensorflow.keras.optimizers import RMSprop\n",
        "\n",
        "model.compile(loss='categorical_crossentropy',\n",
        "              optimizer=RMSprop(lr=0.001),\n",
        "              metrics=['accuracy'])"
      ],
      "execution_count": 0,
      "outputs": []
    },
    {
      "metadata": {
        "id": "W9CBde1GJpe-",
        "colab_type": "text"
      },
      "cell_type": "markdown",
      "source": [
        "### Training the model"
      ]
    },
    {
      "metadata": {
        "id": "B--p3OsrJvTt",
        "colab_type": "code",
        "outputId": "1ec272c7-250a-4989-9499-1a3f2ba47aa5",
        "colab": {
          "base_uri": "https://localhost:8080/",
          "height": 1530
        }
      },
      "cell_type": "code",
      "source": [
        "history = model.fit_generator(datagen.flow(train_images, train_labels, batch_size=32),\n",
        "                    epochs=30, verbose=1, validation_data=(validation_images, validation_labels), shuffle=True)"
      ],
      "execution_count": 10,
      "outputs": [
        {
          "output_type": "stream",
          "text": [
            "10000/10000 [==============================] - 7s 698us/sample - loss: 1.4516 - acc: 0.4863\n",
            "1250/1250 [==============================] - 94s 75ms/step - loss: 1.7920 - acc: 0.3390 - val_loss: 1.4514 - val_acc: 0.4863\n",
            "Epoch 2/30\n",
            "10000/10000 [==============================] - 7s 675us/sample - loss: 1.2507 - acc: 0.5591\n",
            "1250/1250 [==============================] - 93s 74ms/step - loss: 1.4849 - acc: 0.4692 - val_loss: 1.2509 - val_acc: 0.5591\n",
            "Epoch 3/30\n",
            "10000/10000 [==============================] - 7s 677us/sample - loss: 1.1553 - acc: 0.5976\n",
            "1250/1250 [==============================] - 94s 75ms/step - loss: 1.3625 - acc: 0.5136 - val_loss: 1.1555 - val_acc: 0.5976\n",
            "Epoch 4/30\n",
            "10000/10000 [==============================] - 7s 682us/sample - loss: 1.0475 - acc: 0.6363\n",
            "1250/1250 [==============================] - 94s 75ms/step - loss: 1.2902 - acc: 0.5438 - val_loss: 1.0482 - val_acc: 0.6363\n",
            "Epoch 5/30\n",
            "10000/10000 [==============================] - 7s 680us/sample - loss: 1.0388 - acc: 0.6390\n",
            "1250/1250 [==============================] - 93s 75ms/step - loss: 1.2426 - acc: 0.5623 - val_loss: 1.0393 - val_acc: 0.6390\n",
            "Epoch 6/30\n",
            "10000/10000 [==============================] - 7s 670us/sample - loss: 1.0201 - acc: 0.6539\n",
            "1250/1250 [==============================] - 94s 75ms/step - loss: 1.1997 - acc: 0.5770 - val_loss: 1.0208 - val_acc: 0.6539\n",
            "Epoch 7/30\n",
            "10000/10000 [==============================] - 7s 671us/sample - loss: 1.0403 - acc: 0.6425\n",
            "1250/1250 [==============================] - 93s 75ms/step - loss: 1.1748 - acc: 0.5891 - val_loss: 1.0409 - val_acc: 0.6425\n",
            "Epoch 8/30\n",
            "10000/10000 [==============================] - 7s 666us/sample - loss: 0.9191 - acc: 0.6787\n",
            "1250/1250 [==============================] - 93s 74ms/step - loss: 1.1547 - acc: 0.5962 - val_loss: 0.9200 - val_acc: 0.6787\n",
            "Epoch 9/30\n",
            "10000/10000 [==============================] - 7s 702us/sample - loss: 1.0111 - acc: 0.6490\n",
            "1250/1250 [==============================] - 94s 75ms/step - loss: 1.1398 - acc: 0.6044 - val_loss: 1.0122 - val_acc: 0.6490\n",
            "Epoch 10/30\n",
            "10000/10000 [==============================] - 7s 680us/sample - loss: 1.0150 - acc: 0.6505\n",
            "1250/1250 [==============================] - 95s 76ms/step - loss: 1.1303 - acc: 0.6117 - val_loss: 1.0163 - val_acc: 0.6505\n",
            "Epoch 11/30\n",
            "10000/10000 [==============================] - 7s 671us/sample - loss: 0.9139 - acc: 0.6876\n",
            "1250/1250 [==============================] - 94s 75ms/step - loss: 1.1318 - acc: 0.6101 - val_loss: 0.9154 - val_acc: 0.6876\n",
            "Epoch 12/30\n",
            "10000/10000 [==============================] - 7s 678us/sample - loss: 0.9956 - acc: 0.6605\n",
            "1250/1250 [==============================] - 94s 75ms/step - loss: 1.1289 - acc: 0.6133 - val_loss: 0.9972 - val_acc: 0.6605\n",
            "Epoch 13/30\n",
            "10000/10000 [==============================] - 7s 675us/sample - loss: 1.0726 - acc: 0.6372\n",
            "1250/1250 [==============================] - 94s 76ms/step - loss: 1.1310 - acc: 0.6128 - val_loss: 1.0741 - val_acc: 0.6372\n",
            "Epoch 14/30\n",
            "10000/10000 [==============================] - 7s 687us/sample - loss: 0.9586 - acc: 0.6670\n",
            "1250/1250 [==============================] - 94s 75ms/step - loss: 1.1290 - acc: 0.6161 - val_loss: 0.9598 - val_acc: 0.6670\n",
            "Epoch 15/30\n",
            "10000/10000 [==============================] - 7s 683us/sample - loss: 1.0021 - acc: 0.6597\n",
            "1250/1250 [==============================] - 94s 75ms/step - loss: 1.1269 - acc: 0.6122 - val_loss: 1.0035 - val_acc: 0.6597\n",
            "Epoch 16/30\n",
            "10000/10000 [==============================] - 7s 677us/sample - loss: 0.8796 - acc: 0.7023\n",
            "1250/1250 [==============================] - 94s 75ms/step - loss: 1.1415 - acc: 0.6124 - val_loss: 0.8811 - val_acc: 0.7023\n",
            "Epoch 17/30\n",
            "10000/10000 [==============================] - 7s 678us/sample - loss: 0.9040 - acc: 0.6994\n",
            "1250/1250 [==============================] - 93s 74ms/step - loss: 1.1395 - acc: 0.6098 - val_loss: 0.9052 - val_acc: 0.6994\n",
            "Epoch 18/30\n",
            "10000/10000 [==============================] - 7s 675us/sample - loss: 1.0022 - acc: 0.6823\n",
            "1250/1250 [==============================] - 93s 75ms/step - loss: 1.1453 - acc: 0.6097 - val_loss: 1.0042 - val_acc: 0.6823\n",
            "Epoch 19/30\n",
            "10000/10000 [==============================] - 7s 710us/sample - loss: 0.9595 - acc: 0.6744\n",
            "1250/1250 [==============================] - 93s 74ms/step - loss: 1.1566 - acc: 0.6108 - val_loss: 0.9606 - val_acc: 0.6744\n",
            "Epoch 20/30\n",
            "10000/10000 [==============================] - 7s 670us/sample - loss: 1.1038 - acc: 0.6513\n",
            "1250/1250 [==============================] - 93s 74ms/step - loss: 1.1634 - acc: 0.6070 - val_loss: 1.1053 - val_acc: 0.6513\n",
            "Epoch 21/30\n",
            "10000/10000 [==============================] - 7s 672us/sample - loss: 1.1591 - acc: 0.6440\n",
            "1250/1250 [==============================] - 94s 75ms/step - loss: 1.1914 - acc: 0.5946 - val_loss: 1.1607 - val_acc: 0.6440\n",
            "Epoch 22/30\n",
            "10000/10000 [==============================] - 7s 666us/sample - loss: 0.9332 - acc: 0.6938\n",
            "1250/1250 [==============================] - 93s 74ms/step - loss: 1.2008 - acc: 0.5954 - val_loss: 0.9349 - val_acc: 0.6938\n",
            "Epoch 23/30\n",
            "10000/10000 [==============================] - 7s 680us/sample - loss: 1.0576 - acc: 0.6614\n",
            "1250/1250 [==============================] - 93s 75ms/step - loss: 1.2259 - acc: 0.5911 - val_loss: 1.0588 - val_acc: 0.6614\n",
            "Epoch 24/30\n",
            "10000/10000 [==============================] - 7s 674us/sample - loss: 1.1159 - acc: 0.6471\n",
            "1250/1250 [==============================] - 93s 74ms/step - loss: 1.2307 - acc: 0.5848 - val_loss: 1.1181 - val_acc: 0.6471\n",
            "Epoch 25/30\n",
            "10000/10000 [==============================] - 7s 684us/sample - loss: 1.0009 - acc: 0.6682\n",
            "1250/1250 [==============================] - 92s 74ms/step - loss: 1.2448 - acc: 0.5804 - val_loss: 1.0026 - val_acc: 0.6682\n",
            "Epoch 26/30\n",
            "10000/10000 [==============================] - 7s 663us/sample - loss: 0.9817 - acc: 0.6613\n",
            "1250/1250 [==============================] - 93s 74ms/step - loss: 1.2757 - acc: 0.5727 - val_loss: 0.9824 - val_acc: 0.6613\n",
            "Epoch 27/30\n",
            "10000/10000 [==============================] - 7s 673us/sample - loss: 1.1075 - acc: 0.6286\n",
            "1250/1250 [==============================] - 92s 74ms/step - loss: 1.2740 - acc: 0.5747 - val_loss: 1.1086 - val_acc: 0.6286\n",
            "Epoch 28/30\n",
            "10000/10000 [==============================] - 7s 673us/sample - loss: 1.4204 - acc: 0.5958\n",
            "1250/1250 [==============================] - 93s 74ms/step - loss: 1.2989 - acc: 0.5664 - val_loss: 1.4209 - val_acc: 0.5958\n",
            "Epoch 29/30\n",
            "10000/10000 [==============================] - 7s 682us/sample - loss: 1.0539 - acc: 0.6497\n",
            "1250/1250 [==============================] - 93s 74ms/step - loss: 1.3114 - acc: 0.5651 - val_loss: 1.0543 - val_acc: 0.6497\n",
            "Epoch 30/30\n",
            "10000/10000 [==============================] - 7s 679us/sample - loss: 1.1052 - acc: 0.6401\n",
            "1250/1250 [==============================] - 93s 74ms/step - loss: 1.3197 - acc: 0.5634 - val_loss: 1.1053 - val_acc: 0.6401\n"
          ],
          "name": "stdout"
        }
      ]
    },
    {
      "metadata": {
        "id": "Ka8GJETXsGv0",
        "colab_type": "text"
      },
      "cell_type": "markdown",
      "source": [
        "The final training accuracy: 0.5634\n",
        "\n",
        "The final validation accuracy: 0.6401"
      ]
    },
    {
      "metadata": {
        "id": "HdZaiaR5pFcu",
        "colab_type": "text"
      },
      "cell_type": "markdown",
      "source": [
        "### Saving the model"
      ]
    },
    {
      "metadata": {
        "id": "Imm1TdespJA-",
        "colab_type": "code",
        "colab": {}
      },
      "cell_type": "code",
      "source": [
        "model_fname = 'model_augment_dropout.h5' \n",
        "model.save(model_fname)"
      ],
      "execution_count": 0,
      "outputs": []
    },
    {
      "metadata": {
        "id": "XOY1qRS2pV4L",
        "colab_type": "text"
      },
      "cell_type": "markdown",
      "source": [
        "### Downloading the model"
      ]
    },
    {
      "metadata": {
        "id": "dN56DIj4pZt5",
        "colab_type": "code",
        "colab": {}
      },
      "cell_type": "code",
      "source": [
        "from google.colab import files\n",
        "\n",
        "with open(model_fname, 'r') as f:\n",
        "  files.download(model_fname)"
      ],
      "execution_count": 0,
      "outputs": []
    },
    {
      "metadata": {
        "id": "iLytHSp_ds6C",
        "colab_type": "text"
      },
      "cell_type": "markdown",
      "source": [
        "### Checking overfitting"
      ]
    },
    {
      "metadata": {
        "id": "K6t234ovdv3s",
        "colab_type": "code",
        "outputId": "d4e4f5a8-5362-418d-da73-b8635c7c464e",
        "colab": {
          "base_uri": "https://localhost:8080/",
          "height": 752
        }
      },
      "cell_type": "code",
      "source": [
        "import matplotlib.pyplot as plt\n",
        "\n",
        "acc = history.history['acc']\n",
        "val_acc = history.history['val_acc']\n",
        "\n",
        "loss = history.history['loss']\n",
        "val_loss = history.history['val_loss']\n",
        "\n",
        "epochs = range(len(acc))\n",
        "\n",
        "# Plot training and validation accuracy per epoch\n",
        "plt.plot(epochs, acc, 'bo', label='Training accuracy')\n",
        "plt.plot(epochs, val_acc, 'ro', label='Validation accuracy')\n",
        "plt.title('Training and validation accuracy')\n",
        "plt.xlabel('Epochs')\n",
        "plt.ylabel('Accuracy')\n",
        "plt.legend()\n",
        "\n",
        "plt.figure()\n",
        "\n",
        "# Plot training and validation loss per epoch\n",
        "plt.plot(epochs, loss, 'bo', label='Training loss')\n",
        "plt.plot(epochs, val_loss, 'ro', label='Validation loss')\n",
        "plt.title('Training and validation loss')\n",
        "plt.xlabel('Epochs')\n",
        "plt.ylabel('Loss')\n",
        "plt.legend()"
      ],
      "execution_count": 14,
      "outputs": [
        {
          "output_type": "execute_result",
          "data": {
            "text/plain": [
              "<matplotlib.legend.Legend at 0x7fc0f4c502b0>"
            ]
          },
          "metadata": {
            "tags": []
          },
          "execution_count": 14
        },
        {
          "output_type": "display_data",
          "data": {
            "image/png": "[encoded data removed]",
            "text/plain": [
              "<Figure size 576x396 with 1 Axes>"
            ]
          },
          "metadata": {
            "tags": []
          }
        },
        {
          "output_type": "display_data",
          "data": {
            "image/png": "[encoded data removed]",
            "text/plain": [
              "<Figure size 576x396 with 1 Axes>"
            ]
          },
          "metadata": {
            "tags": []
          }
        }
      ]
    }
  ]
}
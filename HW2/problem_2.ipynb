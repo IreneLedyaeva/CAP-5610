{
  "nbformat": 4,
  "nbformat_minor": 0,
  "metadata": {
    "colab": {
      "name": "problem_2.ipynb",
      "version": "0.3.2",
      "provenance": [],
      "include_colab_link": true
    },
    "kernelspec": {
      "name": "python3",
      "display_name": "Python 3"
    }
  },
  "cells": [
    {
      "cell_type": "markdown",
      "metadata": {
        "id": "view-in-github",
        "colab_type": "text"
      },
      "source": [
        "<a href=\"https://colab.research.google.com/github/IreneLedyaeva/CAP-5610/blob/master/HW2/problem_2.ipynb\" target=\"_parent\"><img src=\"https://colab.research.google.com/assets/colab-badge.svg\" alt=\"Open In Colab\"/></a>"
      ]
    },
    {
      "metadata": {
        "id": "pwfDXmfJ_zK3",
        "colab_type": "text"
      },
      "cell_type": "markdown",
      "source": [
        "## CNN architecture with hold-out validation and dropout"
      ]
    },
    {
      "metadata": {
        "id": "zRWk951gSW_n",
        "colab_type": "text"
      },
      "cell_type": "markdown",
      "source": [
        "### Loading the CIFAR10 data set"
      ]
    },
    {
      "metadata": {
        "id": "JhDk_-QE_2Ns",
        "colab_type": "code",
        "colab": {}
      },
      "cell_type": "code",
      "source": [
        "from keras.datasets import cifar10\n",
        "\n",
        "(non_test_images, non_test_labels), (test_images, test_labels) = cifar10.load_data()"
      ],
      "execution_count": 0,
      "outputs": []
    },
    {
      "metadata": {
        "id": "kVOZsyMM18jB",
        "colab_type": "text"
      },
      "cell_type": "markdown",
      "source": [
        "### Splitting non-test data into training and validation"
      ]
    },
    {
      "metadata": {
        "id": "j2pjCIjQ2DQ-",
        "colab_type": "code",
        "outputId": "c0260e03-7644-4c86-a670-289e42403765",
        "colab": {
          "base_uri": "https://localhost:8080/",
          "height": 68
        }
      },
      "cell_type": "code",
      "source": [
        "num_validation_samples = int(non_test_images.shape[0] * 0.2)\n",
        "\n",
        "train_images = non_test_images[num_validation_samples:] \n",
        "validation_images = non_test_images[:num_validation_samples]\n",
        "\n",
        "train_labels = non_test_labels[num_validation_samples:] \n",
        "validation_labels = non_test_labels[:num_validation_samples]\n",
        "\n",
        "print('total training images:', train_images.shape[0])\n",
        "print('total validation images:', validation_images.shape[0])\n",
        "print('total test images:', test_images.shape[0])"
      ],
      "execution_count": 3,
      "outputs": [
        {
          "output_type": "stream",
          "text": [
            "total training images: 40000\n",
            "total validation images: 10000\n",
            "total test images: 10000\n"
          ],
          "name": "stdout"
        }
      ]
    },
    {
      "metadata": {
        "id": "7dHHcp5USgOD",
        "colab_type": "text"
      },
      "cell_type": "markdown",
      "source": [
        "### Encoding the labels"
      ]
    },
    {
      "metadata": {
        "id": "Ecf4mka-SusC",
        "colab_type": "code",
        "colab": {}
      },
      "cell_type": "code",
      "source": [
        "from keras.utils import to_categorical\n",
        "\n",
        "class_names = ['airplan', 'automobile', 'bird', 'cat', 'deer', 'dog', 'frog', 'horse', 'ship', 'truck']\n",
        "num_classes = len(class_names)\n",
        "\n",
        "train_labels = to_categorical(train_labels, num_classes)\n",
        "validation_labels = to_categorical(validation_labels, num_classes)\n",
        "test_labels = to_categorical(test_labels, num_classes)"
      ],
      "execution_count": 0,
      "outputs": []
    },
    {
      "metadata": {
        "id": "90zmcK2hhyWQ",
        "colab_type": "text"
      },
      "cell_type": "markdown",
      "source": [
        "### Preprocessing the data"
      ]
    },
    {
      "metadata": {
        "id": "eNeeHK0Qh1r9",
        "colab_type": "code",
        "colab": {}
      },
      "cell_type": "code",
      "source": [
        "train_images = train_images.astype('float32') / 255.0\n",
        "validation_images = validation_images.astype('float32') / 255.0\n",
        "test_images = test_images.astype('float32') / 255.0"
      ],
      "execution_count": 0,
      "outputs": []
    },
    {
      "metadata": {
        "id": "tOK5_ixvAzcR",
        "colab_type": "text"
      },
      "cell_type": "markdown",
      "source": [
        "### Building the model with a dropout layer"
      ]
    },
    {
      "metadata": {
        "id": "1giH-P1NI9pl",
        "colab_type": "code",
        "outputId": "4a4e5c5e-891f-448e-9e9d-d48b3d9df7f0",
        "colab": {
          "base_uri": "https://localhost:8080/",
          "height": 564
        }
      },
      "cell_type": "code",
      "source": [
        "from tensorflow import keras\n",
        "\n",
        "model = keras.Sequential([\n",
        "    keras.layers.Conv2D(32, (3, 3), activation='relu', input_shape=(32, 32, 3)),\n",
        "    keras.layers.MaxPooling2D((2, 2)),\n",
        "    \n",
        "    keras.layers.Conv2D(64, (3, 3), activation='relu'),\n",
        "    keras.layers.MaxPooling2D((2, 2)),\n",
        "    \n",
        "    keras.layers.Conv2D(128, (3, 3), activation='relu'),\n",
        "    keras.layers.MaxPooling2D((2, 2)),\n",
        "    \n",
        "    keras.layers.Flatten(),\n",
        "    keras.layers.Dropout(0.5),\n",
        "    keras.layers.Dense(num_classes, activation='softmax')\n",
        "])\n",
        "\n",
        "model.summary()"
      ],
      "execution_count": 6,
      "outputs": [
        {
          "output_type": "stream",
          "text": [
            "WARNING:tensorflow:From /usr/local/lib/python3.6/dist-packages/tensorflow/python/ops/resource_variable_ops.py:435: colocate_with (from tensorflow.python.framework.ops) is deprecated and will be removed in a future version.\n",
            "Instructions for updating:\n",
            "Colocations handled automatically by placer.\n",
            "WARNING:tensorflow:From /usr/local/lib/python3.6/dist-packages/tensorflow/python/keras/layers/core.py:143: calling dropout (from tensorflow.python.ops.nn_ops) with keep_prob is deprecated and will be removed in a future version.\n",
            "Instructions for updating:\n",
            "Please use `rate` instead of `keep_prob`. Rate should be set to `rate = 1 - keep_prob`.\n",
            "_________________________________________________________________\n",
            "Layer (type)                 Output Shape              Param #   \n",
            "=================================================================\n",
            "conv2d (Conv2D)              (None, 30, 30, 32)        896       \n",
            "_________________________________________________________________\n",
            "max_pooling2d (MaxPooling2D) (None, 15, 15, 32)        0         \n",
            "_________________________________________________________________\n",
            "conv2d_1 (Conv2D)            (None, 13, 13, 64)        18496     \n",
            "_________________________________________________________________\n",
            "max_pooling2d_1 (MaxPooling2 (None, 6, 6, 64)          0         \n",
            "_________________________________________________________________\n",
            "conv2d_2 (Conv2D)            (None, 4, 4, 128)         73856     \n",
            "_________________________________________________________________\n",
            "max_pooling2d_2 (MaxPooling2 (None, 2, 2, 128)         0         \n",
            "_________________________________________________________________\n",
            "flatten (Flatten)            (None, 512)               0         \n",
            "_________________________________________________________________\n",
            "dropout (Dropout)            (None, 512)               0         \n",
            "_________________________________________________________________\n",
            "dense (Dense)                (None, 10)                5130      \n",
            "=================================================================\n",
            "Total params: 98,378\n",
            "Trainable params: 98,378\n",
            "Non-trainable params: 0\n",
            "_________________________________________________________________\n"
          ],
          "name": "stdout"
        }
      ]
    },
    {
      "metadata": {
        "id": "S6wmyqtMJW6I",
        "colab_type": "text"
      },
      "cell_type": "markdown",
      "source": [
        "### Compiling the model"
      ]
    },
    {
      "metadata": {
        "id": "gJjJAvwDJf8P",
        "colab_type": "code",
        "colab": {}
      },
      "cell_type": "code",
      "source": [
        "from tensorflow.keras.optimizers import RMSprop\n",
        "\n",
        "model.compile(loss='categorical_crossentropy',\n",
        "              optimizer=RMSprop(lr=0.001),\n",
        "              metrics=['accuracy'])"
      ],
      "execution_count": 0,
      "outputs": []
    },
    {
      "metadata": {
        "id": "W9CBde1GJpe-",
        "colab_type": "text"
      },
      "cell_type": "markdown",
      "source": [
        "### Training the model"
      ]
    },
    {
      "metadata": {
        "id": "B--p3OsrJvTt",
        "colab_type": "code",
        "outputId": "93c8792e-83d5-4fc6-ad95-a65bd764ca4b",
        "colab": {
          "base_uri": "https://localhost:8080/",
          "height": 1125
        }
      },
      "cell_type": "code",
      "source": [
        "history = model.fit(train_images, \n",
        "                    train_labels, \n",
        "                    epochs=30,\n",
        "                    batch_size=32,\n",
        "                    verbose=1,validation_data=(validation_images, validation_labels))"
      ],
      "execution_count": 8,
      "outputs": [
        {
          "output_type": "stream",
          "text": [
            "Train on 40000 samples, validate on 10000 samples\n",
            "WARNING:tensorflow:From /usr/local/lib/python3.6/dist-packages/tensorflow/python/ops/math_ops.py:3066: to_int32 (from tensorflow.python.ops.math_ops) is deprecated and will be removed in a future version.\n",
            "Instructions for updating:\n",
            "Use tf.cast instead.\n",
            "Epoch 1/30\n",
            "40000/40000 [==============================] - 81s 2ms/sample - loss: 1.6934 - acc: 0.3796 - val_loss: 1.3107 - val_acc: 0.5245\n",
            "Epoch 2/30\n",
            "40000/40000 [==============================] - 81s 2ms/sample - loss: 1.3485 - acc: 0.5174 - val_loss: 1.1931 - val_acc: 0.5727\n",
            "Epoch 3/30\n",
            "40000/40000 [==============================] - 82s 2ms/sample - loss: 1.2018 - acc: 0.5788 - val_loss: 1.1366 - val_acc: 0.6171\n",
            "Epoch 4/30\n",
            "40000/40000 [==============================] - 82s 2ms/sample - loss: 1.0970 - acc: 0.6156 - val_loss: 1.0270 - val_acc: 0.6341\n",
            "Epoch 5/30\n",
            "40000/40000 [==============================] - 81s 2ms/sample - loss: 1.0371 - acc: 0.6383 - val_loss: 0.9569 - val_acc: 0.6747\n",
            "Epoch 6/30\n",
            "40000/40000 [==============================] - 82s 2ms/sample - loss: 0.9846 - acc: 0.6600 - val_loss: 0.9355 - val_acc: 0.6749\n",
            "Epoch 7/30\n",
            "40000/40000 [==============================] - 81s 2ms/sample - loss: 0.9509 - acc: 0.6695 - val_loss: 0.9125 - val_acc: 0.6917\n",
            "Epoch 8/30\n",
            "40000/40000 [==============================] - 81s 2ms/sample - loss: 0.9212 - acc: 0.6826 - val_loss: 0.8936 - val_acc: 0.7002\n",
            "Epoch 9/30\n",
            "40000/40000 [==============================] - 81s 2ms/sample - loss: 0.8949 - acc: 0.6938 - val_loss: 0.8863 - val_acc: 0.6972\n",
            "Epoch 10/30\n",
            "40000/40000 [==============================] - 82s 2ms/sample - loss: 0.8798 - acc: 0.6944 - val_loss: 0.8738 - val_acc: 0.7019\n",
            "Epoch 11/30\n",
            "40000/40000 [==============================] - 81s 2ms/sample - loss: 0.8735 - acc: 0.7013 - val_loss: 0.8336 - val_acc: 0.7179\n",
            "Epoch 12/30\n",
            "40000/40000 [==============================] - 81s 2ms/sample - loss: 0.8563 - acc: 0.7067 - val_loss: 0.8602 - val_acc: 0.7065\n",
            "Epoch 13/30\n",
            "40000/40000 [==============================] - 81s 2ms/sample - loss: 0.8560 - acc: 0.7079 - val_loss: 0.8332 - val_acc: 0.7184\n",
            "Epoch 14/30\n",
            "40000/40000 [==============================] - 80s 2ms/sample - loss: 0.8536 - acc: 0.7105 - val_loss: 0.8244 - val_acc: 0.7259\n",
            "Epoch 15/30\n",
            "40000/40000 [==============================] - 80s 2ms/sample - loss: 0.8457 - acc: 0.7125 - val_loss: 0.8835 - val_acc: 0.7027\n",
            "Epoch 16/30\n",
            "40000/40000 [==============================] - 80s 2ms/sample - loss: 0.8477 - acc: 0.7137 - val_loss: 0.9609 - val_acc: 0.6934\n",
            "Epoch 17/30\n",
            "40000/40000 [==============================] - 80s 2ms/sample - loss: 0.8485 - acc: 0.7128 - val_loss: 0.8725 - val_acc: 0.7084\n",
            "Epoch 18/30\n",
            "40000/40000 [==============================] - 81s 2ms/sample - loss: 0.8485 - acc: 0.7140 - val_loss: 0.8102 - val_acc: 0.7277\n",
            "Epoch 19/30\n",
            "40000/40000 [==============================] - 81s 2ms/sample - loss: 0.8448 - acc: 0.7161 - val_loss: 0.8640 - val_acc: 0.7099\n",
            "Epoch 20/30\n",
            "40000/40000 [==============================] - 81s 2ms/sample - loss: 0.8485 - acc: 0.7156 - val_loss: 0.8617 - val_acc: 0.7164\n",
            "Epoch 21/30\n",
            "40000/40000 [==============================] - 81s 2ms/sample - loss: 0.8556 - acc: 0.7129 - val_loss: 0.8827 - val_acc: 0.7028\n",
            "Epoch 22/30\n",
            "40000/40000 [==============================] - 80s 2ms/sample - loss: 0.8580 - acc: 0.7109 - val_loss: 0.8715 - val_acc: 0.7066\n",
            "Epoch 23/30\n",
            "40000/40000 [==============================] - 79s 2ms/sample - loss: 0.8563 - acc: 0.7125 - val_loss: 0.9351 - val_acc: 0.7045\n",
            "Epoch 24/30\n",
            "40000/40000 [==============================] - 79s 2ms/sample - loss: 0.8678 - acc: 0.7109 - val_loss: 0.8879 - val_acc: 0.7151\n",
            "Epoch 25/30\n",
            "40000/40000 [==============================] - 80s 2ms/sample - loss: 0.8747 - acc: 0.7099 - val_loss: 1.0263 - val_acc: 0.6729\n",
            "Epoch 26/30\n",
            "40000/40000 [==============================] - 79s 2ms/sample - loss: 0.8826 - acc: 0.7074 - val_loss: 0.9286 - val_acc: 0.7066\n",
            "Epoch 27/30\n",
            "40000/40000 [==============================] - 80s 2ms/sample - loss: 0.8962 - acc: 0.7036 - val_loss: 0.8942 - val_acc: 0.7048\n",
            "Epoch 28/30\n",
            "40000/40000 [==============================] - 80s 2ms/sample - loss: 0.8924 - acc: 0.7033 - val_loss: 1.0307 - val_acc: 0.6617\n",
            "Epoch 29/30\n",
            "40000/40000 [==============================] - 81s 2ms/sample - loss: 0.9188 - acc: 0.6988 - val_loss: 0.9732 - val_acc: 0.6842\n",
            "Epoch 30/30\n",
            "40000/40000 [==============================] - 80s 2ms/sample - loss: 0.9202 - acc: 0.6982 - val_loss: 0.8957 - val_acc: 0.7094\n"
          ],
          "name": "stdout"
        }
      ]
    },
    {
      "metadata": {
        "id": "HdZaiaR5pFcu",
        "colab_type": "text"
      },
      "cell_type": "markdown",
      "source": [
        "### Saving the model"
      ]
    },
    {
      "metadata": {
        "id": "Imm1TdespJA-",
        "colab_type": "code",
        "colab": {}
      },
      "cell_type": "code",
      "source": [
        "model_fname = 'model_dropout.h5' \n",
        "model.save(model_fname)"
      ],
      "execution_count": 0,
      "outputs": []
    },
    {
      "metadata": {
        "id": "XOY1qRS2pV4L",
        "colab_type": "text"
      },
      "cell_type": "markdown",
      "source": [
        "### Opening the model"
      ]
    },
    {
      "metadata": {
        "id": "dN56DIj4pZt5",
        "colab_type": "code",
        "colab": {}
      },
      "cell_type": "code",
      "source": [
        "from google.colab import files\n",
        "\n",
        "with open(model_fname, 'r') as f:\n",
        "  files.download(model_fname)"
      ],
      "execution_count": 0,
      "outputs": []
    },
    {
      "metadata": {
        "id": "iLytHSp_ds6C",
        "colab_type": "text"
      },
      "cell_type": "markdown",
      "source": [
        "### Checking overfitting"
      ]
    },
    {
      "metadata": {
        "id": "K6t234ovdv3s",
        "colab_type": "code",
        "outputId": "a848e49a-824a-4d4d-f1e1-b7e4492cb150",
        "colab": {
          "base_uri": "https://localhost:8080/",
          "height": 724
        }
      },
      "cell_type": "code",
      "source": [
        "import matplotlib.pyplot as plt\n",
        "\n",
        "acc = history.history['acc']\n",
        "val_acc = history.history['val_acc']\n",
        "\n",
        "loss = history.history['loss']\n",
        "val_loss = history.history['val_loss']\n",
        "\n",
        "epochs = range(len(acc))\n",
        "\n",
        "# Plot training and validation accuracy per epoch\n",
        "plt.plot(epochs, acc)\n",
        "plt.plot(epochs, val_acc)\n",
        "plt.title('Training and validation accuracy')\n",
        "\n",
        "plt.figure()\n",
        "\n",
        "# Plot training and validation loss per epoch\n",
        "plt.plot(epochs, loss)\n",
        "plt.plot(epochs, val_loss)\n",
        "plt.title('Training and validation loss')"
      ],
      "execution_count": 13,
      "outputs": [
        {
          "output_type": "execute_result",
          "data": {
            "text/plain": [
              "Text(0.5, 1.0, 'Training and validation loss')"
            ]
          },
          "metadata": {
            "tags": []
          },
          "execution_count": 13
        },
        {
          "output_type": "display_data",
          "data": {
            "image/png": "[encoded data removed]",
            "text/plain": [
              "<Figure size 576x396 with 1 Axes>"
            ]
          },
          "metadata": {
            "tags": []
          }
        },
        {
          "output_type": "display_data",
          "data": {
            "image/png": "[encoded data removed]",
            "text/plain": [
              "<Figure size 576x396 with 1 Axes>"
            ]
          },
          "metadata": {
            "tags": []
          }
        }
      ]
    }
  ]
}
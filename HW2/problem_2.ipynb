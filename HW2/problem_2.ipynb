{
  "nbformat": 4,
  "nbformat_minor": 0,
  "metadata": {
    "colab": {
      "name": "problem_2.ipynb",
      "version": "0.3.2",
      "provenance": [],
      "include_colab_link": true
    },
    "kernelspec": {
      "name": "python3",
      "display_name": "Python 3"
    }
  },
  "cells": [
    {
      "cell_type": "markdown",
      "metadata": {
        "id": "view-in-github",
        "colab_type": "text"
      },
      "source": [
        "<a href=\"https://colab.research.google.com/github/IreneLedyaeva/CAP-5610/blob/master/HW2/problem_2.ipynb\" target=\"_parent\"><img src=\"https://colab.research.google.com/assets/colab-badge.svg\" alt=\"Open In Colab\"/></a>"
      ]
    },
    {
      "metadata": {
        "id": "pwfDXmfJ_zK3",
        "colab_type": "text"
      },
      "cell_type": "markdown",
      "source": [
        "## CNN architecture with hold-out validation and a dropout layer"
      ]
    },
    {
      "metadata": {
        "id": "zRWk951gSW_n",
        "colab_type": "text"
      },
      "cell_type": "markdown",
      "source": [
        "### Loading the CIFAR10 data set"
      ]
    },
    {
      "metadata": {
        "id": "JhDk_-QE_2Ns",
        "colab_type": "code",
        "colab": {}
      },
      "cell_type": "code",
      "source": [
        "from keras.datasets import cifar10\n",
        "\n",
        "(non_test_images, non_test_labels), (test_images, test_labels) = cifar10.load_data()"
      ],
      "execution_count": 0,
      "outputs": []
    },
    {
      "metadata": {
        "id": "kVOZsyMM18jB",
        "colab_type": "text"
      },
      "cell_type": "markdown",
      "source": [
        "### Splitting non-test data into training and validation"
      ]
    },
    {
      "metadata": {
        "id": "j2pjCIjQ2DQ-",
        "colab_type": "code",
        "outputId": "cca31f00-46db-4ace-b68d-92ed087f38cd",
        "colab": {
          "base_uri": "https://localhost:8080/",
          "height": 51
        }
      },
      "cell_type": "code",
      "source": [
        "num_validation_samples = int(non_test_images.shape[0] * 0.2)\n",
        "\n",
        "train_images = non_test_images[num_validation_samples:] \n",
        "validation_images = non_test_images[:num_validation_samples]\n",
        "\n",
        "train_labels = non_test_labels[num_validation_samples:] \n",
        "validation_labels = non_test_labels[:num_validation_samples]\n",
        "\n",
        "print('total training images:', train_images.shape[0])\n",
        "print('total validation images:', validation_images.shape[0])"
      ],
      "execution_count": 17,
      "outputs": [
        {
          "output_type": "stream",
          "text": [
            "total training images: 40000\n",
            "total validation images: 10000\n"
          ],
          "name": "stdout"
        }
      ]
    },
    {
      "metadata": {
        "id": "7dHHcp5USgOD",
        "colab_type": "text"
      },
      "cell_type": "markdown",
      "source": [
        "### Encoding the labels"
      ]
    },
    {
      "metadata": {
        "id": "Ecf4mka-SusC",
        "colab_type": "code",
        "colab": {}
      },
      "cell_type": "code",
      "source": [
        "from keras.utils import to_categorical\n",
        "\n",
        "class_names = ['airplan', 'automobile', 'bird', 'cat', 'deer', 'dog', 'frog', 'horse', 'ship', 'truck']\n",
        "num_classes = len(class_names)\n",
        "\n",
        "train_labels = to_categorical(train_labels, num_classes)\n",
        "validation_labels = to_categorical(validation_labels, num_classes)"
      ],
      "execution_count": 0,
      "outputs": []
    },
    {
      "metadata": {
        "id": "90zmcK2hhyWQ",
        "colab_type": "text"
      },
      "cell_type": "markdown",
      "source": [
        "### Preprocessing the data"
      ]
    },
    {
      "metadata": {
        "id": "eNeeHK0Qh1r9",
        "colab_type": "code",
        "colab": {}
      },
      "cell_type": "code",
      "source": [
        "train_images = train_images.astype('float32') / 255.0\n",
        "validation_images = validation_images.astype('float32') / 255.0"
      ],
      "execution_count": 0,
      "outputs": []
    },
    {
      "metadata": {
        "id": "tOK5_ixvAzcR",
        "colab_type": "text"
      },
      "cell_type": "markdown",
      "source": [
        "### Building the model with a dropout layer"
      ]
    },
    {
      "metadata": {
        "id": "1giH-P1NI9pl",
        "colab_type": "code",
        "outputId": "6edcce6e-f182-499d-e0ea-e51cc938133c",
        "colab": {
          "base_uri": "https://localhost:8080/",
          "height": 442
        }
      },
      "cell_type": "code",
      "source": [
        "from tensorflow import keras\n",
        "\n",
        "model = keras.Sequential([\n",
        "    keras.layers.Conv2D(32, (3, 3), activation='relu', input_shape=(32, 32, 3)),\n",
        "    keras.layers.MaxPooling2D((2, 2)),\n",
        "    \n",
        "    keras.layers.Conv2D(64, (3, 3), activation='relu'),\n",
        "    keras.layers.MaxPooling2D((2, 2)),\n",
        "    \n",
        "    keras.layers.Conv2D(128, (3, 3), activation='relu'),\n",
        "    keras.layers.MaxPooling2D((2, 2)),\n",
        "    \n",
        "    keras.layers.Flatten(),\n",
        "    keras.layers.Dropout(0.5),\n",
        "    keras.layers.Dense(num_classes, activation='softmax')\n",
        "])\n",
        "\n",
        "model.summary()"
      ],
      "execution_count": 20,
      "outputs": [
        {
          "output_type": "stream",
          "text": [
            "_________________________________________________________________\n",
            "Layer (type)                 Output Shape              Param #   \n",
            "=================================================================\n",
            "conv2d_9 (Conv2D)            (None, 30, 30, 32)        896       \n",
            "_________________________________________________________________\n",
            "max_pooling2d_9 (MaxPooling2 (None, 15, 15, 32)        0         \n",
            "_________________________________________________________________\n",
            "conv2d_10 (Conv2D)           (None, 13, 13, 64)        18496     \n",
            "_________________________________________________________________\n",
            "max_pooling2d_10 (MaxPooling (None, 6, 6, 64)          0         \n",
            "_________________________________________________________________\n",
            "conv2d_11 (Conv2D)           (None, 4, 4, 128)         73856     \n",
            "_________________________________________________________________\n",
            "max_pooling2d_11 (MaxPooling (None, 2, 2, 128)         0         \n",
            "_________________________________________________________________\n",
            "flatten_3 (Flatten)          (None, 512)               0         \n",
            "_________________________________________________________________\n",
            "dropout_3 (Dropout)          (None, 512)               0         \n",
            "_________________________________________________________________\n",
            "dense_3 (Dense)              (None, 10)                5130      \n",
            "=================================================================\n",
            "Total params: 98,378\n",
            "Trainable params: 98,378\n",
            "Non-trainable params: 0\n",
            "_________________________________________________________________\n"
          ],
          "name": "stdout"
        }
      ]
    },
    {
      "metadata": {
        "id": "S6wmyqtMJW6I",
        "colab_type": "text"
      },
      "cell_type": "markdown",
      "source": [
        "### Compiling the model"
      ]
    },
    {
      "metadata": {
        "id": "gJjJAvwDJf8P",
        "colab_type": "code",
        "colab": {}
      },
      "cell_type": "code",
      "source": [
        "from tensorflow.keras.optimizers import RMSprop\n",
        "\n",
        "model.compile(loss='categorical_crossentropy',\n",
        "              optimizer=RMSprop(lr=0.001),\n",
        "              metrics=['accuracy'])"
      ],
      "execution_count": 0,
      "outputs": []
    },
    {
      "metadata": {
        "id": "W9CBde1GJpe-",
        "colab_type": "text"
      },
      "cell_type": "markdown",
      "source": [
        "### Training the model"
      ]
    },
    {
      "metadata": {
        "id": "B--p3OsrJvTt",
        "colab_type": "code",
        "outputId": "031ea7a9-66f6-41f3-bff4-9faafd59515c",
        "colab": {
          "base_uri": "https://localhost:8080/",
          "height": 1054
        }
      },
      "cell_type": "code",
      "source": [
        "history = model.fit(train_images, \n",
        "                    train_labels, \n",
        "                    epochs=30,\n",
        "                    batch_size=32,\n",
        "                    verbose=1,\n",
        "                    validation_data=(validation_images, validation_labels),\n",
        "                    shuffle=True)"
      ],
      "execution_count": 22,
      "outputs": [
        {
          "output_type": "stream",
          "text": [
            "Train on 40000 samples, validate on 10000 samples\n",
            "Epoch 1/30\n",
            "40000/40000 [==============================] - 82s 2ms/sample - loss: 1.7180 - acc: 0.3708 - val_loss: 1.3518 - val_acc: 0.5178\n",
            "Epoch 2/30\n",
            "40000/40000 [==============================] - 81s 2ms/sample - loss: 1.3619 - acc: 0.5125 - val_loss: 1.1727 - val_acc: 0.5897\n",
            "Epoch 3/30\n",
            "40000/40000 [==============================] - 82s 2ms/sample - loss: 1.2145 - acc: 0.5717 - val_loss: 1.0517 - val_acc: 0.6336\n",
            "Epoch 4/30\n",
            "40000/40000 [==============================] - 81s 2ms/sample - loss: 1.1072 - acc: 0.6137 - val_loss: 1.0087 - val_acc: 0.6563\n",
            "Epoch 5/30\n",
            "40000/40000 [==============================] - 81s 2ms/sample - loss: 1.0422 - acc: 0.6354 - val_loss: 0.9313 - val_acc: 0.6779\n",
            "Epoch 6/30\n",
            "40000/40000 [==============================] - 81s 2ms/sample - loss: 0.9973 - acc: 0.6550 - val_loss: 1.0004 - val_acc: 0.6464\n",
            "Epoch 7/30\n",
            "40000/40000 [==============================] - 82s 2ms/sample - loss: 0.9614 - acc: 0.6691 - val_loss: 0.9467 - val_acc: 0.6735\n",
            "Epoch 8/30\n",
            "40000/40000 [==============================] - 81s 2ms/sample - loss: 0.9341 - acc: 0.6768 - val_loss: 0.9122 - val_acc: 0.6810\n",
            "Epoch 9/30\n",
            "40000/40000 [==============================] - 81s 2ms/sample - loss: 0.9118 - acc: 0.6842 - val_loss: 0.9215 - val_acc: 0.6859\n",
            "Epoch 10/30\n",
            "40000/40000 [==============================] - 81s 2ms/sample - loss: 0.9033 - acc: 0.6896 - val_loss: 0.8932 - val_acc: 0.6933\n",
            "Epoch 11/30\n",
            "40000/40000 [==============================] - 81s 2ms/sample - loss: 0.8880 - acc: 0.6954 - val_loss: 0.9435 - val_acc: 0.6739\n",
            "Epoch 12/30\n",
            "40000/40000 [==============================] - 81s 2ms/sample - loss: 0.8782 - acc: 0.7002 - val_loss: 0.8423 - val_acc: 0.7158\n",
            "Epoch 13/30\n",
            "40000/40000 [==============================] - 81s 2ms/sample - loss: 0.8666 - acc: 0.7063 - val_loss: 0.8328 - val_acc: 0.7161\n",
            "Epoch 14/30\n",
            "40000/40000 [==============================] - 81s 2ms/sample - loss: 0.8653 - acc: 0.7063 - val_loss: 0.8339 - val_acc: 0.7160\n",
            "Epoch 15/30\n",
            "40000/40000 [==============================] - 81s 2ms/sample - loss: 0.8703 - acc: 0.7064 - val_loss: 0.8741 - val_acc: 0.7012\n",
            "Epoch 16/30\n",
            "40000/40000 [==============================] - 81s 2ms/sample - loss: 0.8556 - acc: 0.7112 - val_loss: 1.1370 - val_acc: 0.6352\n",
            "Epoch 17/30\n",
            "40000/40000 [==============================] - 81s 2ms/sample - loss: 0.8649 - acc: 0.7090 - val_loss: 0.8452 - val_acc: 0.7147\n",
            "Epoch 18/30\n",
            "40000/40000 [==============================] - 81s 2ms/sample - loss: 0.8639 - acc: 0.7106 - val_loss: 0.8237 - val_acc: 0.7236\n",
            "Epoch 19/30\n",
            "40000/40000 [==============================] - 82s 2ms/sample - loss: 0.8641 - acc: 0.7099 - val_loss: 0.9316 - val_acc: 0.6906\n",
            "Epoch 20/30\n",
            "40000/40000 [==============================] - 81s 2ms/sample - loss: 0.8691 - acc: 0.7102 - val_loss: 0.9307 - val_acc: 0.6925\n",
            "Epoch 21/30\n",
            "40000/40000 [==============================] - 81s 2ms/sample - loss: 0.8805 - acc: 0.7068 - val_loss: 0.9778 - val_acc: 0.6751\n",
            "Epoch 22/30\n",
            "40000/40000 [==============================] - 82s 2ms/sample - loss: 0.8853 - acc: 0.7037 - val_loss: 0.9099 - val_acc: 0.6935\n",
            "Epoch 23/30\n",
            "40000/40000 [==============================] - 81s 2ms/sample - loss: 0.8911 - acc: 0.7041 - val_loss: 0.9404 - val_acc: 0.6842\n",
            "Epoch 24/30\n",
            "40000/40000 [==============================] - 81s 2ms/sample - loss: 0.9058 - acc: 0.7045 - val_loss: 0.8947 - val_acc: 0.7046\n",
            "Epoch 25/30\n",
            "40000/40000 [==============================] - 81s 2ms/sample - loss: 0.9175 - acc: 0.6987 - val_loss: 0.9895 - val_acc: 0.6780\n",
            "Epoch 26/30\n",
            "40000/40000 [==============================] - 82s 2ms/sample - loss: 0.9355 - acc: 0.6933 - val_loss: 0.9338 - val_acc: 0.6813\n",
            "Epoch 27/30\n",
            "40000/40000 [==============================] - 82s 2ms/sample - loss: 0.9440 - acc: 0.6913 - val_loss: 1.1227 - val_acc: 0.6535\n",
            "Epoch 28/30\n",
            "40000/40000 [==============================] - 82s 2ms/sample - loss: 0.9527 - acc: 0.6894 - val_loss: 0.9839 - val_acc: 0.6856\n",
            "Epoch 29/30\n",
            "40000/40000 [==============================] - 82s 2ms/sample - loss: 0.9547 - acc: 0.6880 - val_loss: 1.2319 - val_acc: 0.6189\n",
            "Epoch 30/30\n",
            "40000/40000 [==============================] - 83s 2ms/sample - loss: 0.9725 - acc: 0.6834 - val_loss: 0.9022 - val_acc: 0.7110\n"
          ],
          "name": "stdout"
        }
      ]
    },
    {
      "metadata": {
        "id": "Ka8GJETXsGv0",
        "colab_type": "text"
      },
      "cell_type": "markdown",
      "source": [
        "The final training accuracy: 0.6834\n",
        "\n",
        "The final validation accuracy: 0.7110"
      ]
    },
    {
      "metadata": {
        "id": "HdZaiaR5pFcu",
        "colab_type": "text"
      },
      "cell_type": "markdown",
      "source": [
        "### Saving the model"
      ]
    },
    {
      "metadata": {
        "id": "Imm1TdespJA-",
        "colab_type": "code",
        "colab": {}
      },
      "cell_type": "code",
      "source": [
        "model_fname = 'model_dropout.h5' \n",
        "model.save(model_fname)"
      ],
      "execution_count": 0,
      "outputs": []
    },
    {
      "metadata": {
        "id": "XOY1qRS2pV4L",
        "colab_type": "text"
      },
      "cell_type": "markdown",
      "source": [
        "### Downloading the model"
      ]
    },
    {
      "metadata": {
        "id": "dN56DIj4pZt5",
        "colab_type": "code",
        "colab": {}
      },
      "cell_type": "code",
      "source": [
        "from google.colab import files\n",
        "\n",
        "with open(model_fname, 'r') as f:\n",
        "  files.download(model_fname)"
      ],
      "execution_count": 0,
      "outputs": []
    },
    {
      "metadata": {
        "id": "iLytHSp_ds6C",
        "colab_type": "text"
      },
      "cell_type": "markdown",
      "source": [
        "### Checking overfitting"
      ]
    },
    {
      "metadata": {
        "id": "K6t234ovdv3s",
        "colab_type": "code",
        "outputId": "c021b24b-7d57-4b64-a1bd-9fe34103df7e",
        "colab": {
          "base_uri": "https://localhost:8080/",
          "height": 724
        }
      },
      "cell_type": "code",
      "source": [
        "import matplotlib.pyplot as plt\n",
        "\n",
        "acc = history.history['acc']\n",
        "val_acc = history.history['val_acc']\n",
        "\n",
        "loss = history.history['loss']\n",
        "val_loss = history.history['val_loss']\n",
        "\n",
        "epochs = range(len(acc))\n",
        "\n",
        "# Plot training and validation accuracy per epoch\n",
        "plt.plot(epochs, acc, 'bo', label='Training accuracy')\n",
        "plt.plot(epochs, val_acc, 'ro', label='Validation accuracy')\n",
        "plt.title('Training and validation accuracy')\n",
        "\n",
        "plt.figure()\n",
        "\n",
        "# Plot training and validation loss per epoch\n",
        "plt.plot(epochs, loss, 'bo', label='Training loss')\n",
        "plt.plot(epochs, val_loss, 'ro', label='Validation loss')\n",
        "plt.title('Training and validation loss')"
      ],
      "execution_count": 26,
      "outputs": [
        {
          "output_type": "execute_result",
          "data": {
            "text/plain": [
              "Text(0.5, 1.0, 'Training and validation loss')"
            ]
          },
          "metadata": {
            "tags": []
          },
          "execution_count": 26
        },
        {
          "output_type": "display_data",
          "data": {
            "image/png": "[encoded data removed]",
            "text/plain": [
              "<Figure size 576x396 with 1 Axes>"
            ]
          },
          "metadata": {
            "tags": []
          }
        },
        {
          "output_type": "display_data",
          "data": {
            "image/png": "[encoded data removed]",
            "text/plain": [
              "<Figure size 576x396 with 1 Axes>"
            ]
          },
          "metadata": {
            "tags": []
          }
        }
      ]
    }
  ]
}
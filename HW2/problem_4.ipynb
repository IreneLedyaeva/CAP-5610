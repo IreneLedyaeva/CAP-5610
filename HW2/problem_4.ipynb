{
  "nbformat": 4,
  "nbformat_minor": 0,
  "metadata": {
    "colab": {
      "name": "problem_4.ipynb",
      "version": "0.3.2",
      "provenance": [],
      "include_colab_link": true
    },
    "kernelspec": {
      "name": "python3",
      "display_name": "Python 3"
    }
  },
  "cells": [
    {
      "cell_type": "markdown",
      "metadata": {
        "id": "view-in-github",
        "colab_type": "text"
      },
      "source": [
        "<a href=\"https://colab.research.google.com/github/IreneLedyaeva/CAP-5610/blob/master/HW2/problem_4.ipynb\" target=\"_parent\"><img src=\"https://colab.research.google.com/assets/colab-badge.svg\" alt=\"Open In Colab\"/></a>"
      ]
    },
    {
      "metadata": {
        "id": "pwfDXmfJ_zK3",
        "colab_type": "text"
      },
      "cell_type": "markdown",
      "source": [
        "## CNN architecture with hold-out validation and a larger number of layers"
      ]
    },
    {
      "metadata": {
        "id": "zRWk951gSW_n",
        "colab_type": "text"
      },
      "cell_type": "markdown",
      "source": [
        "### Loading the CIFAR10 data set"
      ]
    },
    {
      "metadata": {
        "id": "JhDk_-QE_2Ns",
        "colab_type": "code",
        "colab": {}
      },
      "cell_type": "code",
      "source": [
        "from keras.datasets import cifar10\n",
        "\n",
        "(non_test_images, non_test_labels), (test_images, test_labels) = cifar10.load_data()"
      ],
      "execution_count": 0,
      "outputs": []
    },
    {
      "metadata": {
        "id": "kVOZsyMM18jB",
        "colab_type": "text"
      },
      "cell_type": "markdown",
      "source": [
        "### Splitting non-test data into training and validation"
      ]
    },
    {
      "metadata": {
        "id": "j2pjCIjQ2DQ-",
        "colab_type": "code",
        "outputId": "f656bb11-1cca-41c6-b285-3c0ed55986d9",
        "colab": {
          "base_uri": "https://localhost:8080/",
          "height": 51
        }
      },
      "cell_type": "code",
      "source": [
        "num_validation_samples = int(non_test_images.shape[0] * 0.2)\n",
        "\n",
        "train_images = non_test_images[num_validation_samples:] \n",
        "validation_images = non_test_images[:num_validation_samples]\n",
        "\n",
        "train_labels = non_test_labels[num_validation_samples:] \n",
        "validation_labels = non_test_labels[:num_validation_samples]\n",
        "\n",
        "print('total training images:', train_images.shape[0])\n",
        "print('total validation images:', validation_images.shape[0])"
      ],
      "execution_count": 3,
      "outputs": [
        {
          "output_type": "stream",
          "text": [
            "total training images: 40000\n",
            "total validation images: 10000\n"
          ],
          "name": "stdout"
        }
      ]
    },
    {
      "metadata": {
        "id": "7dHHcp5USgOD",
        "colab_type": "text"
      },
      "cell_type": "markdown",
      "source": [
        "### Encoding the labels"
      ]
    },
    {
      "metadata": {
        "id": "Ecf4mka-SusC",
        "colab_type": "code",
        "colab": {}
      },
      "cell_type": "code",
      "source": [
        "from keras.utils import to_categorical\n",
        "\n",
        "class_names = ['airplan', 'automobile', 'bird', 'cat', 'deer', 'dog', 'frog', 'horse', 'ship', 'truck']\n",
        "num_classes = len(class_names)\n",
        "\n",
        "train_labels = to_categorical(train_labels, num_classes)\n",
        "validation_labels = to_categorical(validation_labels, num_classes)"
      ],
      "execution_count": 0,
      "outputs": []
    },
    {
      "metadata": {
        "id": "90zmcK2hhyWQ",
        "colab_type": "text"
      },
      "cell_type": "markdown",
      "source": [
        "### Preprocessing the data"
      ]
    },
    {
      "metadata": {
        "id": "eNeeHK0Qh1r9",
        "colab_type": "code",
        "colab": {}
      },
      "cell_type": "code",
      "source": [
        "train_images = train_images.astype('float32') / 255.0\n",
        "validation_images = validation_images.astype('float32') / 255.0"
      ],
      "execution_count": 0,
      "outputs": []
    },
    {
      "metadata": {
        "id": "tOK5_ixvAzcR",
        "colab_type": "text"
      },
      "cell_type": "markdown",
      "source": [
        "### Building the model"
      ]
    },
    {
      "metadata": {
        "id": "1giH-P1NI9pl",
        "colab_type": "code",
        "outputId": "8cdb97dc-b586-44c0-ed85-e4ede123008a",
        "colab": {
          "base_uri": "https://localhost:8080/",
          "height": 442
        }
      },
      "cell_type": "code",
      "source": [
        "from tensorflow import keras\n",
        "\n",
        "model = keras.Sequential([\n",
        "    keras.layers.Conv2D(32, (3, 3), activation='relu', input_shape=(32, 32, 3)),\n",
        "    keras.layers.Conv2D(32, (2, 2), activation='relu'),\n",
        "    keras.layers.MaxPooling2D((2, 2)),\n",
        "    \n",
        "    keras.layers.Conv2D(64, (3, 3), activation='relu'),\n",
        "    keras.layers.Conv2D(64, (3, 3), activation='relu'),\n",
        "    keras.layers.MaxPooling2D((2, 2)),\n",
        "    \n",
        "    keras.layers.Flatten(),\n",
        "    keras.layers.Dense(64, activation='relu'),\n",
        "    keras.layers.Dense(num_classes, activation='softmax')\n",
        "])\n",
        "\n",
        "model.summary()"
      ],
      "execution_count": 14,
      "outputs": [
        {
          "output_type": "stream",
          "text": [
            "_________________________________________________________________\n",
            "Layer (type)                 Output Shape              Param #   \n",
            "=================================================================\n",
            "conv2d_24 (Conv2D)           (None, 30, 30, 32)        896       \n",
            "_________________________________________________________________\n",
            "conv2d_25 (Conv2D)           (None, 29, 29, 32)        4128      \n",
            "_________________________________________________________________\n",
            "max_pooling2d_12 (MaxPooling (None, 14, 14, 32)        0         \n",
            "_________________________________________________________________\n",
            "conv2d_26 (Conv2D)           (None, 12, 12, 64)        18496     \n",
            "_________________________________________________________________\n",
            "conv2d_27 (Conv2D)           (None, 10, 10, 64)        36928     \n",
            "_________________________________________________________________\n",
            "max_pooling2d_13 (MaxPooling (None, 5, 5, 64)          0         \n",
            "_________________________________________________________________\n",
            "flatten_5 (Flatten)          (None, 1600)              0         \n",
            "_________________________________________________________________\n",
            "dense_10 (Dense)             (None, 64)                102464    \n",
            "_________________________________________________________________\n",
            "dense_11 (Dense)             (None, 10)                650       \n",
            "=================================================================\n",
            "Total params: 163,562\n",
            "Trainable params: 163,562\n",
            "Non-trainable params: 0\n",
            "_________________________________________________________________\n"
          ],
          "name": "stdout"
        }
      ]
    },
    {
      "metadata": {
        "id": "S6wmyqtMJW6I",
        "colab_type": "text"
      },
      "cell_type": "markdown",
      "source": [
        "### Compiling the model"
      ]
    },
    {
      "metadata": {
        "id": "gJjJAvwDJf8P",
        "colab_type": "code",
        "colab": {}
      },
      "cell_type": "code",
      "source": [
        "from tensorflow.keras.optimizers import RMSprop\n",
        "\n",
        "model.compile(loss='categorical_crossentropy',\n",
        "              optimizer=RMSprop(lr=0.001),\n",
        "              metrics=['accuracy'])"
      ],
      "execution_count": 0,
      "outputs": []
    },
    {
      "metadata": {
        "id": "W9CBde1GJpe-",
        "colab_type": "text"
      },
      "cell_type": "markdown",
      "source": [
        "### Training the model"
      ]
    },
    {
      "metadata": {
        "id": "B--p3OsrJvTt",
        "colab_type": "code",
        "outputId": "9be17c5d-c332-4eb9-9d75-393d7d6713e2",
        "colab": {
          "base_uri": "https://localhost:8080/",
          "height": 1020
        }
      },
      "cell_type": "code",
      "source": [
        "history = model.fit(train_images, \n",
        "                    train_labels, \n",
        "                    epochs=30,\n",
        "                    batch_size=32,\n",
        "                    verbose=1,\n",
        "                    validation_data=(validation_images, validation_labels),\n",
        "                    shuffle=True)"
      ],
      "execution_count": 16,
      "outputs": [
        {
          "output_type": "stream",
          "text": [
            "40000/40000 [==============================] - 150s 4ms/sample - loss: 1.6049 - acc: 0.4197 - val_loss: 1.4027 - val_acc: 0.4871\n",
            "Epoch 2/30\n",
            "40000/40000 [==============================] - 148s 4ms/sample - loss: 1.1781 - acc: 0.5840 - val_loss: 1.0078 - val_acc: 0.6481\n",
            "Epoch 3/30\n",
            "40000/40000 [==============================] - 148s 4ms/sample - loss: 0.9793 - acc: 0.6606 - val_loss: 0.9240 - val_acc: 0.6777\n",
            "Epoch 4/30\n",
            "40000/40000 [==============================] - 149s 4ms/sample - loss: 0.8486 - acc: 0.7050 - val_loss: 0.8938 - val_acc: 0.6916\n",
            "Epoch 5/30\n",
            "40000/40000 [==============================] - 148s 4ms/sample - loss: 0.7461 - acc: 0.7395 - val_loss: 0.8473 - val_acc: 0.7082\n",
            "Epoch 6/30\n",
            "40000/40000 [==============================] - 148s 4ms/sample - loss: 0.6679 - acc: 0.7692 - val_loss: 0.8531 - val_acc: 0.7101\n",
            "Epoch 7/30\n",
            "40000/40000 [==============================] - 148s 4ms/sample - loss: 0.5979 - acc: 0.7933 - val_loss: 0.8160 - val_acc: 0.7332\n",
            "Epoch 8/30\n",
            "40000/40000 [==============================] - 149s 4ms/sample - loss: 0.5464 - acc: 0.8109 - val_loss: 0.8276 - val_acc: 0.7275\n",
            "Epoch 9/30\n",
            "40000/40000 [==============================] - 148s 4ms/sample - loss: 0.4980 - acc: 0.8285 - val_loss: 0.8603 - val_acc: 0.7256\n",
            "Epoch 10/30\n",
            "40000/40000 [==============================] - 148s 4ms/sample - loss: 0.4570 - acc: 0.8442 - val_loss: 0.9201 - val_acc: 0.7093\n",
            "Epoch 11/30\n",
            "40000/40000 [==============================] - 147s 4ms/sample - loss: 0.4228 - acc: 0.8551 - val_loss: 0.9278 - val_acc: 0.7186\n",
            "Epoch 12/30\n",
            "40000/40000 [==============================] - 148s 4ms/sample - loss: 0.3939 - acc: 0.8652 - val_loss: 0.9784 - val_acc: 0.7153\n",
            "Epoch 13/30\n",
            "40000/40000 [==============================] - 148s 4ms/sample - loss: 0.3700 - acc: 0.8740 - val_loss: 1.1340 - val_acc: 0.7271\n",
            "Epoch 14/30\n",
            "40000/40000 [==============================] - 148s 4ms/sample - loss: 0.3555 - acc: 0.8792 - val_loss: 1.1314 - val_acc: 0.7242\n",
            "Epoch 15/30\n",
            "40000/40000 [==============================] - 149s 4ms/sample - loss: 0.3417 - acc: 0.8861 - val_loss: 1.1465 - val_acc: 0.7187\n",
            "Epoch 16/30\n",
            "40000/40000 [==============================] - 149s 4ms/sample - loss: 0.3354 - acc: 0.8876 - val_loss: 1.2756 - val_acc: 0.7097\n",
            "Epoch 17/30\n",
            "40000/40000 [==============================] - 147s 4ms/sample - loss: 0.3382 - acc: 0.8888 - val_loss: 1.7057 - val_acc: 0.6954\n",
            "Epoch 18/30\n",
            "40000/40000 [==============================] - 146s 4ms/sample - loss: 0.3365 - acc: 0.8905 - val_loss: 1.2949 - val_acc: 0.7156\n",
            "Epoch 19/30\n",
            "40000/40000 [==============================] - 147s 4ms/sample - loss: 0.3278 - acc: 0.8938 - val_loss: 1.2511 - val_acc: 0.7089\n",
            "Epoch 20/30\n",
            "40000/40000 [==============================] - 147s 4ms/sample - loss: 0.3290 - acc: 0.8932 - val_loss: 1.3285 - val_acc: 0.7199\n",
            "Epoch 21/30\n",
            "40000/40000 [==============================] - 147s 4ms/sample - loss: 0.3297 - acc: 0.8946 - val_loss: 1.4711 - val_acc: 0.7132\n",
            "Epoch 22/30\n",
            "40000/40000 [==============================] - 148s 4ms/sample - loss: 0.3347 - acc: 0.8956 - val_loss: 1.5239 - val_acc: 0.6996\n",
            "Epoch 23/30\n",
            "40000/40000 [==============================] - 152s 4ms/sample - loss: 0.3421 - acc: 0.8947 - val_loss: 1.3688 - val_acc: 0.7048\n",
            "Epoch 24/30\n",
            "40000/40000 [==============================] - 152s 4ms/sample - loss: 0.3401 - acc: 0.8960 - val_loss: 1.6661 - val_acc: 0.7205\n",
            "Epoch 25/30\n",
            "40000/40000 [==============================] - 151s 4ms/sample - loss: 0.3359 - acc: 0.8946 - val_loss: 1.5050 - val_acc: 0.7092\n",
            "Epoch 26/30\n",
            "40000/40000 [==============================] - 151s 4ms/sample - loss: 0.3509 - acc: 0.8944 - val_loss: 1.8400 - val_acc: 0.7158\n",
            "Epoch 27/30\n",
            "40000/40000 [==============================] - 150s 4ms/sample - loss: 0.3642 - acc: 0.8916 - val_loss: 2.2626 - val_acc: 0.7060\n",
            "Epoch 28/30\n",
            "40000/40000 [==============================] - 150s 4ms/sample - loss: 0.3588 - acc: 0.8926 - val_loss: 1.5731 - val_acc: 0.7047\n",
            "Epoch 29/30\n",
            "40000/40000 [==============================] - 150s 4ms/sample - loss: 0.3550 - acc: 0.8956 - val_loss: 1.5332 - val_acc: 0.6983\n",
            "Epoch 30/30\n",
            "40000/40000 [==============================] - 150s 4ms/sample - loss: 0.3785 - acc: 0.8906 - val_loss: 1.6381 - val_acc: 0.6980\n"
          ],
          "name": "stdout"
        }
      ]
    },
    {
      "metadata": {
        "id": "Ka8GJETXsGv0",
        "colab_type": "text"
      },
      "cell_type": "markdown",
      "source": [
        "The final training accuracy: 0.8906\n",
        "\n",
        "The final validation accuracy: 0.6980"
      ]
    },
    {
      "metadata": {
        "id": "HdZaiaR5pFcu",
        "colab_type": "text"
      },
      "cell_type": "markdown",
      "source": [
        "### Saving the model"
      ]
    },
    {
      "metadata": {
        "id": "Imm1TdespJA-",
        "colab_type": "code",
        "colab": {}
      },
      "cell_type": "code",
      "source": [
        "model_fname = 'model_additional_layers.h5' \n",
        "model.save(model_fname)"
      ],
      "execution_count": 0,
      "outputs": []
    },
    {
      "metadata": {
        "id": "XOY1qRS2pV4L",
        "colab_type": "text"
      },
      "cell_type": "markdown",
      "source": [
        "### Downloading the model"
      ]
    },
    {
      "metadata": {
        "id": "dN56DIj4pZt5",
        "colab_type": "code",
        "colab": {}
      },
      "cell_type": "code",
      "source": [
        "from google.colab import files\n",
        "\n",
        "with open(model_fname, 'r') as f:\n",
        "  files.download(model_fname)"
      ],
      "execution_count": 0,
      "outputs": []
    },
    {
      "metadata": {
        "id": "iLytHSp_ds6C",
        "colab_type": "text"
      },
      "cell_type": "markdown",
      "source": [
        "### Checking overfitting"
      ]
    },
    {
      "metadata": {
        "id": "K6t234ovdv3s",
        "colab_type": "code",
        "outputId": "9c225330-127b-4832-b862-443f3ab9406e",
        "colab": {
          "base_uri": "https://localhost:8080/",
          "height": 752
        }
      },
      "cell_type": "code",
      "source": [
        "import matplotlib.pyplot as plt\n",
        "\n",
        "acc = history.history['acc']\n",
        "val_acc = history.history['val_acc']\n",
        "\n",
        "loss = history.history['loss']\n",
        "val_loss = history.history['val_loss']\n",
        "\n",
        "epochs = range(len(acc))\n",
        "\n",
        "# Plot training and validation accuracy per epoch\n",
        "plt.plot(epochs, acc, 'bo', label='Training accuracy')\n",
        "plt.plot(epochs, val_acc, 'ro', label='Validation accuracy')\n",
        "plt.title('Training and validation accuracy')\n",
        "plt.xlabel('Epochs')\n",
        "plt.ylabel('Accuracy')\n",
        "plt.legend()\n",
        "\n",
        "plt.figure()\n",
        "\n",
        "# Plot training and validation loss per epoch\n",
        "plt.plot(epochs, loss, 'bo', label='Training loss')\n",
        "plt.plot(epochs, val_loss, 'ro', label='Validation loss')\n",
        "plt.title('Training and validation loss')\n",
        "plt.xlabel('Epochs')\n",
        "plt.ylabel('Loss')\n",
        "plt.legend()"
      ],
      "execution_count": 19,
      "outputs": [
        {
          "output_type": "execute_result",
          "data": {
            "text/plain": [
              "<matplotlib.legend.Legend at 0x7f3031369128>"
            ]
          },
          "metadata": {
            "tags": []
          },
          "execution_count": 19
        },
        {
          "output_type": "display_data",
          "data": {
            "image/png": "[encoded data removed]",
            "text/plain": [
              "<Figure size 576x396 with 1 Axes>"
            ]
          },
          "metadata": {
            "tags": []
          }
        },
        {
          "output_type": "display_data",
          "data": {
            "image/png": "[encoded data removed]",
            "text/plain": [
              "<Figure size 576x396 with 1 Axes>"
            ]
          },
          "metadata": {
            "tags": []
          }
        }
      ]
    }
  ]
}
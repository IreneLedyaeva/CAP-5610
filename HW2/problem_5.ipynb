{
  "nbformat": 4,
  "nbformat_minor": 0,
  "metadata": {
    "colab": {
      "name": "problem_5.ipynb",
      "version": "0.3.2",
      "provenance": [],
      "include_colab_link": true
    },
    "kernelspec": {
      "name": "python3",
      "display_name": "Python 3"
    }
  },
  "cells": [
    {
      "cell_type": "markdown",
      "metadata": {
        "id": "view-in-github",
        "colab_type": "text"
      },
      "source": [
        "<a href=\"https://colab.research.google.com/github/IreneLedyaeva/CAP-5610/blob/master/HW2/problem_5.ipynb\" target=\"_parent\"><img src=\"https://colab.research.google.com/assets/colab-badge.svg\" alt=\"Open In Colab\"/></a>"
      ]
    },
    {
      "metadata": {
        "id": "pwfDXmfJ_zK3",
        "colab_type": "text"
      },
      "cell_type": "markdown",
      "source": [
        "## Final CNN architecture with the best performance"
      ]
    },
    {
      "metadata": {
        "id": "K9ylUQ5bf2Rp",
        "colab_type": "text"
      },
      "cell_type": "markdown",
      "source": [
        "The first CNN architecure with data augmentation performs best on the validation set with the training accuracy = 0.7352 and the validation accuracy = 0.7601. Even though the fourth model has the best training accuracy, it does not represent a good generalization."
      ]
    },
    {
      "metadata": {
        "colab_type": "text",
        "id": "U8E235O-XzaC"
      },
      "cell_type": "markdown",
      "source": [
        "## CNN architecture with data augmentation"
      ]
    },
    {
      "metadata": {
        "colab_type": "text",
        "id": "d53DW7eYXzaD"
      },
      "cell_type": "markdown",
      "source": [
        "### Loading the CIFAR10 data set"
      ]
    },
    {
      "metadata": {
        "colab_type": "code",
        "id": "qrQTLJAeXzaE",
        "colab": {
          "base_uri": "https://localhost:8080/",
          "height": 34
        },
        "outputId": "bb8e9e21-5383-4d09-a4ed-b2b8dd62febd"
      },
      "cell_type": "code",
      "source": [
        "from keras.datasets import cifar10\n",
        "\n",
        "(train_images, train_labels), (test_images, test_labels) = cifar10.load_data()"
      ],
      "execution_count": 1,
      "outputs": [
        {
          "output_type": "stream",
          "text": [
            "170500096/170498071 [==============================] - 27s 0us/step\n"
          ],
          "name": "stdout"
        }
      ]
    },
    {
      "metadata": {
        "colab_type": "text",
        "id": "IGpfcJEHXzaM"
      },
      "cell_type": "markdown",
      "source": [
        "### Encoding the labels"
      ]
    },
    {
      "metadata": {
        "colab_type": "code",
        "id": "5H9kdKC4XzaN",
        "colab": {}
      },
      "cell_type": "code",
      "source": [
        "from keras.utils import to_categorical\n",
        "\n",
        "class_names = ['airplan', 'automobile', 'bird', 'cat', 'deer', 'dog', 'frog', 'horse', 'ship', 'truck']\n",
        "num_classes = len(class_names)\n",
        "\n",
        "train_labels = to_categorical(train_labels, num_classes)\n",
        "test_labels = to_categorical(test_labels, num_classes)"
      ],
      "execution_count": 0,
      "outputs": []
    },
    {
      "metadata": {
        "colab_type": "text",
        "id": "IHvzPlfHXzaO"
      },
      "cell_type": "markdown",
      "source": [
        "### Preprocessing the data"
      ]
    },
    {
      "metadata": {
        "colab_type": "code",
        "id": "RQpElVYXXzaP",
        "colab": {}
      },
      "cell_type": "code",
      "source": [
        "train_images = train_images.astype('float32') / 255.0\n",
        "test_images = test_images.astype('float32') / 255.0"
      ],
      "execution_count": 0,
      "outputs": []
    },
    {
      "metadata": {
        "id": "nx40fYO57VQs",
        "colab_type": "text"
      },
      "cell_type": "markdown",
      "source": [
        "### Adding data augmentation\n",
        "Test data should not be augmented"
      ]
    },
    {
      "metadata": {
        "id": "PiRs1w0t7ZmG",
        "colab_type": "code",
        "colab": {}
      },
      "cell_type": "code",
      "source": [
        "from tensorflow.keras.preprocessing.image import ImageDataGenerator\n",
        "\n",
        "# Training images\n",
        "datagen = ImageDataGenerator(\n",
        "    rotation_range=15,\n",
        "    width_shift_range=0.1,\n",
        "    height_shift_range=0.1,\n",
        "    horizontal_flip=True)\n",
        "\n",
        "datagen.fit(train_images)"
      ],
      "execution_count": 0,
      "outputs": []
    },
    {
      "metadata": {
        "colab_type": "text",
        "id": "EOhwT4mwXzaW"
      },
      "cell_type": "markdown",
      "source": [
        "### Building the model"
      ]
    },
    {
      "metadata": {
        "colab_type": "code",
        "outputId": "d8dc1775-b6c2-4452-c544-ef475523121a",
        "id": "A8Ke8XlUXzaW",
        "colab": {
          "base_uri": "https://localhost:8080/",
          "height": 408
        }
      },
      "cell_type": "code",
      "source": [
        "from tensorflow import keras\n",
        "\n",
        "model = keras.Sequential([\n",
        "    keras.layers.Conv2D(32, (3, 3), activation='relu', input_shape=(32, 32, 3)),\n",
        "    keras.layers.MaxPooling2D((2, 2)),\n",
        "    \n",
        "    keras.layers.Conv2D(64, (3, 3), activation='relu'),\n",
        "    keras.layers.MaxPooling2D((2, 2)),\n",
        "    \n",
        "    keras.layers.Conv2D(128, (3, 3), activation='relu'),\n",
        "    keras.layers.MaxPooling2D((2, 2)),\n",
        "    \n",
        "    keras.layers.Flatten(),\n",
        "    keras.layers.Dense(num_classes, activation='softmax')\n",
        "])\n",
        "\n",
        "model.summary()"
      ],
      "execution_count": 9,
      "outputs": [
        {
          "output_type": "stream",
          "text": [
            "_________________________________________________________________\n",
            "Layer (type)                 Output Shape              Param #   \n",
            "=================================================================\n",
            "conv2d_3 (Conv2D)            (None, 30, 30, 32)        896       \n",
            "_________________________________________________________________\n",
            "max_pooling2d_3 (MaxPooling2 (None, 15, 15, 32)        0         \n",
            "_________________________________________________________________\n",
            "conv2d_4 (Conv2D)            (None, 13, 13, 64)        18496     \n",
            "_________________________________________________________________\n",
            "max_pooling2d_4 (MaxPooling2 (None, 6, 6, 64)          0         \n",
            "_________________________________________________________________\n",
            "conv2d_5 (Conv2D)            (None, 4, 4, 128)         73856     \n",
            "_________________________________________________________________\n",
            "max_pooling2d_5 (MaxPooling2 (None, 2, 2, 128)         0         \n",
            "_________________________________________________________________\n",
            "flatten_1 (Flatten)          (None, 512)               0         \n",
            "_________________________________________________________________\n",
            "dense_1 (Dense)              (None, 10)                5130      \n",
            "=================================================================\n",
            "Total params: 98,378\n",
            "Trainable params: 98,378\n",
            "Non-trainable params: 0\n",
            "_________________________________________________________________\n"
          ],
          "name": "stdout"
        }
      ]
    },
    {
      "metadata": {
        "id": "S6wmyqtMJW6I",
        "colab_type": "text"
      },
      "cell_type": "markdown",
      "source": [
        "### Compiling the model"
      ]
    },
    {
      "metadata": {
        "id": "gJjJAvwDJf8P",
        "colab_type": "code",
        "colab": {}
      },
      "cell_type": "code",
      "source": [
        "from tensorflow.keras.optimizers import RMSprop\n",
        "\n",
        "model.compile(loss='categorical_crossentropy',\n",
        "              optimizer=RMSprop(lr=0.001),\n",
        "              metrics=['accuracy'])"
      ],
      "execution_count": 0,
      "outputs": []
    },
    {
      "metadata": {
        "id": "W9CBde1GJpe-",
        "colab_type": "text"
      },
      "cell_type": "markdown",
      "source": [
        "### Training the model"
      ]
    },
    {
      "metadata": {
        "id": "B--p3OsrJvTt",
        "colab_type": "code",
        "outputId": "875c5161-0e40-4d7d-fd90-ecef976d262a",
        "colab": {
          "base_uri": "https://localhost:8080/",
          "height": 1530
        }
      },
      "cell_type": "code",
      "source": [
        "history = model.fit_generator(datagen.flow(train_images, train_labels, batch_size=32),\n",
        "                    epochs=30, verbose=1, validation_data=(test_images, test_labels), shuffle=True)"
      ],
      "execution_count": 11,
      "outputs": [
        {
          "output_type": "stream",
          "text": [
            "10000/10000 [==============================] - 7s 746us/sample - loss: 1.3329 - acc: 0.5149\n",
            "1563/1563 [==============================] - 124s 79ms/step - loss: 1.6616 - acc: 0.3977 - val_loss: 1.3330 - val_acc: 0.5149\n",
            "Epoch 2/30\n",
            "10000/10000 [==============================] - 7s 735us/sample - loss: 1.1204 - acc: 0.6066\n",
            "1563/1563 [==============================] - 119s 76ms/step - loss: 1.3227 - acc: 0.5312 - val_loss: 1.1206 - val_acc: 0.6066\n",
            "Epoch 3/30\n",
            "10000/10000 [==============================] - 7s 726us/sample - loss: 1.0418 - acc: 0.6383\n",
            "1563/1563 [==============================] - 123s 79ms/step - loss: 1.1862 - acc: 0.5830 - val_loss: 1.0419 - val_acc: 0.6383\n",
            "Epoch 4/30\n",
            "10000/10000 [==============================] - 7s 724us/sample - loss: 1.0627 - acc: 0.6244\n",
            "1563/1563 [==============================] - 126s 80ms/step - loss: 1.1020 - acc: 0.6162 - val_loss: 1.0628 - val_acc: 0.6244\n",
            "Epoch 5/30\n",
            "10000/10000 [==============================] - 7s 739us/sample - loss: 0.9999 - acc: 0.6556\n",
            "1563/1563 [==============================] - 123s 79ms/step - loss: 1.0519 - acc: 0.6333 - val_loss: 0.9996 - val_acc: 0.6556\n",
            "Epoch 6/30\n",
            "10000/10000 [==============================] - 7s 729us/sample - loss: 0.9095 - acc: 0.6860\n",
            "1563/1563 [==============================] - 123s 79ms/step - loss: 0.9999 - acc: 0.6538 - val_loss: 0.9095 - val_acc: 0.6860\n",
            "Epoch 7/30\n",
            "10000/10000 [==============================] - 7s 732us/sample - loss: 0.9078 - acc: 0.6973\n",
            "1563/1563 [==============================] - 125s 80ms/step - loss: 0.9639 - acc: 0.6653 - val_loss: 0.9072 - val_acc: 0.6973\n",
            "Epoch 8/30\n",
            "10000/10000 [==============================] - 7s 724us/sample - loss: 0.8887 - acc: 0.6969\n",
            "1563/1563 [==============================] - 123s 79ms/step - loss: 0.9365 - acc: 0.6739 - val_loss: 0.8887 - val_acc: 0.6969\n",
            "Epoch 9/30\n",
            "10000/10000 [==============================] - 7s 725us/sample - loss: 0.8759 - acc: 0.7103\n",
            "1563/1563 [==============================] - 124s 80ms/step - loss: 0.9110 - acc: 0.6830 - val_loss: 0.8761 - val_acc: 0.7103\n",
            "Epoch 10/30\n",
            "10000/10000 [==============================] - 7s 720us/sample - loss: 0.8824 - acc: 0.6995\n",
            "1563/1563 [==============================] - 123s 79ms/step - loss: 0.8881 - acc: 0.6939 - val_loss: 0.8827 - val_acc: 0.6995\n",
            "Epoch 11/30\n",
            "10000/10000 [==============================] - 7s 724us/sample - loss: 0.8131 - acc: 0.7270\n",
            "1563/1563 [==============================] - 123s 79ms/step - loss: 0.8732 - acc: 0.6982 - val_loss: 0.8137 - val_acc: 0.7270\n",
            "Epoch 12/30\n",
            "10000/10000 [==============================] - 7s 724us/sample - loss: 0.8149 - acc: 0.7295\n",
            "1563/1563 [==============================] - 124s 79ms/step - loss: 0.8584 - acc: 0.7063 - val_loss: 0.8146 - val_acc: 0.7295\n",
            "Epoch 13/30\n",
            "10000/10000 [==============================] - 7s 724us/sample - loss: 0.8311 - acc: 0.7264\n",
            "1563/1563 [==============================] - 123s 79ms/step - loss: 0.8471 - acc: 0.7095 - val_loss: 0.8311 - val_acc: 0.7264\n",
            "Epoch 14/30\n",
            "10000/10000 [==============================] - 7s 720us/sample - loss: 0.7881 - acc: 0.7352\n",
            "1563/1563 [==============================] - 124s 79ms/step - loss: 0.8390 - acc: 0.7131 - val_loss: 0.7878 - val_acc: 0.7352\n",
            "Epoch 15/30\n",
            "10000/10000 [==============================] - 7s 725us/sample - loss: 0.8206 - acc: 0.7336\n",
            "1563/1563 [==============================] - 122s 78ms/step - loss: 0.8271 - acc: 0.7178 - val_loss: 0.8200 - val_acc: 0.7336\n",
            "Epoch 16/30\n",
            "10000/10000 [==============================] - 7s 725us/sample - loss: 0.8706 - acc: 0.7212\n",
            "1563/1563 [==============================] - 122s 78ms/step - loss: 0.8247 - acc: 0.7154 - val_loss: 0.8699 - val_acc: 0.7212\n",
            "Epoch 17/30\n",
            "10000/10000 [==============================] - 7s 730us/sample - loss: 0.8039 - acc: 0.7302\n",
            "1563/1563 [==============================] - 124s 79ms/step - loss: 0.8073 - acc: 0.7229 - val_loss: 0.8040 - val_acc: 0.7302\n",
            "Epoch 18/30\n",
            "10000/10000 [==============================] - 7s 719us/sample - loss: 0.8643 - acc: 0.7266\n",
            "1563/1563 [==============================] - 122s 78ms/step - loss: 0.8060 - acc: 0.7229 - val_loss: 0.8635 - val_acc: 0.7266\n",
            "Epoch 19/30\n",
            "10000/10000 [==============================] - 7s 721us/sample - loss: 0.8028 - acc: 0.7383\n",
            "1563/1563 [==============================] - 122s 78ms/step - loss: 0.7994 - acc: 0.7304 - val_loss: 0.8025 - val_acc: 0.7383\n",
            "Epoch 20/30\n",
            "10000/10000 [==============================] - 7s 731us/sample - loss: 0.7709 - acc: 0.7547\n",
            "1563/1563 [==============================] - 121s 77ms/step - loss: 0.7995 - acc: 0.7261 - val_loss: 0.7702 - val_acc: 0.7547\n",
            "Epoch 21/30\n",
            "10000/10000 [==============================] - 7s 722us/sample - loss: 0.8119 - acc: 0.7411\n",
            "1563/1563 [==============================] - 121s 78ms/step - loss: 0.7903 - acc: 0.7316 - val_loss: 0.8112 - val_acc: 0.7411\n",
            "Epoch 22/30\n",
            "10000/10000 [==============================] - 7s 724us/sample - loss: 0.8023 - acc: 0.7425\n",
            "1563/1563 [==============================] - 123s 78ms/step - loss: 0.7941 - acc: 0.7310 - val_loss: 0.8019 - val_acc: 0.7425\n",
            "Epoch 23/30\n",
            "10000/10000 [==============================] - 7s 727us/sample - loss: 0.8218 - acc: 0.7265\n",
            "1563/1563 [==============================] - 122s 78ms/step - loss: 0.7886 - acc: 0.7345 - val_loss: 0.8216 - val_acc: 0.7265\n",
            "Epoch 24/30\n",
            "10000/10000 [==============================] - 7s 720us/sample - loss: 0.8820 - acc: 0.7226\n",
            "1563/1563 [==============================] - 123s 79ms/step - loss: 0.7920 - acc: 0.7342 - val_loss: 0.8816 - val_acc: 0.7226\n",
            "Epoch 25/30\n",
            "10000/10000 [==============================] - 7s 717us/sample - loss: 0.9218 - acc: 0.7279\n",
            "1563/1563 [==============================] - 121s 78ms/step - loss: 0.7909 - acc: 0.7320 - val_loss: 0.9213 - val_acc: 0.7279\n",
            "Epoch 26/30\n",
            "10000/10000 [==============================] - 7s 729us/sample - loss: 0.8082 - acc: 0.7380\n",
            "1563/1563 [==============================] - 122s 78ms/step - loss: 0.7810 - acc: 0.7379 - val_loss: 0.8081 - val_acc: 0.7380\n",
            "Epoch 27/30\n",
            "10000/10000 [==============================] - 7s 730us/sample - loss: 0.7740 - acc: 0.7494\n",
            "1563/1563 [==============================] - 123s 79ms/step - loss: 0.7822 - acc: 0.7333 - val_loss: 0.7735 - val_acc: 0.7494\n",
            "Epoch 28/30\n",
            "10000/10000 [==============================] - 7s 720us/sample - loss: 0.8760 - acc: 0.7213\n",
            "1563/1563 [==============================] - 122s 78ms/step - loss: 0.7819 - acc: 0.7376 - val_loss: 0.8754 - val_acc: 0.7213\n",
            "Epoch 29/30\n",
            "10000/10000 [==============================] - 8s 768us/sample - loss: 0.8228 - acc: 0.7352\n",
            "1563/1563 [==============================] - 123s 78ms/step - loss: 0.7839 - acc: 0.7382 - val_loss: 0.8228 - val_acc: 0.7352\n",
            "Epoch 30/30\n",
            "10000/10000 [==============================] - 7s 727us/sample - loss: 0.8093 - acc: 0.7482\n",
            "1563/1563 [==============================] - 121s 78ms/step - loss: 0.7819 - acc: 0.7374 - val_loss: 0.8087 - val_acc: 0.7482\n"
          ],
          "name": "stdout"
        }
      ]
    },
    {
      "metadata": {
        "id": "9_JJfpsRpore",
        "colab_type": "text"
      },
      "cell_type": "markdown",
      "source": [
        "The final training accuracy: 0.7374\n",
        "\n",
        "The final test accuracy: 0.7482"
      ]
    },
    {
      "metadata": {
        "id": "HdZaiaR5pFcu",
        "colab_type": "text"
      },
      "cell_type": "markdown",
      "source": [
        "### Saving the model"
      ]
    },
    {
      "metadata": {
        "colab_type": "code",
        "id": "cw7c3VLJXzaf",
        "colab": {}
      },
      "cell_type": "code",
      "source": [
        "model_fname = 'model_final_augment.h5' \n",
        "model.save(model_fname)"
      ],
      "execution_count": 0,
      "outputs": []
    },
    {
      "metadata": {
        "colab_type": "text",
        "id": "I1EZgcrdXzag"
      },
      "cell_type": "markdown",
      "source": [
        "### Downloading the model"
      ]
    },
    {
      "metadata": {
        "colab_type": "code",
        "id": "ee7JgHLaXzag",
        "colab": {}
      },
      "cell_type": "code",
      "source": [
        "from google.colab import files\n",
        "\n",
        "with open(model_fname, 'r') as f:\n",
        "  files.download(model_fname)"
      ],
      "execution_count": 0,
      "outputs": []
    },
    {
      "metadata": {
        "colab_type": "text",
        "id": "XEEmq30eXzak"
      },
      "cell_type": "markdown",
      "source": [
        "### Checking overfitting"
      ]
    },
    {
      "metadata": {
        "colab_type": "code",
        "outputId": "6781e3a3-973d-4a81-cab8-1c7b9dc27dc0",
        "id": "gErcxicdXzak",
        "colab": {
          "base_uri": "https://localhost:8080/",
          "height": 752
        }
      },
      "cell_type": "code",
      "source": [
        "import matplotlib.pyplot as plt\n",
        "\n",
        "acc = history.history['acc']\n",
        "val_acc = history.history['val_acc']\n",
        "\n",
        "loss = history.history['loss']\n",
        "val_loss = history.history['val_loss']\n",
        "\n",
        "epochs = range(len(acc))\n",
        "\n",
        "# Plot training and validation accuracy per epoch\n",
        "plt.plot(epochs, acc, 'bo', label='Training accuracy')\n",
        "plt.plot(epochs, val_acc, 'ro', label='Validation accuracy')\n",
        "plt.title('Training and validation accuracy')\n",
        "plt.xlabel('Epochs')\n",
        "plt.ylabel('Accuracy')\n",
        "plt.legend()\n",
        "\n",
        "plt.figure()\n",
        "\n",
        "# Plot training and validation loss per epoch\n",
        "plt.plot(epochs, loss, 'bo', label='Training loss')\n",
        "plt.plot(epochs, val_loss, 'ro', label='Validation loss')\n",
        "plt.title('Training and validation loss')\n",
        "plt.xlabel('Epochs')\n",
        "plt.ylabel('Loss')\n",
        "plt.legend()"
      ],
      "execution_count": 14,
      "outputs": [
        {
          "output_type": "execute_result",
          "data": {
            "text/plain": [
              "<matplotlib.legend.Legend at 0x7f05c6965cf8>"
            ]
          },
          "metadata": {
            "tags": []
          },
          "execution_count": 14
        },
        {
          "output_type": "display_data",
          "data": {
            "image/png": "[encoded data removed]",
            "text/plain": [
              "<Figure size 576x396 with 1 Axes>"
            ]
          },
          "metadata": {
            "tags": []
          }
        },
        {
          "output_type": "display_data",
          "data": {
            "image/png": "[encoded data removed]",
            "text/plain": [
              "<Figure size 576x396 with 1 Axes>"
            ]
          },
          "metadata": {
            "tags": []
          }
        }
      ]
    },
    {
      "metadata": {
        "id": "rtVxvAD2ZPX4",
        "colab_type": "text"
      },
      "cell_type": "markdown",
      "source": [
        "## CNN architecture with k-fold validation and data augmentation"
      ]
    },
    {
      "metadata": {
        "colab_type": "text",
        "id": "qJo1EnI-uHGT"
      },
      "cell_type": "markdown",
      "source": [
        "### Loading the CIFAR10 data set"
      ]
    },
    {
      "metadata": {
        "colab_type": "code",
        "id": "lECszTxquHGU",
        "colab": {}
      },
      "cell_type": "code",
      "source": [
        "from keras.datasets import cifar10\n",
        "\n",
        "(train_images, train_labels), (test_images, test_labels) = cifar10.load_data()"
      ],
      "execution_count": 0,
      "outputs": []
    },
    {
      "metadata": {
        "id": "kVOZsyMM18jB",
        "colab_type": "text"
      },
      "cell_type": "markdown",
      "source": [
        "### K-fold validation"
      ]
    },
    {
      "metadata": {
        "id": "j2pjCIjQ2DQ-",
        "colab_type": "code",
        "outputId": "886e41bb-802d-4361-bd9e-b408551fd295",
        "colab": {
          "base_uri": "https://localhost:8080/",
          "height": 51
        }
      },
      "cell_type": "code",
      "source": [
        "from sklearn.model_selection import StratifiedKFold\n",
        "\n",
        "folds = list(StratifiedKFold(n_splits=5, shuffle=True, random_state=1).split(train_images, train_labels))\n",
        "\n",
        "print('total training images:', train_images.shape[0])\n",
        "print('total test images:', test_images.shape[0])"
      ],
      "execution_count": 3,
      "outputs": [
        {
          "output_type": "stream",
          "text": [
            "total training images: 50000\n",
            "total test images: 10000\n"
          ],
          "name": "stdout"
        }
      ]
    },
    {
      "metadata": {
        "colab_type": "text",
        "id": "oeVf160pxkMh"
      },
      "cell_type": "markdown",
      "source": [
        "### Encoding the labels"
      ]
    },
    {
      "metadata": {
        "colab_type": "code",
        "id": "aRoigOrkxkMl",
        "colab": {}
      },
      "cell_type": "code",
      "source": [
        "from keras.utils import to_categorical\n",
        "\n",
        "class_names = ['airplan', 'automobile', 'bird', 'cat', 'deer', 'dog', 'frog', 'horse', 'ship', 'truck']\n",
        "num_classes = len(class_names)\n",
        "\n",
        "train_labels = to_categorical(train_labels, num_classes)\n",
        "test_labels = to_categorical(test_labels, num_classes)"
      ],
      "execution_count": 0,
      "outputs": []
    },
    {
      "metadata": {
        "colab_type": "text",
        "id": "H4TG6_wzuHGc"
      },
      "cell_type": "markdown",
      "source": [
        "### Preprocessing the data"
      ]
    },
    {
      "metadata": {
        "colab_type": "code",
        "id": "SSjegInxuHGd",
        "colab": {}
      },
      "cell_type": "code",
      "source": [
        "train_images = train_images.astype('float32') / 255.0\n",
        "test_images = test_images.astype('float32') / 255.0"
      ],
      "execution_count": 0,
      "outputs": []
    },
    {
      "metadata": {
        "colab_type": "text",
        "id": "NWfCzQ_MuHGg"
      },
      "cell_type": "markdown",
      "source": [
        "### Adding data augmentation\n",
        "Validation data should not be augmented"
      ]
    },
    {
      "metadata": {
        "colab_type": "code",
        "id": "_WJfNWo7uHGh",
        "colab": {}
      },
      "cell_type": "code",
      "source": [
        "from tensorflow.keras.preprocessing.image import ImageDataGenerator\n",
        "\n",
        "# Training images\n",
        "datagen = ImageDataGenerator(\n",
        "    rotation_range=15,\n",
        "    width_shift_range=0.1,\n",
        "    height_shift_range=0.1,\n",
        "    horizontal_flip=True)\n",
        "\n",
        "datagen.fit(train_images)"
      ],
      "execution_count": 0,
      "outputs": []
    },
    {
      "metadata": {
        "colab_type": "text",
        "id": "PVjrrUIzxuiS"
      },
      "cell_type": "markdown",
      "source": [
        "### Building the model"
      ]
    },
    {
      "metadata": {
        "colab_type": "code",
        "outputId": "4e1d7a7e-e42d-470e-b134-95f8bcf4435f",
        "id": "eSaKrk0hxuiU",
        "colab": {
          "base_uri": "https://localhost:8080/",
          "height": 479
        }
      },
      "cell_type": "code",
      "source": [
        "from tensorflow import keras\n",
        "\n",
        "model = keras.Sequential([\n",
        "    keras.layers.Conv2D(32, (3, 3), activation='relu', input_shape=(32, 32, 3)),\n",
        "    keras.layers.MaxPooling2D((2, 2)),\n",
        "    \n",
        "    keras.layers.Conv2D(64, (3, 3), activation='relu'),\n",
        "    keras.layers.MaxPooling2D((2, 2)),\n",
        "    \n",
        "    keras.layers.Conv2D(128, (3, 3), activation='relu'),\n",
        "    keras.layers.MaxPooling2D((2, 2)),\n",
        "    \n",
        "    keras.layers.Flatten(),\n",
        "    keras.layers.Dense(num_classes, activation='softmax')\n",
        "])\n",
        "\n",
        "model.summary()"
      ],
      "execution_count": 7,
      "outputs": [
        {
          "output_type": "stream",
          "text": [
            "WARNING:tensorflow:From /usr/local/lib/python3.6/dist-packages/tensorflow/python/ops/resource_variable_ops.py:435: colocate_with (from tensorflow.python.framework.ops) is deprecated and will be removed in a future version.\n",
            "Instructions for updating:\n",
            "Colocations handled automatically by placer.\n",
            "_________________________________________________________________\n",
            "Layer (type)                 Output Shape              Param #   \n",
            "=================================================================\n",
            "conv2d (Conv2D)              (None, 30, 30, 32)        896       \n",
            "_________________________________________________________________\n",
            "max_pooling2d (MaxPooling2D) (None, 15, 15, 32)        0         \n",
            "_________________________________________________________________\n",
            "conv2d_1 (Conv2D)            (None, 13, 13, 64)        18496     \n",
            "_________________________________________________________________\n",
            "max_pooling2d_1 (MaxPooling2 (None, 6, 6, 64)          0         \n",
            "_________________________________________________________________\n",
            "conv2d_2 (Conv2D)            (None, 4, 4, 128)         73856     \n",
            "_________________________________________________________________\n",
            "max_pooling2d_2 (MaxPooling2 (None, 2, 2, 128)         0         \n",
            "_________________________________________________________________\n",
            "flatten (Flatten)            (None, 512)               0         \n",
            "_________________________________________________________________\n",
            "dense (Dense)                (None, 10)                5130      \n",
            "=================================================================\n",
            "Total params: 98,378\n",
            "Trainable params: 98,378\n",
            "Non-trainable params: 0\n",
            "_________________________________________________________________\n"
          ],
          "name": "stdout"
        }
      ]
    },
    {
      "metadata": {
        "colab_type": "text",
        "id": "T6Ds-eoYxuia"
      },
      "cell_type": "markdown",
      "source": [
        "### Compiling the model"
      ]
    },
    {
      "metadata": {
        "colab_type": "code",
        "id": "ThLXOv5_xuic",
        "colab": {}
      },
      "cell_type": "code",
      "source": [
        "from tensorflow.keras.optimizers import RMSprop\n",
        "\n",
        "model.compile(loss='categorical_crossentropy',\n",
        "              optimizer=RMSprop(lr=0.001),\n",
        "              metrics=['accuracy'])"
      ],
      "execution_count": 0,
      "outputs": []
    },
    {
      "metadata": {
        "id": "tOK5_ixvAzcR",
        "colab_type": "text"
      },
      "cell_type": "markdown",
      "source": [
        "### Training the model"
      ]
    },
    {
      "metadata": {
        "id": "1giH-P1NI9pl",
        "colab_type": "code",
        "outputId": "6f3b647f-1b92-4acd-b8c6-c52d6837e03d",
        "colab": {
          "base_uri": "https://localhost:8080/",
          "height": 8061
        }
      },
      "cell_type": "code",
      "source": [
        "for j, (train_idx, val_idx) in enumerate(folds):\n",
        "  \n",
        "  print('\\nFold ',j)\n",
        "  X_train_cv = train_images[train_idx]\n",
        "  y_train_cv = train_labels[train_idx]\n",
        "  X_valid_cv = train_images[val_idx]\n",
        "  y_valid_cv = train_labels[val_idx]\n",
        "  \n",
        "  model.fit_generator(datagen.flow(X_train_cv, y_train_cv, batch_size = 32),\n",
        "                    epochs=30, verbose=1, validation_data=(X_valid_cv, y_valid_cv), shuffle=True)\n",
        "  \n",
        "  print(model.evaluate(X_valid_cv, y_valid_cv))"
      ],
      "execution_count": 9,
      "outputs": [
        {
          "output_type": "stream",
          "text": [
            "\n",
            "Fold  0\n",
            "WARNING:tensorflow:From /usr/local/lib/python3.6/dist-packages/tensorflow/python/ops/math_ops.py:3066: to_int32 (from tensorflow.python.ops.math_ops) is deprecated and will be removed in a future version.\n",
            "Instructions for updating:\n",
            "Use tf.cast instead.\n",
            "Epoch 1/30\n",
            "10000/10000 [==============================] - 7s 681us/sample - loss: 1.4458 - acc: 0.4814\n",
            "1250/1250 [==============================] - 96s 76ms/step - loss: 1.6933 - acc: 0.3809 - val_loss: 1.4455 - val_acc: 0.4814\n",
            "Epoch 2/30\n",
            "10000/10000 [==============================] - 7s 679us/sample - loss: 1.2353 - acc: 0.5602\n",
            "1250/1250 [==============================] - 95s 76ms/step - loss: 1.3813 - acc: 0.5067 - val_loss: 1.2354 - val_acc: 0.5602\n",
            "Epoch 3/30\n",
            "10000/10000 [==============================] - 7s 669us/sample - loss: 1.0991 - acc: 0.6216\n",
            "1250/1250 [==============================] - 95s 76ms/step - loss: 1.2260 - acc: 0.5661 - val_loss: 1.0992 - val_acc: 0.6216\n",
            "Epoch 4/30\n",
            "10000/10000 [==============================] - 7s 674us/sample - loss: 1.0642 - acc: 0.6226\n",
            "1250/1250 [==============================] - 96s 77ms/step - loss: 1.1381 - acc: 0.6023 - val_loss: 1.0648 - val_acc: 0.6226\n",
            "Epoch 5/30\n",
            "10000/10000 [==============================] - 7s 670us/sample - loss: 0.9979 - acc: 0.6542\n",
            "1250/1250 [==============================] - 95s 76ms/step - loss: 1.0733 - acc: 0.6257 - val_loss: 0.9983 - val_acc: 0.6542\n",
            "Epoch 6/30\n",
            "10000/10000 [==============================] - 7s 670us/sample - loss: 1.0013 - acc: 0.6599\n",
            "1250/1250 [==============================] - 95s 76ms/step - loss: 1.0201 - acc: 0.6475 - val_loss: 1.0012 - val_acc: 0.6599\n",
            "Epoch 7/30\n",
            "10000/10000 [==============================] - 7s 676us/sample - loss: 1.2382 - acc: 0.5979\n",
            "1250/1250 [==============================] - 97s 77ms/step - loss: 0.9841 - acc: 0.6600 - val_loss: 1.2392 - val_acc: 0.5979\n",
            "Epoch 8/30\n",
            "10000/10000 [==============================] - 7s 669us/sample - loss: 0.8758 - acc: 0.7018\n",
            "1250/1250 [==============================] - 95s 76ms/step - loss: 0.9481 - acc: 0.6715 - val_loss: 0.8763 - val_acc: 0.7018\n",
            "Epoch 9/30\n",
            "10000/10000 [==============================] - 7s 670us/sample - loss: 0.8739 - acc: 0.7041\n",
            "1250/1250 [==============================] - 95s 76ms/step - loss: 0.9234 - acc: 0.6801 - val_loss: 0.8743 - val_acc: 0.7041\n",
            "Epoch 10/30\n",
            "10000/10000 [==============================] - 7s 696us/sample - loss: 0.9164 - acc: 0.6929\n",
            "1250/1250 [==============================] - 95s 76ms/step - loss: 0.9091 - acc: 0.6844 - val_loss: 0.9168 - val_acc: 0.6929\n",
            "Epoch 11/30\n",
            "10000/10000 [==============================] - 7s 670us/sample - loss: 0.9033 - acc: 0.7074\n",
            "1250/1250 [==============================] - 95s 76ms/step - loss: 0.8863 - acc: 0.6914 - val_loss: 0.9040 - val_acc: 0.7074\n",
            "Epoch 12/30\n",
            "10000/10000 [==============================] - 7s 675us/sample - loss: 0.8402 - acc: 0.7205\n",
            "1250/1250 [==============================] - 95s 76ms/step - loss: 0.8750 - acc: 0.6964 - val_loss: 0.8406 - val_acc: 0.7205\n",
            "Epoch 13/30\n",
            "10000/10000 [==============================] - 7s 671us/sample - loss: 0.8531 - acc: 0.7208\n",
            "1250/1250 [==============================] - 95s 76ms/step - loss: 0.8535 - acc: 0.7079 - val_loss: 0.8535 - val_acc: 0.7208\n",
            "Epoch 14/30\n",
            "10000/10000 [==============================] - 7s 673us/sample - loss: 0.8341 - acc: 0.7190\n",
            "1250/1250 [==============================] - 95s 76ms/step - loss: 0.8481 - acc: 0.7105 - val_loss: 0.8345 - val_acc: 0.7190\n",
            "Epoch 15/30\n",
            "10000/10000 [==============================] - 7s 661us/sample - loss: 0.7895 - acc: 0.7355\n",
            "1250/1250 [==============================] - 94s 75ms/step - loss: 0.8338 - acc: 0.7120 - val_loss: 0.7899 - val_acc: 0.7355\n",
            "Epoch 16/30\n",
            "10000/10000 [==============================] - 7s 674us/sample - loss: 0.8567 - acc: 0.7181\n",
            "1250/1250 [==============================] - 95s 76ms/step - loss: 0.8195 - acc: 0.7185 - val_loss: 0.8575 - val_acc: 0.7181\n",
            "Epoch 17/30\n",
            "10000/10000 [==============================] - 7s 675us/sample - loss: 0.8208 - acc: 0.7342\n",
            "1250/1250 [==============================] - 95s 76ms/step - loss: 0.8197 - acc: 0.7182 - val_loss: 0.8212 - val_acc: 0.7342\n",
            "Epoch 18/30\n",
            "10000/10000 [==============================] - 7s 669us/sample - loss: 0.9445 - acc: 0.7054\n",
            "1250/1250 [==============================] - 95s 76ms/step - loss: 0.8101 - acc: 0.7249 - val_loss: 0.9449 - val_acc: 0.7054\n",
            "Epoch 19/30\n",
            "10000/10000 [==============================] - 7s 676us/sample - loss: 0.8720 - acc: 0.7316\n",
            "1250/1250 [==============================] - 95s 76ms/step - loss: 0.7953 - acc: 0.7266 - val_loss: 0.8721 - val_acc: 0.7316\n",
            "Epoch 20/30\n",
            "10000/10000 [==============================] - 7s 674us/sample - loss: 0.8169 - acc: 0.7369\n",
            "1250/1250 [==============================] - 95s 76ms/step - loss: 0.7942 - acc: 0.7246 - val_loss: 0.8169 - val_acc: 0.7369\n",
            "Epoch 21/30\n",
            "10000/10000 [==============================] - 7s 672us/sample - loss: 0.7670 - acc: 0.7494\n",
            "1250/1250 [==============================] - 95s 76ms/step - loss: 0.7927 - acc: 0.7271 - val_loss: 0.7668 - val_acc: 0.7494\n",
            "Epoch 22/30\n",
            "10000/10000 [==============================] - 7s 680us/sample - loss: 0.8607 - acc: 0.7287\n",
            "1250/1250 [==============================] - 96s 76ms/step - loss: 0.7810 - acc: 0.7333 - val_loss: 0.8612 - val_acc: 0.7287\n",
            "Epoch 23/30\n",
            "10000/10000 [==============================] - 7s 673us/sample - loss: 0.7262 - acc: 0.7678\n",
            "1250/1250 [==============================] - 96s 76ms/step - loss: 0.7782 - acc: 0.7329 - val_loss: 0.7262 - val_acc: 0.7678\n",
            "Epoch 24/30\n",
            "10000/10000 [==============================] - 7s 676us/sample - loss: 0.8788 - acc: 0.7171\n",
            "1250/1250 [==============================] - 96s 77ms/step - loss: 0.7754 - acc: 0.7363 - val_loss: 0.8789 - val_acc: 0.7171\n",
            "Epoch 25/30\n",
            "10000/10000 [==============================] - 7s 673us/sample - loss: 0.8321 - acc: 0.7346\n",
            "1250/1250 [==============================] - 95s 76ms/step - loss: 0.7805 - acc: 0.7329 - val_loss: 0.8324 - val_acc: 0.7346\n",
            "Epoch 26/30\n",
            "10000/10000 [==============================] - 7s 670us/sample - loss: 0.7304 - acc: 0.7610\n",
            "1250/1250 [==============================] - 95s 76ms/step - loss: 0.7782 - acc: 0.7363 - val_loss: 0.7302 - val_acc: 0.7610\n",
            "Epoch 27/30\n",
            "10000/10000 [==============================] - 7s 676us/sample - loss: 0.7841 - acc: 0.7488\n",
            "1250/1250 [==============================] - 95s 76ms/step - loss: 0.7658 - acc: 0.7384 - val_loss: 0.7843 - val_acc: 0.7488\n",
            "Epoch 28/30\n",
            "10000/10000 [==============================] - 7s 671us/sample - loss: 0.9122 - acc: 0.7260\n",
            "1250/1250 [==============================] - 95s 76ms/step - loss: 0.7675 - acc: 0.7415 - val_loss: 0.9128 - val_acc: 0.7260\n",
            "Epoch 29/30\n",
            "10000/10000 [==============================] - 7s 679us/sample - loss: 0.7829 - acc: 0.7570\n",
            "1250/1250 [==============================] - 95s 76ms/step - loss: 0.7639 - acc: 0.7398 - val_loss: 0.7834 - val_acc: 0.7570\n",
            "Epoch 30/30\n",
            "10000/10000 [==============================] - 7s 671us/sample - loss: 0.8214 - acc: 0.7394\n",
            "1250/1250 [==============================] - 95s 76ms/step - loss: 0.7642 - acc: 0.7418 - val_loss: 0.8219 - val_acc: 0.7394\n",
            "10000/10000 [==============================] - 6s 641us/sample - loss: 0.8214 - acc: 0.7394\n",
            "[0.821411733531952, 0.7394]\n",
            "\n",
            "Fold  1\n",
            "Epoch 1/30\n",
            "10000/10000 [==============================] - 7s 666us/sample - loss: 0.6169 - acc: 0.7832\n",
            "1250/1250 [==============================] - 93s 75ms/step - loss: 0.7962 - acc: 0.7321 - val_loss: 0.6174 - val_acc: 0.7832\n",
            "Epoch 2/30\n",
            "10000/10000 [==============================] - 7s 672us/sample - loss: 0.7484 - acc: 0.7475\n",
            "1250/1250 [==============================] - 93s 74ms/step - loss: 0.7820 - acc: 0.7355 - val_loss: 0.7485 - val_acc: 0.7475\n",
            "Epoch 3/30\n",
            "10000/10000 [==============================] - 7s 686us/sample - loss: 0.6938 - acc: 0.7654\n",
            "1250/1250 [==============================] - 93s 75ms/step - loss: 0.7847 - acc: 0.7362 - val_loss: 0.6941 - val_acc: 0.7654\n",
            "Epoch 4/30\n",
            "10000/10000 [==============================] - 7s 680us/sample - loss: 0.6621 - acc: 0.7769\n",
            "1250/1250 [==============================] - 93s 74ms/step - loss: 0.7795 - acc: 0.7365 - val_loss: 0.6626 - val_acc: 0.7769\n",
            "Epoch 5/30\n",
            "10000/10000 [==============================] - 7s 669us/sample - loss: 0.7575 - acc: 0.7505\n",
            "1250/1250 [==============================] - 93s 74ms/step - loss: 0.7743 - acc: 0.7408 - val_loss: 0.7581 - val_acc: 0.7505\n",
            "Epoch 6/30\n",
            "10000/10000 [==============================] - 7s 668us/sample - loss: 0.6981 - acc: 0.7727\n",
            "1250/1250 [==============================] - 93s 74ms/step - loss: 0.7748 - acc: 0.7402 - val_loss: 0.6988 - val_acc: 0.7727\n",
            "Epoch 7/30\n",
            "10000/10000 [==============================] - 7s 661us/sample - loss: 0.7308 - acc: 0.7618\n",
            "1250/1250 [==============================] - 93s 75ms/step - loss: 0.7713 - acc: 0.7416 - val_loss: 0.7310 - val_acc: 0.7618\n",
            "Epoch 8/30\n",
            "10000/10000 [==============================] - 7s 666us/sample - loss: 0.7488 - acc: 0.7549\n",
            "1250/1250 [==============================] - 92s 74ms/step - loss: 0.7691 - acc: 0.7423 - val_loss: 0.7493 - val_acc: 0.7549\n",
            "Epoch 9/30\n",
            "10000/10000 [==============================] - 7s 666us/sample - loss: 0.7047 - acc: 0.7633\n",
            "1250/1250 [==============================] - 93s 74ms/step - loss: 0.7772 - acc: 0.7397 - val_loss: 0.7048 - val_acc: 0.7633\n",
            "Epoch 10/30\n",
            "10000/10000 [==============================] - 7s 663us/sample - loss: 0.8339 - acc: 0.7386\n",
            "1250/1250 [==============================] - 93s 74ms/step - loss: 0.7615 - acc: 0.7460 - val_loss: 0.8345 - val_acc: 0.7386\n",
            "Epoch 11/30\n",
            "10000/10000 [==============================] - 7s 682us/sample - loss: 0.7325 - acc: 0.7550\n",
            "1250/1250 [==============================] - 93s 74ms/step - loss: 0.7820 - acc: 0.7396 - val_loss: 0.7333 - val_acc: 0.7550\n",
            "Epoch 12/30\n",
            "10000/10000 [==============================] - 7s 680us/sample - loss: 0.8271 - acc: 0.7474\n",
            "1250/1250 [==============================] - 93s 74ms/step - loss: 0.7777 - acc: 0.7426 - val_loss: 0.8277 - val_acc: 0.7474\n",
            "Epoch 13/30\n",
            "10000/10000 [==============================] - 7s 702us/sample - loss: 0.7571 - acc: 0.7638\n",
            "1250/1250 [==============================] - 93s 75ms/step - loss: 0.7732 - acc: 0.7430 - val_loss: 0.7572 - val_acc: 0.7638\n",
            "Epoch 14/30\n",
            "10000/10000 [==============================] - 7s 675us/sample - loss: 0.8568 - acc: 0.7379\n",
            "1250/1250 [==============================] - 93s 75ms/step - loss: 0.7784 - acc: 0.7412 - val_loss: 0.8570 - val_acc: 0.7379\n",
            "Epoch 15/30\n",
            "10000/10000 [==============================] - 7s 672us/sample - loss: 0.7296 - acc: 0.7617\n",
            "1250/1250 [==============================] - 93s 75ms/step - loss: 0.7801 - acc: 0.7395 - val_loss: 0.7303 - val_acc: 0.7617\n",
            "Epoch 16/30\n",
            "10000/10000 [==============================] - 7s 676us/sample - loss: 0.7416 - acc: 0.7607\n",
            "1250/1250 [==============================] - 93s 74ms/step - loss: 0.7784 - acc: 0.7389 - val_loss: 0.7419 - val_acc: 0.7607\n",
            "Epoch 17/30\n",
            "10000/10000 [==============================] - 7s 670us/sample - loss: 0.7682 - acc: 0.7514\n",
            "1250/1250 [==============================] - 93s 75ms/step - loss: 0.7811 - acc: 0.7391 - val_loss: 0.7688 - val_acc: 0.7514\n",
            "Epoch 18/30\n",
            "10000/10000 [==============================] - 7s 678us/sample - loss: 0.7600 - acc: 0.7505\n",
            "1250/1250 [==============================] - 93s 74ms/step - loss: 0.7781 - acc: 0.7401 - val_loss: 0.7601 - val_acc: 0.7505\n",
            "Epoch 19/30\n",
            "10000/10000 [==============================] - 7s 678us/sample - loss: 0.7484 - acc: 0.7617\n",
            "1250/1250 [==============================] - 93s 74ms/step - loss: 0.7815 - acc: 0.7390 - val_loss: 0.7485 - val_acc: 0.7617\n",
            "Epoch 20/30\n",
            "10000/10000 [==============================] - 7s 677us/sample - loss: 0.9374 - acc: 0.7357\n",
            "1250/1250 [==============================] - 93s 74ms/step - loss: 0.7790 - acc: 0.7396 - val_loss: 0.9377 - val_acc: 0.7357\n",
            "Epoch 21/30\n",
            "10000/10000 [==============================] - 7s 676us/sample - loss: 0.7586 - acc: 0.7481\n",
            "1250/1250 [==============================] - 93s 74ms/step - loss: 0.7878 - acc: 0.7398 - val_loss: 0.7589 - val_acc: 0.7481\n",
            "Epoch 22/30\n",
            "10000/10000 [==============================] - 7s 675us/sample - loss: 0.7481 - acc: 0.7569\n",
            "1250/1250 [==============================] - 93s 74ms/step - loss: 0.7934 - acc: 0.7369 - val_loss: 0.7485 - val_acc: 0.7569\n",
            "Epoch 23/30\n",
            "10000/10000 [==============================] - 7s 703us/sample - loss: 0.8200 - acc: 0.7494\n",
            "1250/1250 [==============================] - 93s 74ms/step - loss: 0.7964 - acc: 0.7369 - val_loss: 0.8198 - val_acc: 0.7494\n",
            "Epoch 24/30\n",
            "10000/10000 [==============================] - 7s 682us/sample - loss: 0.7699 - acc: 0.7482\n",
            "1250/1250 [==============================] - 93s 75ms/step - loss: 0.7999 - acc: 0.7363 - val_loss: 0.7699 - val_acc: 0.7482\n",
            "Epoch 25/30\n",
            "10000/10000 [==============================] - 7s 685us/sample - loss: 0.9798 - acc: 0.7104\n",
            "1250/1250 [==============================] - 93s 75ms/step - loss: 0.8121 - acc: 0.7326 - val_loss: 0.9799 - val_acc: 0.7104\n",
            "Epoch 26/30\n",
            "10000/10000 [==============================] - 7s 682us/sample - loss: 0.9189 - acc: 0.7084\n",
            "1250/1250 [==============================] - 94s 75ms/step - loss: 0.8147 - acc: 0.7308 - val_loss: 0.9186 - val_acc: 0.7084\n",
            "Epoch 27/30\n",
            "10000/10000 [==============================] - 7s 676us/sample - loss: 0.8636 - acc: 0.7426\n",
            "1250/1250 [==============================] - 94s 75ms/step - loss: 0.8210 - acc: 0.7330 - val_loss: 0.8642 - val_acc: 0.7426\n",
            "Epoch 28/30\n",
            "10000/10000 [==============================] - 7s 680us/sample - loss: 0.8064 - acc: 0.7540\n",
            "1250/1250 [==============================] - 93s 74ms/step - loss: 0.8297 - acc: 0.7285 - val_loss: 0.8078 - val_acc: 0.7540\n",
            "Epoch 29/30\n",
            "10000/10000 [==============================] - 7s 690us/sample - loss: 0.8310 - acc: 0.7376\n",
            "1250/1250 [==============================] - 93s 75ms/step - loss: 0.8348 - acc: 0.7272 - val_loss: 0.8312 - val_acc: 0.7376\n",
            "Epoch 30/30\n",
            "10000/10000 [==============================] - 7s 697us/sample - loss: 0.9035 - acc: 0.7425\n",
            "1250/1250 [==============================] - 94s 75ms/step - loss: 0.8397 - acc: 0.7264 - val_loss: 0.9037 - val_acc: 0.7425\n",
            "10000/10000 [==============================] - 6s 648us/sample - loss: 0.9035 - acc: 0.7425\n",
            "[0.90347551279068, 0.7425]\n",
            "\n",
            "Fold  2\n",
            "10000/10000 [==============================] - 7s 718us/sample - loss: 0.8879 - acc: 0.7457\n",
            "1250/1250 [==============================] - 97s 77ms/step - loss: 0.8662 - acc: 0.7165 - val_loss: 0.8879 - val_acc: 0.7457\n",
            "Epoch 2/30\n",
            "10000/10000 [==============================] - 7s 721us/sample - loss: 0.7341 - acc: 0.7714\n",
            "1250/1250 [==============================] - 97s 77ms/step - loss: 0.8723 - acc: 0.7157 - val_loss: 0.7354 - val_acc: 0.7714\n",
            "Epoch 3/30\n",
            "10000/10000 [==============================] - 7s 722us/sample - loss: 0.8640 - acc: 0.7307\n",
            "1250/1250 [==============================] - 97s 78ms/step - loss: 0.8778 - acc: 0.7150 - val_loss: 0.8647 - val_acc: 0.7307\n",
            "Epoch 4/30\n",
            "10000/10000 [==============================] - 7s 730us/sample - loss: 0.9746 - acc: 0.7262\n",
            "1250/1250 [==============================] - 97s 78ms/step - loss: 0.8907 - acc: 0.7117 - val_loss: 0.9772 - val_acc: 0.7262\n",
            "Epoch 5/30\n",
            "10000/10000 [==============================] - 7s 740us/sample - loss: 1.0450 - acc: 0.7077\n",
            "1250/1250 [==============================] - 97s 77ms/step - loss: 0.9040 - acc: 0.7054 - val_loss: 1.0456 - val_acc: 0.7077\n",
            "Epoch 6/30\n",
            "10000/10000 [==============================] - 8s 775us/sample - loss: 0.8628 - acc: 0.7379\n",
            "1250/1250 [==============================] - 97s 78ms/step - loss: 0.9051 - acc: 0.7062 - val_loss: 0.8645 - val_acc: 0.7379\n",
            "Epoch 7/30\n",
            "10000/10000 [==============================] - 7s 715us/sample - loss: 0.8055 - acc: 0.7491\n",
            "1250/1250 [==============================] - 97s 78ms/step - loss: 0.9112 - acc: 0.7059 - val_loss: 0.8062 - val_acc: 0.7491\n",
            "Epoch 8/30\n",
            "10000/10000 [==============================] - 7s 739us/sample - loss: 0.7835 - acc: 0.7471\n",
            "1250/1250 [==============================] - 97s 77ms/step - loss: 0.9202 - acc: 0.7006 - val_loss: 0.7840 - val_acc: 0.7471\n",
            "Epoch 9/30\n",
            "10000/10000 [==============================] - 7s 735us/sample - loss: 0.9799 - acc: 0.7063\n",
            "1250/1250 [==============================] - 97s 78ms/step - loss: 0.9202 - acc: 0.7024 - val_loss: 0.9806 - val_acc: 0.7063\n",
            "Epoch 10/30\n",
            "10000/10000 [==============================] - 7s 717us/sample - loss: 0.8705 - acc: 0.7355\n",
            "1250/1250 [==============================] - 96s 77ms/step - loss: 0.9248 - acc: 0.7002 - val_loss: 0.8710 - val_acc: 0.7355\n",
            "Epoch 11/30\n",
            "10000/10000 [==============================] - 7s 720us/sample - loss: 0.8230 - acc: 0.7473\n",
            "1250/1250 [==============================] - 96s 77ms/step - loss: 0.9322 - acc: 0.6968 - val_loss: 0.8247 - val_acc: 0.7473\n",
            "Epoch 12/30\n",
            "10000/10000 [==============================] - 7s 733us/sample - loss: 1.0412 - acc: 0.6885\n",
            "1250/1250 [==============================] - 96s 77ms/step - loss: 0.9362 - acc: 0.7019 - val_loss: 1.0422 - val_acc: 0.6885\n",
            "Epoch 13/30\n",
            "10000/10000 [==============================] - 7s 736us/sample - loss: 1.0703 - acc: 0.7128\n",
            "1250/1250 [==============================] - 97s 77ms/step - loss: 0.9316 - acc: 0.7024 - val_loss: 1.0710 - val_acc: 0.7128\n",
            "Epoch 14/30\n",
            "10000/10000 [==============================] - 7s 718us/sample - loss: 0.9139 - acc: 0.7394\n",
            "1250/1250 [==============================] - 96s 77ms/step - loss: 0.9301 - acc: 0.6982 - val_loss: 0.9135 - val_acc: 0.7394\n",
            "Epoch 15/30\n",
            "10000/10000 [==============================] - 7s 718us/sample - loss: 1.1503 - acc: 0.6935\n",
            "1250/1250 [==============================] - 96s 77ms/step - loss: 0.9429 - acc: 0.6944 - val_loss: 1.1511 - val_acc: 0.6935\n",
            "Epoch 16/30\n",
            "10000/10000 [==============================] - 7s 718us/sample - loss: 1.0389 - acc: 0.7234\n",
            "1250/1250 [==============================] - 96s 77ms/step - loss: 0.9523 - acc: 0.6930 - val_loss: 1.0401 - val_acc: 0.7234\n",
            "Epoch 17/30\n",
            "10000/10000 [==============================] - 7s 716us/sample - loss: 0.9371 - acc: 0.7197\n",
            "1250/1250 [==============================] - 96s 77ms/step - loss: 0.9507 - acc: 0.6952 - val_loss: 0.9373 - val_acc: 0.7197\n",
            "Epoch 18/30\n",
            "10000/10000 [==============================] - 7s 712us/sample - loss: 1.3066 - acc: 0.6344\n",
            "1250/1250 [==============================] - 96s 77ms/step - loss: 0.9598 - acc: 0.6916 - val_loss: 1.3073 - val_acc: 0.6344\n",
            "Epoch 19/30\n",
            "10000/10000 [==============================] - 7s 724us/sample - loss: 1.0615 - acc: 0.6949\n",
            "1250/1250 [==============================] - 96s 77ms/step - loss: 0.9669 - acc: 0.6898 - val_loss: 1.0625 - val_acc: 0.6949\n",
            "Epoch 20/30\n",
            "10000/10000 [==============================] - 7s 721us/sample - loss: 0.8421 - acc: 0.7298\n",
            "1250/1250 [==============================] - 96s 76ms/step - loss: 0.9747 - acc: 0.6854 - val_loss: 0.8426 - val_acc: 0.7298\n",
            "Epoch 21/30\n",
            "10000/10000 [==============================] - 7s 715us/sample - loss: 0.8243 - acc: 0.7440\n",
            "1250/1250 [==============================] - 96s 77ms/step - loss: 0.9738 - acc: 0.6867 - val_loss: 0.8251 - val_acc: 0.7440\n",
            "Epoch 22/30\n",
            "10000/10000 [==============================] - 7s 718us/sample - loss: 0.9451 - acc: 0.7348\n",
            "1250/1250 [==============================] - 96s 77ms/step - loss: 0.9692 - acc: 0.6855 - val_loss: 0.9453 - val_acc: 0.7348\n",
            "Epoch 23/30\n",
            "10000/10000 [==============================] - 7s 717us/sample - loss: 1.0399 - acc: 0.6909\n",
            "1250/1250 [==============================] - 98s 78ms/step - loss: 0.9780 - acc: 0.6831 - val_loss: 1.0404 - val_acc: 0.6909\n",
            "Epoch 24/30\n",
            "10000/10000 [==============================] - 7s 719us/sample - loss: 1.0603 - acc: 0.7209\n",
            "1250/1250 [==============================] - 96s 77ms/step - loss: 0.9745 - acc: 0.6856 - val_loss: 1.0611 - val_acc: 0.7209\n",
            "Epoch 25/30\n",
            "10000/10000 [==============================] - 7s 710us/sample - loss: 1.1778 - acc: 0.6756\n",
            "1250/1250 [==============================] - 96s 77ms/step - loss: 0.9823 - acc: 0.6809 - val_loss: 1.1792 - val_acc: 0.6756\n",
            "Epoch 26/30\n",
            "10000/10000 [==============================] - 7s 719us/sample - loss: 1.5885 - acc: 0.6247\n",
            "1250/1250 [==============================] - 96s 77ms/step - loss: 1.0010 - acc: 0.6756 - val_loss: 1.5915 - val_acc: 0.6247\n",
            "Epoch 27/30\n",
            "10000/10000 [==============================] - 7s 738us/sample - loss: 1.0179 - acc: 0.7263\n",
            "1250/1250 [==============================] - 97s 77ms/step - loss: 1.0128 - acc: 0.6757 - val_loss: 1.0179 - val_acc: 0.7263\n",
            "Epoch 28/30\n",
            "10000/10000 [==============================] - 7s 735us/sample - loss: 1.0092 - acc: 0.6983\n",
            "1250/1250 [==============================] - 96s 77ms/step - loss: 1.0404 - acc: 0.6686 - val_loss: 1.0109 - val_acc: 0.6983\n",
            "Epoch 29/30\n",
            "10000/10000 [==============================] - 7s 744us/sample - loss: 1.2226 - acc: 0.6840\n",
            "1250/1250 [==============================] - 97s 78ms/step - loss: 1.0436 - acc: 0.6675 - val_loss: 1.2247 - val_acc: 0.6840\n",
            "Epoch 30/30\n",
            "10000/10000 [==============================] - 8s 772us/sample - loss: 0.9247 - acc: 0.7234\n",
            "1250/1250 [==============================] - 98s 78ms/step - loss: 1.0372 - acc: 0.6666 - val_loss: 0.9255 - val_acc: 0.7234\n",
            "10000/10000 [==============================] - 7s 696us/sample - loss: 0.9247 - acc: 0.7234\n",
            "[0.9246711524009704, 0.7234]\n",
            "\n",
            "Fold  3\n",
            "Epoch 1/30\n",
            "10000/10000 [==============================] - 7s 712us/sample - loss: 0.8762 - acc: 0.7289\n",
            "1250/1250 [==============================] - 95s 76ms/step - loss: 1.0816 - acc: 0.6527 - val_loss: 0.8758 - val_acc: 0.7289\n",
            "Epoch 2/30\n",
            "10000/10000 [==============================] - 7s 715us/sample - loss: 1.0889 - acc: 0.6905\n",
            "1250/1250 [==============================] - 96s 77ms/step - loss: 1.0937 - acc: 0.6502 - val_loss: 1.0877 - val_acc: 0.6905\n",
            "Epoch 3/30\n",
            "10000/10000 [==============================] - 7s 675us/sample - loss: 0.9568 - acc: 0.7064\n",
            "1250/1250 [==============================] - 95s 76ms/step - loss: 1.1054 - acc: 0.6453 - val_loss: 0.9563 - val_acc: 0.7064\n",
            "Epoch 4/30\n",
            "10000/10000 [==============================] - 7s 689us/sample - loss: 1.2261 - acc: 0.6224\n",
            "1250/1250 [==============================] - 95s 76ms/step - loss: 1.1020 - acc: 0.6451 - val_loss: 1.2252 - val_acc: 0.6224\n",
            "Epoch 5/30\n",
            "10000/10000 [==============================] - 7s 703us/sample - loss: 1.2326 - acc: 0.6506\n",
            "1250/1250 [==============================] - 95s 76ms/step - loss: 1.1110 - acc: 0.6435 - val_loss: 1.2316 - val_acc: 0.6506\n",
            "Epoch 6/30\n",
            "10000/10000 [==============================] - 7s 690us/sample - loss: 1.2965 - acc: 0.6481\n",
            "1250/1250 [==============================] - 95s 76ms/step - loss: 1.1081 - acc: 0.6457 - val_loss: 1.2959 - val_acc: 0.6481\n",
            "Epoch 7/30\n",
            "10000/10000 [==============================] - 7s 714us/sample - loss: 1.0729 - acc: 0.6904\n",
            "1250/1250 [==============================] - 95s 76ms/step - loss: 1.1099 - acc: 0.6436 - val_loss: 1.0717 - val_acc: 0.6904\n",
            "Epoch 8/30\n",
            "10000/10000 [==============================] - 7s 718us/sample - loss: 0.9999 - acc: 0.6846\n",
            "1250/1250 [==============================] - 96s 76ms/step - loss: 1.1002 - acc: 0.6432 - val_loss: 0.9996 - val_acc: 0.6846\n",
            "Epoch 9/30\n",
            "10000/10000 [==============================] - 7s 708us/sample - loss: 1.2007 - acc: 0.6450\n",
            "1250/1250 [==============================] - 96s 77ms/step - loss: 1.0947 - acc: 0.6474 - val_loss: 1.2005 - val_acc: 0.6450\n",
            "Epoch 10/30\n",
            "10000/10000 [==============================] - 7s 713us/sample - loss: 1.1426 - acc: 0.6788\n",
            "1250/1250 [==============================] - 95s 76ms/step - loss: 1.1057 - acc: 0.6446 - val_loss: 1.1428 - val_acc: 0.6788\n",
            "Epoch 11/30\n",
            "10000/10000 [==============================] - 7s 702us/sample - loss: 1.1239 - acc: 0.6850\n",
            "1250/1250 [==============================] - 95s 76ms/step - loss: 1.1092 - acc: 0.6439 - val_loss: 1.1242 - val_acc: 0.6850\n",
            "Epoch 12/30\n",
            "10000/10000 [==============================] - 7s 682us/sample - loss: 1.1302 - acc: 0.6420\n",
            "1250/1250 [==============================] - 96s 76ms/step - loss: 1.1173 - acc: 0.6358 - val_loss: 1.1297 - val_acc: 0.6420\n",
            "Epoch 13/30\n",
            "10000/10000 [==============================] - 7s 688us/sample - loss: 0.9805 - acc: 0.7124\n",
            "1250/1250 [==============================] - 94s 75ms/step - loss: 1.1090 - acc: 0.6407 - val_loss: 0.9794 - val_acc: 0.7124\n",
            "Epoch 14/30\n",
            "10000/10000 [==============================] - 7s 683us/sample - loss: 1.0080 - acc: 0.7004\n",
            "1250/1250 [==============================] - 94s 75ms/step - loss: 1.1275 - acc: 0.6358 - val_loss: 1.0074 - val_acc: 0.7004\n",
            "Epoch 15/30\n",
            "10000/10000 [==============================] - 7s 685us/sample - loss: 1.0135 - acc: 0.6771\n",
            "1250/1250 [==============================] - 94s 75ms/step - loss: 1.1301 - acc: 0.6359 - val_loss: 1.0127 - val_acc: 0.6771\n",
            "Epoch 16/30\n",
            "10000/10000 [==============================] - 7s 678us/sample - loss: 1.0363 - acc: 0.6831\n",
            "1250/1250 [==============================] - 95s 76ms/step - loss: 1.1376 - acc: 0.6318 - val_loss: 1.0354 - val_acc: 0.6831\n",
            "Epoch 17/30\n",
            "10000/10000 [==============================] - 7s 702us/sample - loss: 1.2976 - acc: 0.6685\n",
            "1250/1250 [==============================] - 95s 76ms/step - loss: 1.1509 - acc: 0.6300 - val_loss: 1.2964 - val_acc: 0.6685\n",
            "Epoch 18/30\n",
            "10000/10000 [==============================] - 7s 709us/sample - loss: 1.5058 - acc: 0.6351\n",
            "1250/1250 [==============================] - 95s 76ms/step - loss: 1.1385 - acc: 0.6292 - val_loss: 1.5058 - val_acc: 0.6351\n",
            "Epoch 19/30\n",
            "10000/10000 [==============================] - 7s 684us/sample - loss: 1.0993 - acc: 0.6540\n",
            "1250/1250 [==============================] - 95s 76ms/step - loss: 1.1492 - acc: 0.6282 - val_loss: 1.0992 - val_acc: 0.6540\n",
            "Epoch 20/30\n",
            "10000/10000 [==============================] - 7s 677us/sample - loss: 1.1591 - acc: 0.6641\n",
            "1250/1250 [==============================] - 94s 75ms/step - loss: 1.1570 - acc: 0.6254 - val_loss: 1.1582 - val_acc: 0.6641\n",
            "Epoch 21/30\n",
            "10000/10000 [==============================] - 7s 680us/sample - loss: 1.0407 - acc: 0.6722\n",
            "1250/1250 [==============================] - 94s 75ms/step - loss: 1.1536 - acc: 0.6276 - val_loss: 1.0394 - val_acc: 0.6722\n",
            "Epoch 22/30\n",
            "10000/10000 [==============================] - 7s 667us/sample - loss: 1.0171 - acc: 0.6992\n",
            "1250/1250 [==============================] - 94s 76ms/step - loss: 1.1758 - acc: 0.6240 - val_loss: 1.0162 - val_acc: 0.6992\n",
            "Epoch 23/30\n",
            "10000/10000 [==============================] - 7s 685us/sample - loss: 1.3122 - acc: 0.6400\n",
            "1250/1250 [==============================] - 95s 76ms/step - loss: 1.1762 - acc: 0.6216 - val_loss: 1.3110 - val_acc: 0.6400\n",
            "Epoch 24/30\n",
            "10000/10000 [==============================] - 7s 685us/sample - loss: 1.1175 - acc: 0.6684\n",
            "1250/1250 [==============================] - 95s 76ms/step - loss: 1.1765 - acc: 0.6178 - val_loss: 1.1162 - val_acc: 0.6684\n",
            "Epoch 25/30\n",
            "10000/10000 [==============================] - 7s 713us/sample - loss: 1.2850 - acc: 0.6466\n",
            "1250/1250 [==============================] - 95s 76ms/step - loss: 1.1808 - acc: 0.6160 - val_loss: 1.2836 - val_acc: 0.6466\n",
            "Epoch 26/30\n",
            "10000/10000 [==============================] - 7s 681us/sample - loss: 1.0523 - acc: 0.6671\n",
            "1250/1250 [==============================] - 95s 76ms/step - loss: 1.1798 - acc: 0.6165 - val_loss: 1.0510 - val_acc: 0.6671\n",
            "Epoch 27/30\n",
            "10000/10000 [==============================] - 7s 713us/sample - loss: 1.0932 - acc: 0.6588\n",
            "1250/1250 [==============================] - 95s 76ms/step - loss: 1.1753 - acc: 0.6169 - val_loss: 1.0923 - val_acc: 0.6588\n",
            "Epoch 28/30\n",
            "10000/10000 [==============================] - 7s 722us/sample - loss: 1.8710 - acc: 0.5864\n",
            "1250/1250 [==============================] - 95s 76ms/step - loss: 1.1956 - acc: 0.6102 - val_loss: 1.8698 - val_acc: 0.5864\n",
            "Epoch 29/30\n",
            "10000/10000 [==============================] - 7s 713us/sample - loss: 1.2035 - acc: 0.6789\n",
            "1250/1250 [==============================] - 95s 76ms/step - loss: 1.1853 - acc: 0.6115 - val_loss: 1.2025 - val_acc: 0.6789\n",
            "Epoch 30/30\n",
            "10000/10000 [==============================] - 7s 688us/sample - loss: 1.0113 - acc: 0.6907\n",
            "1250/1250 [==============================] - 95s 76ms/step - loss: 1.1961 - acc: 0.6076 - val_loss: 1.0103 - val_acc: 0.6907\n",
            "10000/10000 [==============================] - 7s 660us/sample - loss: 1.0113 - acc: 0.6907\n",
            "[1.0112953857421876, 0.6907]\n",
            "\n",
            "Fold  4\n",
            "Epoch 1/30\n",
            "10000/10000 [==============================] - 8s 765us/sample - loss: 1.1232 - acc: 0.6612\n",
            "1250/1250 [==============================] - 100s 80ms/step - loss: 1.2126 - acc: 0.6033 - val_loss: 1.1233 - val_acc: 0.6612\n",
            "Epoch 2/30\n",
            "10000/10000 [==============================] - 8s 813us/sample - loss: 1.1229 - acc: 0.6681\n",
            "1250/1250 [==============================] - 100s 80ms/step - loss: 1.2111 - acc: 0.5994 - val_loss: 1.1229 - val_acc: 0.6681\n",
            "Epoch 3/30\n",
            "10000/10000 [==============================] - 8s 792us/sample - loss: 1.1967 - acc: 0.6382\n",
            "1250/1250 [==============================] - 99s 79ms/step - loss: 1.2101 - acc: 0.6059 - val_loss: 1.1972 - val_acc: 0.6382\n",
            "Epoch 4/30\n",
            "10000/10000 [==============================] - 7s 717us/sample - loss: 0.9575 - acc: 0.6847\n",
            "1250/1250 [==============================] - 98s 78ms/step - loss: 1.1931 - acc: 0.6095 - val_loss: 0.9575 - val_acc: 0.6847\n",
            "Epoch 5/30\n",
            "10000/10000 [==============================] - 7s 725us/sample - loss: 1.3841 - acc: 0.6042\n",
            "1250/1250 [==============================] - 97s 78ms/step - loss: 1.1853 - acc: 0.6107 - val_loss: 1.3846 - val_acc: 0.6042\n",
            "Epoch 6/30\n",
            "10000/10000 [==============================] - 8s 763us/sample - loss: 1.0743 - acc: 0.6803\n",
            "1250/1250 [==============================] - 97s 78ms/step - loss: 1.2036 - acc: 0.6081 - val_loss: 1.0754 - val_acc: 0.6803\n",
            "Epoch 7/30\n",
            "10000/10000 [==============================] - 8s 779us/sample - loss: 0.9740 - acc: 0.6830\n",
            "1250/1250 [==============================] - 99s 79ms/step - loss: 1.2074 - acc: 0.6000 - val_loss: 0.9741 - val_acc: 0.6830\n",
            "Epoch 8/30\n",
            "10000/10000 [==============================] - 7s 741us/sample - loss: 1.1584 - acc: 0.6527\n",
            "1250/1250 [==============================] - 97s 78ms/step - loss: 1.2107 - acc: 0.6021 - val_loss: 1.1593 - val_acc: 0.6527\n",
            "Epoch 9/30\n",
            "10000/10000 [==============================] - 7s 718us/sample - loss: 1.3978 - acc: 0.6361\n",
            "1250/1250 [==============================] - 97s 77ms/step - loss: 1.2056 - acc: 0.6058 - val_loss: 1.3985 - val_acc: 0.6361\n",
            "Epoch 10/30\n",
            "10000/10000 [==============================] - 7s 704us/sample - loss: 1.0222 - acc: 0.6536\n",
            "1250/1250 [==============================] - 99s 79ms/step - loss: 1.2118 - acc: 0.6040 - val_loss: 1.0226 - val_acc: 0.6536\n",
            "Epoch 11/30\n",
            "10000/10000 [==============================] - 7s 699us/sample - loss: 1.2089 - acc: 0.6590\n",
            "1250/1250 [==============================] - 99s 79ms/step - loss: 1.2191 - acc: 0.6040 - val_loss: 1.2086 - val_acc: 0.6590\n",
            "Epoch 12/30\n",
            "10000/10000 [==============================] - 7s 732us/sample - loss: 1.5033 - acc: 0.6431\n",
            "1250/1250 [==============================] - 99s 79ms/step - loss: 1.2074 - acc: 0.6036 - val_loss: 1.5046 - val_acc: 0.6431\n",
            "Epoch 13/30\n",
            "10000/10000 [==============================] - 8s 806us/sample - loss: 1.3713 - acc: 0.6231\n",
            "1250/1250 [==============================] - 99s 79ms/step - loss: 1.2243 - acc: 0.5982 - val_loss: 1.3717 - val_acc: 0.6231\n",
            "Epoch 14/30\n",
            "10000/10000 [==============================] - 7s 720us/sample - loss: 1.0648 - acc: 0.6816\n",
            "1250/1250 [==============================] - 100s 80ms/step - loss: 1.2328 - acc: 0.5990 - val_loss: 1.0649 - val_acc: 0.6816\n",
            "Epoch 15/30\n",
            "10000/10000 [==============================] - 8s 761us/sample - loss: 1.0805 - acc: 0.6514\n",
            "1250/1250 [==============================] - 98s 78ms/step - loss: 1.2280 - acc: 0.6014 - val_loss: 1.0812 - val_acc: 0.6514\n",
            "Epoch 16/30\n",
            "10000/10000 [==============================] - 7s 720us/sample - loss: 1.2074 - acc: 0.6405\n",
            "1250/1250 [==============================] - 99s 79ms/step - loss: 1.2221 - acc: 0.6003 - val_loss: 1.2071 - val_acc: 0.6405\n",
            "Epoch 17/30\n",
            "10000/10000 [==============================] - 8s 759us/sample - loss: 1.1268 - acc: 0.6523\n",
            "1250/1250 [==============================] - 99s 80ms/step - loss: 1.2266 - acc: 0.5973 - val_loss: 1.1270 - val_acc: 0.6523\n",
            "Epoch 18/30\n",
            "10000/10000 [==============================] - 7s 718us/sample - loss: 1.0070 - acc: 0.6733\n",
            "1250/1250 [==============================] - 99s 79ms/step - loss: 1.1998 - acc: 0.6066 - val_loss: 1.0070 - val_acc: 0.6733\n",
            "Epoch 19/30\n",
            "10000/10000 [==============================] - 7s 731us/sample - loss: 1.2248 - acc: 0.6323\n",
            "1250/1250 [==============================] - 97s 78ms/step - loss: 1.2031 - acc: 0.6072 - val_loss: 1.2252 - val_acc: 0.6323\n",
            "Epoch 20/30\n",
            "10000/10000 [==============================] - 7s 717us/sample - loss: 0.9908 - acc: 0.6853\n",
            "1250/1250 [==============================] - 98s 78ms/step - loss: 1.1935 - acc: 0.6029 - val_loss: 0.9914 - val_acc: 0.6853\n",
            "Epoch 21/30\n",
            "10000/10000 [==============================] - 7s 715us/sample - loss: 1.2229 - acc: 0.6292\n",
            "1250/1250 [==============================] - 99s 79ms/step - loss: 1.1835 - acc: 0.6049 - val_loss: 1.2229 - val_acc: 0.6292\n",
            "Epoch 22/30\n",
            "10000/10000 [==============================] - 8s 796us/sample - loss: 1.3121 - acc: 0.5919\n",
            "1250/1250 [==============================] - 99s 79ms/step - loss: 1.1838 - acc: 0.6065 - val_loss: 1.3121 - val_acc: 0.5919\n",
            "Epoch 23/30\n",
            "10000/10000 [==============================] - 7s 672us/sample - loss: 1.0969 - acc: 0.6559\n",
            "1250/1250 [==============================] - 98s 78ms/step - loss: 1.1939 - acc: 0.6048 - val_loss: 1.0969 - val_acc: 0.6559\n",
            "Epoch 24/30\n",
            "10000/10000 [==============================] - 7s 718us/sample - loss: 1.0989 - acc: 0.6462\n",
            "1250/1250 [==============================] - 99s 79ms/step - loss: 1.1903 - acc: 0.6087 - val_loss: 1.0996 - val_acc: 0.6462\n",
            "Epoch 25/30\n",
            "10000/10000 [==============================] - 7s 736us/sample - loss: 1.0831 - acc: 0.6742\n",
            "1250/1250 [==============================] - 97s 77ms/step - loss: 1.1928 - acc: 0.6104 - val_loss: 1.0837 - val_acc: 0.6742\n",
            "Epoch 26/30\n",
            "10000/10000 [==============================] - 7s 718us/sample - loss: 1.1687 - acc: 0.6421\n",
            "1250/1250 [==============================] - 98s 78ms/step - loss: 1.1814 - acc: 0.6075 - val_loss: 1.1686 - val_acc: 0.6421\n",
            "Epoch 27/30\n",
            "10000/10000 [==============================] - 7s 704us/sample - loss: 1.3104 - acc: 0.5976\n",
            "1250/1250 [==============================] - 99s 80ms/step - loss: 1.1847 - acc: 0.6069 - val_loss: 1.3113 - val_acc: 0.5976\n",
            "Epoch 28/30\n",
            "10000/10000 [==============================] - 7s 701us/sample - loss: 1.0311 - acc: 0.6743\n",
            "1250/1250 [==============================] - 99s 79ms/step - loss: 1.1780 - acc: 0.6073 - val_loss: 1.0313 - val_acc: 0.6743\n",
            "Epoch 29/30\n",
            "10000/10000 [==============================] - 7s 718us/sample - loss: 1.1802 - acc: 0.6468\n",
            "1250/1250 [==============================] - 98s 79ms/step - loss: 1.1777 - acc: 0.6106 - val_loss: 1.1802 - val_acc: 0.6468\n",
            "Epoch 30/30\n",
            "10000/10000 [==============================] - 7s 701us/sample - loss: 0.9667 - acc: 0.6823\n",
            "1250/1250 [==============================] - 99s 79ms/step - loss: 1.2040 - acc: 0.6062 - val_loss: 0.9668 - val_acc: 0.6823\n",
            "10000/10000 [==============================] - 7s 745us/sample - loss: 0.9667 - acc: 0.6823\n",
            "[0.9666766993522644, 0.6823]\n"
          ],
          "name": "stdout"
        }
      ]
    },
    {
      "metadata": {
        "id": "5VLMo480GTTu",
        "colab_type": "text"
      },
      "cell_type": "markdown",
      "source": [
        "### Fold 0: 0.7394\n",
        "### Fold 1: 0.7425\n",
        "### Fold 2: 0.7234\n",
        "### Fold 3: 0.6907\n",
        "### Fold 4: 0.6823"
      ]
    },
    {
      "metadata": {
        "id": "CPMwnSsPawLB",
        "colab_type": "text"
      },
      "cell_type": "markdown",
      "source": [
        "### Saving the model"
      ]
    },
    {
      "metadata": {
        "id": "Imm1TdespJA-",
        "colab_type": "code",
        "colab": {}
      },
      "cell_type": "code",
      "source": [
        "model_fname = 'model_final_augment_kfold.h5' \n",
        "model.save(model_fname)"
      ],
      "execution_count": 0,
      "outputs": []
    },
    {
      "metadata": {
        "id": "XOY1qRS2pV4L",
        "colab_type": "text"
      },
      "cell_type": "markdown",
      "source": [
        "### Downloading the model"
      ]
    },
    {
      "metadata": {
        "id": "dN56DIj4pZt5",
        "colab_type": "code",
        "colab": {}
      },
      "cell_type": "code",
      "source": [
        "from google.colab import files\n",
        "\n",
        "with open(model_fname, 'r') as f:\n",
        "  files.download(model_fname)"
      ],
      "execution_count": 0,
      "outputs": []
    },
    {
      "metadata": {
        "id": "S8m6-TcCy-4B",
        "colab_type": "text"
      },
      "cell_type": "markdown",
      "source": [
        "The best validation accuracy obtained by simple hold-out validation is 0.7601. The best validation accuracy obtained by k-fold validation is 0.7425. Therefore, the hold-out validation accuracy is higher than the k-fold validation."
      ]
    }
  ]
}
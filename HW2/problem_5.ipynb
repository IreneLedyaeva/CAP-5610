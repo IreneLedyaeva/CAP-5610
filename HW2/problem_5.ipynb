{
  "nbformat": 4,
  "nbformat_minor": 0,
  "metadata": {
    "colab": {
      "name": "problem_5.ipynb",
      "version": "0.3.2",
      "provenance": [],
      "include_colab_link": true
    },
    "kernelspec": {
      "name": "python3",
      "display_name": "Python 3"
    }
  },
  "cells": [
    {
      "cell_type": "markdown",
      "metadata": {
        "id": "view-in-github",
        "colab_type": "text"
      },
      "source": [
        "<a href=\"https://colab.research.google.com/github/IreneLedyaeva/CAP-5610/blob/master/HW2/problem_5.ipynb\" target=\"_parent\"><img src=\"https://colab.research.google.com/assets/colab-badge.svg\" alt=\"Open In Colab\"/></a>"
      ]
    },
    {
      "metadata": {
        "id": "pwfDXmfJ_zK3",
        "colab_type": "text"
      },
      "cell_type": "markdown",
      "source": [
        "## Final CNN architecture with the best performance"
      ]
    },
    {
      "metadata": {
        "id": "K9ylUQ5bf2Rp",
        "colab_type": "text"
      },
      "cell_type": "markdown",
      "source": [
        "The first CNN architecure with data augmentation performs best on the validation set with the training accuracy = 0.7352 and the validation accuracy = 0.7601. Even though the fourth model has the best training accuracy, it does not represent a good generalization."
      ]
    },
    {
      "metadata": {
        "colab_type": "text",
        "id": "U8E235O-XzaC"
      },
      "cell_type": "markdown",
      "source": [
        "## CNN architecture with data augmentation"
      ]
    },
    {
      "metadata": {
        "colab_type": "text",
        "id": "d53DW7eYXzaD"
      },
      "cell_type": "markdown",
      "source": [
        "### Loading the CIFAR10 data set"
      ]
    },
    {
      "metadata": {
        "colab_type": "code",
        "id": "qrQTLJAeXzaE",
        "colab": {}
      },
      "cell_type": "code",
      "source": [
        "from keras.datasets import cifar10\n",
        "\n",
        "(train_images, train_labels), (test_images, test_labels) = cifar10.load_data()"
      ],
      "execution_count": 0,
      "outputs": []
    },
    {
      "metadata": {
        "colab_type": "text",
        "id": "IGpfcJEHXzaM"
      },
      "cell_type": "markdown",
      "source": [
        "### Encoding the labels"
      ]
    },
    {
      "metadata": {
        "colab_type": "code",
        "id": "5H9kdKC4XzaN",
        "colab": {}
      },
      "cell_type": "code",
      "source": [
        "from keras.utils import to_categorical\n",
        "\n",
        "class_names = ['airplan', 'automobile', 'bird', 'cat', 'deer', 'dog', 'frog', 'horse', 'ship', 'truck']\n",
        "num_classes = len(class_names)\n",
        "\n",
        "train_labels = to_categorical(train_labels, num_classes)\n",
        "test_labels = to_categorical(test_labels, num_classes)"
      ],
      "execution_count": 0,
      "outputs": []
    },
    {
      "metadata": {
        "colab_type": "text",
        "id": "IHvzPlfHXzaO"
      },
      "cell_type": "markdown",
      "source": [
        "### Preprocessing the data"
      ]
    },
    {
      "metadata": {
        "colab_type": "code",
        "id": "RQpElVYXXzaP",
        "colab": {}
      },
      "cell_type": "code",
      "source": [
        "train_images = train_images.astype('float32') / 255.0\n",
        "test_images = test_images.astype('float32') / 255.0"
      ],
      "execution_count": 0,
      "outputs": []
    },
    {
      "metadata": {
        "id": "nx40fYO57VQs",
        "colab_type": "text"
      },
      "cell_type": "markdown",
      "source": [
        "### Adding data augmentation\n",
        "Test data should not be augmented"
      ]
    },
    {
      "metadata": {
        "id": "PiRs1w0t7ZmG",
        "colab_type": "code",
        "colab": {}
      },
      "cell_type": "code",
      "source": [
        "from tensorflow.keras.preprocessing.image import ImageDataGenerator\n",
        "\n",
        "# Training images\n",
        "datagen = ImageDataGenerator(\n",
        "    rotation_range=15,\n",
        "    width_shift_range=0.1,\n",
        "    height_shift_range=0.1,\n",
        "    horizontal_flip=True)\n",
        "\n",
        "datagen.fit(train_images)"
      ],
      "execution_count": 0,
      "outputs": []
    },
    {
      "metadata": {
        "colab_type": "text",
        "id": "EOhwT4mwXzaW"
      },
      "cell_type": "markdown",
      "source": [
        "### Building the model"
      ]
    },
    {
      "metadata": {
        "colab_type": "code",
        "outputId": "d8dc1775-b6c2-4452-c544-ef475523121a",
        "id": "A8Ke8XlUXzaW",
        "colab": {
          "base_uri": "https://localhost:8080/",
          "height": 408
        }
      },
      "cell_type": "code",
      "source": [
        "from tensorflow import keras\n",
        "\n",
        "model = keras.Sequential([\n",
        "    keras.layers.Conv2D(32, (3, 3), activation='relu', input_shape=(32, 32, 3)),\n",
        "    keras.layers.MaxPooling2D((2, 2)),\n",
        "    \n",
        "    keras.layers.Conv2D(64, (3, 3), activation='relu'),\n",
        "    keras.layers.MaxPooling2D((2, 2)),\n",
        "    \n",
        "    keras.layers.Conv2D(128, (3, 3), activation='relu'),\n",
        "    keras.layers.MaxPooling2D((2, 2)),\n",
        "    \n",
        "    keras.layers.Flatten(),\n",
        "    keras.layers.Dense(num_classes, activation='softmax')\n",
        "])\n",
        "\n",
        "model.summary()"
      ],
      "execution_count": 9,
      "outputs": [
        {
          "output_type": "stream",
          "text": [
            "_________________________________________________________________\n",
            "Layer (type)                 Output Shape              Param #   \n",
            "=================================================================\n",
            "conv2d_3 (Conv2D)            (None, 30, 30, 32)        896       \n",
            "_________________________________________________________________\n",
            "max_pooling2d_3 (MaxPooling2 (None, 15, 15, 32)        0         \n",
            "_________________________________________________________________\n",
            "conv2d_4 (Conv2D)            (None, 13, 13, 64)        18496     \n",
            "_________________________________________________________________\n",
            "max_pooling2d_4 (MaxPooling2 (None, 6, 6, 64)          0         \n",
            "_________________________________________________________________\n",
            "conv2d_5 (Conv2D)            (None, 4, 4, 128)         73856     \n",
            "_________________________________________________________________\n",
            "max_pooling2d_5 (MaxPooling2 (None, 2, 2, 128)         0         \n",
            "_________________________________________________________________\n",
            "flatten_1 (Flatten)          (None, 512)               0         \n",
            "_________________________________________________________________\n",
            "dense_1 (Dense)              (None, 10)                5130      \n",
            "=================================================================\n",
            "Total params: 98,378\n",
            "Trainable params: 98,378\n",
            "Non-trainable params: 0\n",
            "_________________________________________________________________\n"
          ],
          "name": "stdout"
        }
      ]
    },
    {
      "metadata": {
        "id": "S6wmyqtMJW6I",
        "colab_type": "text"
      },
      "cell_type": "markdown",
      "source": [
        "### Compiling the model"
      ]
    },
    {
      "metadata": {
        "id": "gJjJAvwDJf8P",
        "colab_type": "code",
        "colab": {}
      },
      "cell_type": "code",
      "source": [
        "from tensorflow.keras.optimizers import RMSprop\n",
        "\n",
        "model.compile(loss='categorical_crossentropy',\n",
        "              optimizer=RMSprop(lr=0.001),\n",
        "              metrics=['accuracy'])"
      ],
      "execution_count": 0,
      "outputs": []
    },
    {
      "metadata": {
        "id": "W9CBde1GJpe-",
        "colab_type": "text"
      },
      "cell_type": "markdown",
      "source": [
        "### Training the model"
      ]
    },
    {
      "metadata": {
        "id": "B--p3OsrJvTt",
        "colab_type": "code",
        "outputId": "875c5161-0e40-4d7d-fd90-ecef976d262a",
        "colab": {
          "base_uri": "https://localhost:8080/",
          "height": 1530
        }
      },
      "cell_type": "code",
      "source": [
        "history = model.fit_generator(datagen.flow(train_images, train_labels, batch_size=32),\n",
        "                    epochs=30, verbose=1, validation_data=(test_images, test_labels), shuffle=True)"
      ],
      "execution_count": 11,
      "outputs": [
        {
          "output_type": "stream",
          "text": [
            "10000/10000 [==============================] - 7s 746us/sample - loss: 1.3329 - acc: 0.5149\n",
            "1563/1563 [==============================] - 124s 79ms/step - loss: 1.6616 - acc: 0.3977 - val_loss: 1.3330 - val_acc: 0.5149\n",
            "Epoch 2/30\n",
            "10000/10000 [==============================] - 7s 735us/sample - loss: 1.1204 - acc: 0.6066\n",
            "1563/1563 [==============================] - 119s 76ms/step - loss: 1.3227 - acc: 0.5312 - val_loss: 1.1206 - val_acc: 0.6066\n",
            "Epoch 3/30\n",
            "10000/10000 [==============================] - 7s 726us/sample - loss: 1.0418 - acc: 0.6383\n",
            "1563/1563 [==============================] - 123s 79ms/step - loss: 1.1862 - acc: 0.5830 - val_loss: 1.0419 - val_acc: 0.6383\n",
            "Epoch 4/30\n",
            "10000/10000 [==============================] - 7s 724us/sample - loss: 1.0627 - acc: 0.6244\n",
            "1563/1563 [==============================] - 126s 80ms/step - loss: 1.1020 - acc: 0.6162 - val_loss: 1.0628 - val_acc: 0.6244\n",
            "Epoch 5/30\n",
            "10000/10000 [==============================] - 7s 739us/sample - loss: 0.9999 - acc: 0.6556\n",
            "1563/1563 [==============================] - 123s 79ms/step - loss: 1.0519 - acc: 0.6333 - val_loss: 0.9996 - val_acc: 0.6556\n",
            "Epoch 6/30\n",
            "10000/10000 [==============================] - 7s 729us/sample - loss: 0.9095 - acc: 0.6860\n",
            "1563/1563 [==============================] - 123s 79ms/step - loss: 0.9999 - acc: 0.6538 - val_loss: 0.9095 - val_acc: 0.6860\n",
            "Epoch 7/30\n",
            "10000/10000 [==============================] - 7s 732us/sample - loss: 0.9078 - acc: 0.6973\n",
            "1563/1563 [==============================] - 125s 80ms/step - loss: 0.9639 - acc: 0.6653 - val_loss: 0.9072 - val_acc: 0.6973\n",
            "Epoch 8/30\n",
            "10000/10000 [==============================] - 7s 724us/sample - loss: 0.8887 - acc: 0.6969\n",
            "1563/1563 [==============================] - 123s 79ms/step - loss: 0.9365 - acc: 0.6739 - val_loss: 0.8887 - val_acc: 0.6969\n",
            "Epoch 9/30\n",
            "10000/10000 [==============================] - 7s 725us/sample - loss: 0.8759 - acc: 0.7103\n",
            "1563/1563 [==============================] - 124s 80ms/step - loss: 0.9110 - acc: 0.6830 - val_loss: 0.8761 - val_acc: 0.7103\n",
            "Epoch 10/30\n",
            "10000/10000 [==============================] - 7s 720us/sample - loss: 0.8824 - acc: 0.6995\n",
            "1563/1563 [==============================] - 123s 79ms/step - loss: 0.8881 - acc: 0.6939 - val_loss: 0.8827 - val_acc: 0.6995\n",
            "Epoch 11/30\n",
            "10000/10000 [==============================] - 7s 724us/sample - loss: 0.8131 - acc: 0.7270\n",
            "1563/1563 [==============================] - 123s 79ms/step - loss: 0.8732 - acc: 0.6982 - val_loss: 0.8137 - val_acc: 0.7270\n",
            "Epoch 12/30\n",
            "10000/10000 [==============================] - 7s 724us/sample - loss: 0.8149 - acc: 0.7295\n",
            "1563/1563 [==============================] - 124s 79ms/step - loss: 0.8584 - acc: 0.7063 - val_loss: 0.8146 - val_acc: 0.7295\n",
            "Epoch 13/30\n",
            "10000/10000 [==============================] - 7s 724us/sample - loss: 0.8311 - acc: 0.7264\n",
            "1563/1563 [==============================] - 123s 79ms/step - loss: 0.8471 - acc: 0.7095 - val_loss: 0.8311 - val_acc: 0.7264\n",
            "Epoch 14/30\n",
            "10000/10000 [==============================] - 7s 720us/sample - loss: 0.7881 - acc: 0.7352\n",
            "1563/1563 [==============================] - 124s 79ms/step - loss: 0.8390 - acc: 0.7131 - val_loss: 0.7878 - val_acc: 0.7352\n",
            "Epoch 15/30\n",
            "10000/10000 [==============================] - 7s 725us/sample - loss: 0.8206 - acc: 0.7336\n",
            "1563/1563 [==============================] - 122s 78ms/step - loss: 0.8271 - acc: 0.7178 - val_loss: 0.8200 - val_acc: 0.7336\n",
            "Epoch 16/30\n",
            "10000/10000 [==============================] - 7s 725us/sample - loss: 0.8706 - acc: 0.7212\n",
            "1563/1563 [==============================] - 122s 78ms/step - loss: 0.8247 - acc: 0.7154 - val_loss: 0.8699 - val_acc: 0.7212\n",
            "Epoch 17/30\n",
            "10000/10000 [==============================] - 7s 730us/sample - loss: 0.8039 - acc: 0.7302\n",
            "1563/1563 [==============================] - 124s 79ms/step - loss: 0.8073 - acc: 0.7229 - val_loss: 0.8040 - val_acc: 0.7302\n",
            "Epoch 18/30\n",
            "10000/10000 [==============================] - 7s 719us/sample - loss: 0.8643 - acc: 0.7266\n",
            "1563/1563 [==============================] - 122s 78ms/step - loss: 0.8060 - acc: 0.7229 - val_loss: 0.8635 - val_acc: 0.7266\n",
            "Epoch 19/30\n",
            "10000/10000 [==============================] - 7s 721us/sample - loss: 0.8028 - acc: 0.7383\n",
            "1563/1563 [==============================] - 122s 78ms/step - loss: 0.7994 - acc: 0.7304 - val_loss: 0.8025 - val_acc: 0.7383\n",
            "Epoch 20/30\n",
            "10000/10000 [==============================] - 7s 731us/sample - loss: 0.7709 - acc: 0.7547\n",
            "1563/1563 [==============================] - 121s 77ms/step - loss: 0.7995 - acc: 0.7261 - val_loss: 0.7702 - val_acc: 0.7547\n",
            "Epoch 21/30\n",
            "10000/10000 [==============================] - 7s 722us/sample - loss: 0.8119 - acc: 0.7411\n",
            "1563/1563 [==============================] - 121s 78ms/step - loss: 0.7903 - acc: 0.7316 - val_loss: 0.8112 - val_acc: 0.7411\n",
            "Epoch 22/30\n",
            "10000/10000 [==============================] - 7s 724us/sample - loss: 0.8023 - acc: 0.7425\n",
            "1563/1563 [==============================] - 123s 78ms/step - loss: 0.7941 - acc: 0.7310 - val_loss: 0.8019 - val_acc: 0.7425\n",
            "Epoch 23/30\n",
            "10000/10000 [==============================] - 7s 727us/sample - loss: 0.8218 - acc: 0.7265\n",
            "1563/1563 [==============================] - 122s 78ms/step - loss: 0.7886 - acc: 0.7345 - val_loss: 0.8216 - val_acc: 0.7265\n",
            "Epoch 24/30\n",
            "10000/10000 [==============================] - 7s 720us/sample - loss: 0.8820 - acc: 0.7226\n",
            "1563/1563 [==============================] - 123s 79ms/step - loss: 0.7920 - acc: 0.7342 - val_loss: 0.8816 - val_acc: 0.7226\n",
            "Epoch 25/30\n",
            "10000/10000 [==============================] - 7s 717us/sample - loss: 0.9218 - acc: 0.7279\n",
            "1563/1563 [==============================] - 121s 78ms/step - loss: 0.7909 - acc: 0.7320 - val_loss: 0.9213 - val_acc: 0.7279\n",
            "Epoch 26/30\n",
            "10000/10000 [==============================] - 7s 729us/sample - loss: 0.8082 - acc: 0.7380\n",
            "1563/1563 [==============================] - 122s 78ms/step - loss: 0.7810 - acc: 0.7379 - val_loss: 0.8081 - val_acc: 0.7380\n",
            "Epoch 27/30\n",
            "10000/10000 [==============================] - 7s 730us/sample - loss: 0.7740 - acc: 0.7494\n",
            "1563/1563 [==============================] - 123s 79ms/step - loss: 0.7822 - acc: 0.7333 - val_loss: 0.7735 - val_acc: 0.7494\n",
            "Epoch 28/30\n",
            "10000/10000 [==============================] - 7s 720us/sample - loss: 0.8760 - acc: 0.7213\n",
            "1563/1563 [==============================] - 122s 78ms/step - loss: 0.7819 - acc: 0.7376 - val_loss: 0.8754 - val_acc: 0.7213\n",
            "Epoch 29/30\n",
            "10000/10000 [==============================] - 8s 768us/sample - loss: 0.8228 - acc: 0.7352\n",
            "1563/1563 [==============================] - 123s 78ms/step - loss: 0.7839 - acc: 0.7382 - val_loss: 0.8228 - val_acc: 0.7352\n",
            "Epoch 30/30\n",
            "10000/10000 [==============================] - 7s 727us/sample - loss: 0.8093 - acc: 0.7482\n",
            "1563/1563 [==============================] - 121s 78ms/step - loss: 0.7819 - acc: 0.7374 - val_loss: 0.8087 - val_acc: 0.7482\n"
          ],
          "name": "stdout"
        }
      ]
    },
    {
      "metadata": {
        "id": "9_JJfpsRpore",
        "colab_type": "text"
      },
      "cell_type": "markdown",
      "source": [
        "The final training accuracy: 0.7374\n",
        "\n",
        "The final test accuracy: 0.7482"
      ]
    },
    {
      "metadata": {
        "id": "HdZaiaR5pFcu",
        "colab_type": "text"
      },
      "cell_type": "markdown",
      "source": [
        "### Saving the model"
      ]
    },
    {
      "metadata": {
        "colab_type": "code",
        "id": "cw7c3VLJXzaf",
        "colab": {}
      },
      "cell_type": "code",
      "source": [
        "model_fname = 'model_final_augment.h5' \n",
        "model.save(model_fname)"
      ],
      "execution_count": 0,
      "outputs": []
    },
    {
      "metadata": {
        "colab_type": "text",
        "id": "I1EZgcrdXzag"
      },
      "cell_type": "markdown",
      "source": [
        "### Downloading the model"
      ]
    },
    {
      "metadata": {
        "colab_type": "code",
        "id": "ee7JgHLaXzag",
        "colab": {}
      },
      "cell_type": "code",
      "source": [
        "from google.colab import files\n",
        "\n",
        "with open(model_fname, 'r') as f:\n",
        "  files.download(model_fname)"
      ],
      "execution_count": 0,
      "outputs": []
    },
    {
      "metadata": {
        "colab_type": "text",
        "id": "XEEmq30eXzak"
      },
      "cell_type": "markdown",
      "source": [
        "### Checking overfitting"
      ]
    },
    {
      "metadata": {
        "colab_type": "code",
        "outputId": "6781e3a3-973d-4a81-cab8-1c7b9dc27dc0",
        "id": "gErcxicdXzak",
        "colab": {
          "base_uri": "https://localhost:8080/",
          "height": 752
        }
      },
      "cell_type": "code",
      "source": [
        "import matplotlib.pyplot as plt\n",
        "\n",
        "acc = history.history['acc']\n",
        "val_acc = history.history['val_acc']\n",
        "\n",
        "loss = history.history['loss']\n",
        "val_loss = history.history['val_loss']\n",
        "\n",
        "epochs = range(len(acc))\n",
        "\n",
        "# Plot training and validation accuracy per epoch\n",
        "plt.plot(epochs, acc, 'bo', label='Training accuracy')\n",
        "plt.plot(epochs, val_acc, 'ro', label='Validation accuracy')\n",
        "plt.title('Training and validation accuracy')\n",
        "plt.xlabel('Epochs')\n",
        "plt.ylabel('Accuracy')\n",
        "plt.legend()\n",
        "\n",
        "plt.figure()\n",
        "\n",
        "# Plot training and validation loss per epoch\n",
        "plt.plot(epochs, loss, 'bo', label='Training loss')\n",
        "plt.plot(epochs, val_loss, 'ro', label='Validation loss')\n",
        "plt.title('Training and validation loss')\n",
        "plt.xlabel('Epochs')\n",
        "plt.ylabel('Loss')\n",
        "plt.legend()"
      ],
      "execution_count": 14,
      "outputs": [
        {
          "output_type": "execute_result",
          "data": {
            "text/plain": [
              "<matplotlib.legend.Legend at 0x7f05c6965cf8>"
            ]
          },
          "metadata": {
            "tags": []
          },
          "execution_count": 14
        },
        {
          "output_type": "display_data",
          "data": {
            "image/png": "[encoded data removed]",
            "text/plain": [
              "<Figure size 576x396 with 1 Axes>"
            ]
          },
          "metadata": {
            "tags": []
          }
        },
        {
          "output_type": "display_data",
          "data": {
            "image/png": "[encoded data removed]",
            "text/plain": [
              "<Figure size 576x396 with 1 Axes>"
            ]
          },
          "metadata": {
            "tags": []
          }
        }
      ]
    },
    {
      "metadata": {
        "id": "rtVxvAD2ZPX4",
        "colab_type": "text"
      },
      "cell_type": "markdown",
      "source": [
        "## CNN architecture with k-fold validation and data augmentation"
      ]
    },
    {
      "metadata": {
        "colab_type": "text",
        "id": "qJo1EnI-uHGT"
      },
      "cell_type": "markdown",
      "source": [
        "### Loading the CIFAR10 data set"
      ]
    },
    {
      "metadata": {
        "colab_type": "code",
        "id": "lECszTxquHGU",
        "colab": {}
      },
      "cell_type": "code",
      "source": [
        "from keras.datasets import cifar10\n",
        "\n",
        "(train_images, train_labels), (test_images, test_labels) = cifar10.load_data()"
      ],
      "execution_count": 0,
      "outputs": []
    },
    {
      "metadata": {
        "id": "kVOZsyMM18jB",
        "colab_type": "text"
      },
      "cell_type": "markdown",
      "source": [
        "### K-fold validation"
      ]
    },
    {
      "metadata": {
        "id": "j2pjCIjQ2DQ-",
        "colab_type": "code",
        "outputId": "7f5befde-58a4-429e-9a69-bfde2ef33e63",
        "colab": {
          "base_uri": "https://localhost:8080/",
          "height": 51
        }
      },
      "cell_type": "code",
      "source": [
        "from sklearn.model_selection import StratifiedKFold\n",
        "\n",
        "folds = list(StratifiedKFold(n_splits=5, shuffle=True, random_state=1).split(train_images, train_labels))\n",
        "\n",
        "print('total training images:', train_images.shape[0])\n",
        "print('total test images:', test_images.shape[0])"
      ],
      "execution_count": 38,
      "outputs": [
        {
          "output_type": "stream",
          "text": [
            "total training images: 50000\n",
            "total test images: 10000\n"
          ],
          "name": "stdout"
        }
      ]
    },
    {
      "metadata": {
        "colab_type": "text",
        "id": "oeVf160pxkMh"
      },
      "cell_type": "markdown",
      "source": [
        "### Encoding the labels"
      ]
    },
    {
      "metadata": {
        "colab_type": "code",
        "id": "aRoigOrkxkMl",
        "colab": {}
      },
      "cell_type": "code",
      "source": [
        "from keras.utils import to_categorical\n",
        "\n",
        "class_names = ['airplan', 'automobile', 'bird', 'cat', 'deer', 'dog', 'frog', 'horse', 'ship', 'truck']\n",
        "num_classes = len(class_names)\n",
        "\n",
        "train_labels = to_categorical(train_labels, num_classes)\n",
        "test_labels = to_categorical(test_labels, num_classes)"
      ],
      "execution_count": 0,
      "outputs": []
    },
    {
      "metadata": {
        "colab_type": "text",
        "id": "H4TG6_wzuHGc"
      },
      "cell_type": "markdown",
      "source": [
        "### Preprocessing the data"
      ]
    },
    {
      "metadata": {
        "colab_type": "code",
        "id": "SSjegInxuHGd",
        "colab": {}
      },
      "cell_type": "code",
      "source": [
        "train_images = train_images.astype('float32') / 255.0\n",
        "test_images = test_images.astype('float32') / 255.0"
      ],
      "execution_count": 0,
      "outputs": []
    },
    {
      "metadata": {
        "colab_type": "text",
        "id": "NWfCzQ_MuHGg"
      },
      "cell_type": "markdown",
      "source": [
        "### Adding data augmentation\n",
        "Validation data should not be augmented"
      ]
    },
    {
      "metadata": {
        "colab_type": "code",
        "id": "_WJfNWo7uHGh",
        "colab": {}
      },
      "cell_type": "code",
      "source": [
        "from tensorflow.keras.preprocessing.image import ImageDataGenerator\n",
        "\n",
        "# Training images\n",
        "datagen = ImageDataGenerator(\n",
        "    rotation_range=15,\n",
        "    width_shift_range=0.1,\n",
        "    height_shift_range=0.1,\n",
        "    horizontal_flip=True)\n",
        "\n",
        "datagen.fit(train_images)"
      ],
      "execution_count": 0,
      "outputs": []
    },
    {
      "metadata": {
        "colab_type": "text",
        "id": "PVjrrUIzxuiS"
      },
      "cell_type": "markdown",
      "source": [
        "### Building the model"
      ]
    },
    {
      "metadata": {
        "colab_type": "code",
        "outputId": "199f3447-ae47-4220-83f9-f516c0f4ebab",
        "id": "eSaKrk0hxuiU",
        "colab": {
          "base_uri": "https://localhost:8080/",
          "height": 408
        }
      },
      "cell_type": "code",
      "source": [
        "from tensorflow import keras\n",
        "\n",
        "model = keras.Sequential([\n",
        "    keras.layers.Conv2D(32, (3, 3), activation='relu', input_shape=(32, 32, 3)),\n",
        "    keras.layers.MaxPooling2D((2, 2)),\n",
        "    \n",
        "    keras.layers.Conv2D(64, (3, 3), activation='relu'),\n",
        "    keras.layers.MaxPooling2D((2, 2)),\n",
        "    \n",
        "    keras.layers.Conv2D(128, (3, 3), activation='relu'),\n",
        "    keras.layers.MaxPooling2D((2, 2)),\n",
        "    \n",
        "    keras.layers.Flatten(),\n",
        "    keras.layers.Dense(num_classes, activation='softmax')\n",
        "])\n",
        "\n",
        "model.summary()"
      ],
      "execution_count": 42,
      "outputs": [
        {
          "output_type": "stream",
          "text": [
            "_________________________________________________________________\n",
            "Layer (type)                 Output Shape              Param #   \n",
            "=================================================================\n",
            "conv2d_13 (Conv2D)           (None, 30, 30, 32)        896       \n",
            "_________________________________________________________________\n",
            "max_pooling2d_11 (MaxPooling (None, 15, 15, 32)        0         \n",
            "_________________________________________________________________\n",
            "conv2d_14 (Conv2D)           (None, 13, 13, 64)        18496     \n",
            "_________________________________________________________________\n",
            "max_pooling2d_12 (MaxPooling (None, 6, 6, 64)          0         \n",
            "_________________________________________________________________\n",
            "conv2d_15 (Conv2D)           (None, 4, 4, 128)         73856     \n",
            "_________________________________________________________________\n",
            "max_pooling2d_13 (MaxPooling (None, 2, 2, 128)         0         \n",
            "_________________________________________________________________\n",
            "flatten_4 (Flatten)          (None, 512)               0         \n",
            "_________________________________________________________________\n",
            "dense_5 (Dense)              (None, 10)                5130      \n",
            "=================================================================\n",
            "Total params: 98,378\n",
            "Trainable params: 98,378\n",
            "Non-trainable params: 0\n",
            "_________________________________________________________________\n"
          ],
          "name": "stdout"
        }
      ]
    },
    {
      "metadata": {
        "colab_type": "text",
        "id": "T6Ds-eoYxuia"
      },
      "cell_type": "markdown",
      "source": [
        "### Compiling the model"
      ]
    },
    {
      "metadata": {
        "colab_type": "code",
        "id": "ThLXOv5_xuic",
        "colab": {}
      },
      "cell_type": "code",
      "source": [
        "from tensorflow.keras.optimizers import RMSprop\n",
        "\n",
        "model.compile(loss='categorical_crossentropy',\n",
        "              optimizer=RMSprop(lr=0.001),\n",
        "              metrics=['accuracy'])"
      ],
      "execution_count": 0,
      "outputs": []
    },
    {
      "metadata": {
        "id": "tOK5_ixvAzcR",
        "colab_type": "text"
      },
      "cell_type": "markdown",
      "source": [
        "### Training the model"
      ]
    },
    {
      "metadata": {
        "id": "1giH-P1NI9pl",
        "colab_type": "code",
        "colab": {}
      },
      "cell_type": "code",
      "source": [
        "for j, (train_idx, val_idx) in enumerate(folds):\n",
        "  \n",
        "  print('\\nFold ',j)\n",
        "  X_train_cv = train_images[train_idx]\n",
        "  y_train_cv = train_labels[train_idx]\n",
        "  X_valid_cv = train_images[val_idx]\n",
        "  y_valid_cv = train_labels[val_idx]\n",
        "  \n",
        "  model.fit_generator(datagen.flow(X_train_cv, y_train_cv, batch_size = 32),\n",
        "                    epochs=30, verbose=1, validation_data=(X_valid_cv, y_valid_cv), shuffle=True)\n",
        "  \n",
        "  print(model.evaluate(X_valid_cv, y_valid_cv))"
      ],
      "execution_count": 0,
      "outputs": []
    },
    {
      "metadata": {
        "id": "CPMwnSsPawLB",
        "colab_type": "text"
      },
      "cell_type": "markdown",
      "source": [
        "### Saving the model"
      ]
    },
    {
      "metadata": {
        "id": "Imm1TdespJA-",
        "colab_type": "code",
        "colab": {}
      },
      "cell_type": "code",
      "source": [
        "model_fname = 'model_final_augment_kfold.h5' \n",
        "model.save(model_fname)"
      ],
      "execution_count": 0,
      "outputs": []
    },
    {
      "metadata": {
        "id": "XOY1qRS2pV4L",
        "colab_type": "text"
      },
      "cell_type": "markdown",
      "source": [
        "### Downloading the model"
      ]
    },
    {
      "metadata": {
        "id": "dN56DIj4pZt5",
        "colab_type": "code",
        "colab": {}
      },
      "cell_type": "code",
      "source": [
        "from google.colab import files\n",
        "\n",
        "with open(model_fname, 'r') as f:\n",
        "  files.download(model_fname)"
      ],
      "execution_count": 0,
      "outputs": []
    },
    {
      "metadata": {
        "id": "S8m6-TcCy-4B",
        "colab_type": "text"
      },
      "cell_type": "markdown",
      "source": [
        "Does the accuracy/loss obtain by k-fold validation differ from the accuracy/loss obtain by simple hold-out validation?"
      ]
    }
  ]
}
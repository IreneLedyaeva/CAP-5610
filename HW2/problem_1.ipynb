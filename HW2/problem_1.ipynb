{
  "nbformat": 4,
  "nbformat_minor": 0,
  "metadata": {
    "colab": {
      "name": "problem_1.ipynb",
      "version": "0.3.2",
      "provenance": [],
      "include_colab_link": true
    },
    "kernelspec": {
      "name": "python3",
      "display_name": "Python 3"
    }
  },
  "cells": [
    {
      "cell_type": "markdown",
      "metadata": {
        "id": "view-in-github",
        "colab_type": "text"
      },
      "source": [
        "<a href=\"https://colab.research.google.com/github/IreneLedyaeva/CAP-5610/blob/master/HW2/problem_1.ipynb\" target=\"_parent\"><img src=\"https://colab.research.google.com/assets/colab-badge.svg\" alt=\"Open In Colab\"/></a>"
      ]
    },
    {
      "metadata": {
        "id": "pwfDXmfJ_zK3",
        "colab_type": "text"
      },
      "cell_type": "markdown",
      "source": [
        "## CNN architecture with hold-out validation and data augmentation"
      ]
    },
    {
      "metadata": {
        "id": "zRWk951gSW_n",
        "colab_type": "text"
      },
      "cell_type": "markdown",
      "source": [
        "### Loading the CIFAR10 data set"
      ]
    },
    {
      "metadata": {
        "id": "JhDk_-QE_2Ns",
        "colab_type": "code",
        "colab": {}
      },
      "cell_type": "code",
      "source": [
        "from keras.datasets import cifar10\n",
        "\n",
        "(non_test_images, non_test_labels), (test_images, test_labels) = cifar10.load_data()"
      ],
      "execution_count": 0,
      "outputs": []
    },
    {
      "metadata": {
        "id": "kVOZsyMM18jB",
        "colab_type": "text"
      },
      "cell_type": "markdown",
      "source": [
        "### Splitting non-test data into training and validation"
      ]
    },
    {
      "metadata": {
        "id": "j2pjCIjQ2DQ-",
        "colab_type": "code",
        "outputId": "ff155ab4-416a-43ca-8062-00e8fc6e27ec",
        "colab": {
          "base_uri": "https://localhost:8080/",
          "height": 68
        }
      },
      "cell_type": "code",
      "source": [
        "num_validation_samples = int(non_test_images.shape[0] * 0.2)\n",
        "\n",
        "train_images = non_test_images[num_validation_samples:] \n",
        "validation_images = non_test_images[:num_validation_samples]\n",
        "\n",
        "train_labels = non_test_labels[num_validation_samples:] \n",
        "validation_labels = non_test_labels[:num_validation_samples]\n",
        "\n",
        "print('total training images:', train_images.shape[0])\n",
        "print('total validation images:', validation_images.shape[0])\n",
        "print('total test images:', test_images.shape[0])"
      ],
      "execution_count": 23,
      "outputs": [
        {
          "output_type": "stream",
          "text": [
            "total training images: 40000\n",
            "total validation images: 10000\n",
            "total test images: 10000\n"
          ],
          "name": "stdout"
        }
      ]
    },
    {
      "metadata": {
        "id": "7dHHcp5USgOD",
        "colab_type": "text"
      },
      "cell_type": "markdown",
      "source": [
        "### Encoding the labels"
      ]
    },
    {
      "metadata": {
        "id": "Ecf4mka-SusC",
        "colab_type": "code",
        "colab": {}
      },
      "cell_type": "code",
      "source": [
        "from keras.utils import to_categorical\n",
        "\n",
        "class_names = ['airplan', 'automobile', 'bird', 'cat', 'deer', 'dog', 'frog', 'horse', 'ship', 'truck']\n",
        "num_classes = len(class_names)\n",
        "\n",
        "train_labels = to_categorical(train_labels, num_classes)\n",
        "validation_labels = to_categorical(validation_labels, num_classes)\n",
        "test_labels = to_categorical(test_labels, num_classes)"
      ],
      "execution_count": 0,
      "outputs": []
    },
    {
      "metadata": {
        "id": "90zmcK2hhyWQ",
        "colab_type": "text"
      },
      "cell_type": "markdown",
      "source": [
        "### Preprocessing the data"
      ]
    },
    {
      "metadata": {
        "id": "eNeeHK0Qh1r9",
        "colab_type": "code",
        "colab": {}
      },
      "cell_type": "code",
      "source": [
        "train_images = train_images.astype('float32') / 255.0\n",
        "validation_images = validation_images.astype('float32') / 255.0\n",
        "test_images = test_images.astype('float32') / 255.0"
      ],
      "execution_count": 0,
      "outputs": []
    },
    {
      "metadata": {
        "id": "nx40fYO57VQs",
        "colab_type": "text"
      },
      "cell_type": "markdown",
      "source": [
        "### Adding data augmentation\n",
        "Validation and test data should not be augmented"
      ]
    },
    {
      "metadata": {
        "id": "PiRs1w0t7ZmG",
        "colab_type": "code",
        "colab": {}
      },
      "cell_type": "code",
      "source": [
        "from tensorflow.keras.preprocessing.image import ImageDataGenerator\n",
        "\n",
        "# Training images\n",
        "datagen = ImageDataGenerator(\n",
        "    rotation_range=15,\n",
        "    width_shift_range=0.1,\n",
        "    height_shift_range=0.1,\n",
        "    horizontal_flip=True)\n",
        "\n",
        "datagen.fit(train_images)"
      ],
      "execution_count": 0,
      "outputs": []
    },
    {
      "metadata": {
        "id": "tOK5_ixvAzcR",
        "colab_type": "text"
      },
      "cell_type": "markdown",
      "source": [
        "### Building the model"
      ]
    },
    {
      "metadata": {
        "id": "1giH-P1NI9pl",
        "colab_type": "code",
        "colab": {
          "base_uri": "https://localhost:8080/",
          "height": 408
        },
        "outputId": "ae30a1ee-965e-4830-c3a6-894a50a143f0"
      },
      "cell_type": "code",
      "source": [
        "from tensorflow import keras\n",
        "\n",
        "model = keras.Sequential([\n",
        "    keras.layers.Conv2D(32, (3, 3), activation='relu', input_shape=(32, 32, 3)),\n",
        "    keras.layers.MaxPooling2D((2, 2)),\n",
        "    \n",
        "    keras.layers.Conv2D(64, (3, 3), activation='relu'),\n",
        "    keras.layers.MaxPooling2D((2, 2)),\n",
        "    \n",
        "    keras.layers.Conv2D(128, (3, 3), activation='relu'),\n",
        "    keras.layers.MaxPooling2D((2, 2)),\n",
        "    \n",
        "    keras.layers.Flatten(),\n",
        "    keras.layers.Dense(num_classes, activation='softmax')\n",
        "])\n",
        "\n",
        "model.summary()"
      ],
      "execution_count": 27,
      "outputs": [
        {
          "output_type": "stream",
          "text": [
            "_________________________________________________________________\n",
            "Layer (type)                 Output Shape              Param #   \n",
            "=================================================================\n",
            "conv2d_9 (Conv2D)            (None, 30, 30, 32)        896       \n",
            "_________________________________________________________________\n",
            "max_pooling2d_9 (MaxPooling2 (None, 15, 15, 32)        0         \n",
            "_________________________________________________________________\n",
            "conv2d_10 (Conv2D)           (None, 13, 13, 64)        18496     \n",
            "_________________________________________________________________\n",
            "max_pooling2d_10 (MaxPooling (None, 6, 6, 64)          0         \n",
            "_________________________________________________________________\n",
            "conv2d_11 (Conv2D)           (None, 4, 4, 128)         73856     \n",
            "_________________________________________________________________\n",
            "max_pooling2d_11 (MaxPooling (None, 2, 2, 128)         0         \n",
            "_________________________________________________________________\n",
            "flatten_3 (Flatten)          (None, 512)               0         \n",
            "_________________________________________________________________\n",
            "dense_3 (Dense)              (None, 10)                5130      \n",
            "=================================================================\n",
            "Total params: 98,378\n",
            "Trainable params: 98,378\n",
            "Non-trainable params: 0\n",
            "_________________________________________________________________\n"
          ],
          "name": "stdout"
        }
      ]
    },
    {
      "metadata": {
        "id": "S6wmyqtMJW6I",
        "colab_type": "text"
      },
      "cell_type": "markdown",
      "source": [
        "### Compiling the model"
      ]
    },
    {
      "metadata": {
        "id": "gJjJAvwDJf8P",
        "colab_type": "code",
        "colab": {}
      },
      "cell_type": "code",
      "source": [
        "from tensorflow.keras.optimizers import RMSprop\n",
        "\n",
        "model.compile(loss='categorical_crossentropy',\n",
        "              optimizer=RMSprop(lr=0.001),\n",
        "              metrics=['accuracy'])"
      ],
      "execution_count": 0,
      "outputs": []
    },
    {
      "metadata": {
        "id": "W9CBde1GJpe-",
        "colab_type": "text"
      },
      "cell_type": "markdown",
      "source": [
        "### Training the model"
      ]
    },
    {
      "metadata": {
        "id": "B--p3OsrJvTt",
        "colab_type": "code",
        "colab": {
          "base_uri": "https://localhost:8080/",
          "height": 1547
        },
        "outputId": "0e55d951-7085-4853-c411-2606d3138976"
      },
      "cell_type": "code",
      "source": [
        "history = model.fit_generator(datagen.flow(train_images, train_labels, batch_size=32),\n",
        "                    steps_per_epoch=train_images.shape[0] // 32, epochs=30,\n",
        "                    verbose=1,validation_data=(validation_images, validation_labels))"
      ],
      "execution_count": 30,
      "outputs": [
        {
          "output_type": "stream",
          "text": [
            "Epoch 1/30\n",
            "10000/10000 [==============================] - 7s 704us/sample - loss: 1.0074 - acc: 0.6506\n",
            "1250/1250 [==============================] - 96s 77ms/step - loss: 1.1039 - acc: 0.6136 - val_loss: 1.0083 - val_acc: 0.6506\n",
            "Epoch 2/30\n",
            "10000/10000 [==============================] - 7s 723us/sample - loss: 0.9434 - acc: 0.6723\n",
            "1250/1250 [==============================] - 96s 77ms/step - loss: 1.0447 - acc: 0.6352 - val_loss: 0.9443 - val_acc: 0.6723\n",
            "Epoch 3/30\n",
            "10000/10000 [==============================] - 7s 712us/sample - loss: 0.8666 - acc: 0.7059\n",
            "1250/1250 [==============================] - 96s 77ms/step - loss: 1.0088 - acc: 0.6469 - val_loss: 0.8672 - val_acc: 0.7059\n",
            "Epoch 4/30\n",
            "10000/10000 [==============================] - 7s 707us/sample - loss: 0.8468 - acc: 0.7080\n",
            "1250/1250 [==============================] - 96s 76ms/step - loss: 0.9748 - acc: 0.6604 - val_loss: 0.8472 - val_acc: 0.7080\n",
            "Epoch 5/30\n",
            "10000/10000 [==============================] - 7s 707us/sample - loss: 0.8856 - acc: 0.6988\n",
            "1250/1250 [==============================] - 95s 76ms/step - loss: 0.9416 - acc: 0.6739 - val_loss: 0.8867 - val_acc: 0.6988\n",
            "Epoch 6/30\n",
            "10000/10000 [==============================] - 7s 706us/sample - loss: 0.9139 - acc: 0.6951\n",
            "1250/1250 [==============================] - 95s 76ms/step - loss: 0.9222 - acc: 0.6802 - val_loss: 0.9148 - val_acc: 0.6951\n",
            "Epoch 7/30\n",
            "10000/10000 [==============================] - 7s 700us/sample - loss: 0.8163 - acc: 0.7167\n",
            "1250/1250 [==============================] - 95s 76ms/step - loss: 0.9033 - acc: 0.6875 - val_loss: 0.8164 - val_acc: 0.7167\n",
            "Epoch 8/30\n",
            "10000/10000 [==============================] - 7s 720us/sample - loss: 0.8885 - acc: 0.7085\n",
            "1250/1250 [==============================] - 96s 77ms/step - loss: 0.8846 - acc: 0.6949 - val_loss: 0.8894 - val_acc: 0.7085\n",
            "Epoch 9/30\n",
            "10000/10000 [==============================] - 7s 741us/sample - loss: 0.8029 - acc: 0.7248\n",
            "1250/1250 [==============================] - 95s 76ms/step - loss: 0.8675 - acc: 0.7003 - val_loss: 0.8037 - val_acc: 0.7248\n",
            "Epoch 10/30\n",
            "10000/10000 [==============================] - 7s 711us/sample - loss: 0.8008 - acc: 0.7230\n",
            "1250/1250 [==============================] - 95s 76ms/step - loss: 0.8531 - acc: 0.7056 - val_loss: 0.8011 - val_acc: 0.7230\n",
            "Epoch 11/30\n",
            "10000/10000 [==============================] - 7s 705us/sample - loss: 0.7893 - acc: 0.7333\n",
            "1250/1250 [==============================] - 95s 76ms/step - loss: 0.8436 - acc: 0.7131 - val_loss: 0.7904 - val_acc: 0.7333\n",
            "Epoch 12/30\n",
            "10000/10000 [==============================] - 7s 713us/sample - loss: 0.7270 - acc: 0.7529\n",
            "1250/1250 [==============================] - 95s 76ms/step - loss: 0.8297 - acc: 0.7143 - val_loss: 0.7275 - val_acc: 0.7529\n",
            "Epoch 13/30\n",
            "10000/10000 [==============================] - 7s 709us/sample - loss: 0.7626 - acc: 0.7460\n",
            "1250/1250 [==============================] - 95s 76ms/step - loss: 0.8209 - acc: 0.7169 - val_loss: 0.7636 - val_acc: 0.7460\n",
            "Epoch 14/30\n",
            "10000/10000 [==============================] - 7s 695us/sample - loss: 0.7431 - acc: 0.7471\n",
            "1250/1250 [==============================] - 95s 76ms/step - loss: 0.8175 - acc: 0.7189 - val_loss: 0.7441 - val_acc: 0.7471\n",
            "Epoch 15/30\n",
            "10000/10000 [==============================] - 7s 699us/sample - loss: 0.7057 - acc: 0.7570\n",
            "1250/1250 [==============================] - 94s 76ms/step - loss: 0.8001 - acc: 0.7261 - val_loss: 0.7064 - val_acc: 0.7570\n",
            "Epoch 16/30\n",
            "10000/10000 [==============================] - 7s 682us/sample - loss: 0.7955 - acc: 0.7331\n",
            "1250/1250 [==============================] - 95s 76ms/step - loss: 0.8063 - acc: 0.7218 - val_loss: 0.7956 - val_acc: 0.7331\n",
            "Epoch 17/30\n",
            "10000/10000 [==============================] - 7s 724us/sample - loss: 0.7691 - acc: 0.7443\n",
            "1250/1250 [==============================] - 96s 77ms/step - loss: 0.7983 - acc: 0.7254 - val_loss: 0.7699 - val_acc: 0.7443\n",
            "Epoch 18/30\n",
            "10000/10000 [==============================] - 7s 721us/sample - loss: 0.7077 - acc: 0.7590\n",
            "1250/1250 [==============================] - 96s 77ms/step - loss: 0.7974 - acc: 0.7301 - val_loss: 0.7087 - val_acc: 0.7590\n",
            "Epoch 19/30\n",
            "10000/10000 [==============================] - 7s 699us/sample - loss: 0.7587 - acc: 0.7423\n",
            "1250/1250 [==============================] - 97s 77ms/step - loss: 0.7880 - acc: 0.7306 - val_loss: 0.7596 - val_acc: 0.7423\n",
            "Epoch 20/30\n",
            "10000/10000 [==============================] - 7s 724us/sample - loss: 0.8319 - acc: 0.7241\n",
            "1250/1250 [==============================] - 96s 77ms/step - loss: 0.7875 - acc: 0.7312 - val_loss: 0.8329 - val_acc: 0.7241\n",
            "Epoch 21/30\n",
            "10000/10000 [==============================] - 7s 719us/sample - loss: 0.8090 - acc: 0.7391\n",
            "1250/1250 [==============================] - 96s 77ms/step - loss: 0.7883 - acc: 0.7310 - val_loss: 0.8099 - val_acc: 0.7391\n",
            "Epoch 22/30\n",
            "10000/10000 [==============================] - 7s 736us/sample - loss: 0.8208 - acc: 0.7338\n",
            "1250/1250 [==============================] - 96s 77ms/step - loss: 0.7788 - acc: 0.7349 - val_loss: 0.8215 - val_acc: 0.7338\n",
            "Epoch 23/30\n",
            "10000/10000 [==============================] - 7s 712us/sample - loss: 0.7286 - acc: 0.7593\n",
            "1250/1250 [==============================] - 96s 77ms/step - loss: 0.7800 - acc: 0.7341 - val_loss: 0.7295 - val_acc: 0.7593\n",
            "Epoch 24/30\n",
            "10000/10000 [==============================] - 7s 710us/sample - loss: 0.7076 - acc: 0.7627\n",
            "1250/1250 [==============================] - 96s 77ms/step - loss: 0.7791 - acc: 0.7346 - val_loss: 0.7085 - val_acc: 0.7627\n",
            "Epoch 25/30\n",
            "10000/10000 [==============================] - 7s 720us/sample - loss: 0.8381 - acc: 0.7339\n",
            "1250/1250 [==============================] - 95s 76ms/step - loss: 0.7751 - acc: 0.7379 - val_loss: 0.8390 - val_acc: 0.7339\n",
            "Epoch 26/30\n",
            "10000/10000 [==============================] - 7s 707us/sample - loss: 0.7575 - acc: 0.7457\n",
            "1250/1250 [==============================] - 96s 76ms/step - loss: 0.7750 - acc: 0.7344 - val_loss: 0.7586 - val_acc: 0.7457\n",
            "Epoch 27/30\n",
            "10000/10000 [==============================] - 7s 721us/sample - loss: 0.8555 - acc: 0.7347\n",
            "1250/1250 [==============================] - 96s 77ms/step - loss: 0.7774 - acc: 0.7332 - val_loss: 0.8565 - val_acc: 0.7347\n",
            "Epoch 28/30\n",
            "10000/10000 [==============================] - 7s 694us/sample - loss: 0.7509 - acc: 0.7555\n",
            "1250/1250 [==============================] - 95s 76ms/step - loss: 0.7735 - acc: 0.7392 - val_loss: 0.7518 - val_acc: 0.7555\n",
            "Epoch 29/30\n",
            "10000/10000 [==============================] - 7s 710us/sample - loss: 0.7262 - acc: 0.7604\n",
            "1250/1250 [==============================] - 95s 76ms/step - loss: 0.7716 - acc: 0.7415 - val_loss: 0.7271 - val_acc: 0.7604\n",
            "Epoch 30/30\n",
            "10000/10000 [==============================] - 7s 709us/sample - loss: 0.7517 - acc: 0.7538\n",
            "1250/1250 [==============================] - 95s 76ms/step - loss: 0.7814 - acc: 0.7386 - val_loss: 0.7527 - val_acc: 0.7538\n"
          ],
          "name": "stdout"
        }
      ]
    },
    {
      "metadata": {
        "id": "HdZaiaR5pFcu",
        "colab_type": "text"
      },
      "cell_type": "markdown",
      "source": [
        "### Saving the model"
      ]
    },
    {
      "metadata": {
        "id": "Imm1TdespJA-",
        "colab_type": "code",
        "colab": {}
      },
      "cell_type": "code",
      "source": [
        "model_fname = 'model_augment.h5' \n",
        "model.save(model_fname)"
      ],
      "execution_count": 0,
      "outputs": []
    },
    {
      "metadata": {
        "id": "XOY1qRS2pV4L",
        "colab_type": "text"
      },
      "cell_type": "markdown",
      "source": [
        "### Opening the model"
      ]
    },
    {
      "metadata": {
        "id": "dN56DIj4pZt5",
        "colab_type": "code",
        "colab": {}
      },
      "cell_type": "code",
      "source": [
        "from google.colab import files\n",
        "\n",
        "with open(model_fname, 'r') as f:\n",
        "  files.download(model_fname)"
      ],
      "execution_count": 0,
      "outputs": []
    },
    {
      "metadata": {
        "id": "iLytHSp_ds6C",
        "colab_type": "text"
      },
      "cell_type": "markdown",
      "source": [
        "### Checking overfitting"
      ]
    },
    {
      "metadata": {
        "id": "K6t234ovdv3s",
        "colab_type": "code",
        "colab": {
          "base_uri": "https://localhost:8080/",
          "height": 724
        },
        "outputId": "39ae9b28-734f-4880-ee39-e012ce97e0d0"
      },
      "cell_type": "code",
      "source": [
        "import matplotlib.pyplot as plt\n",
        "\n",
        "acc = history.history['acc']\n",
        "val_acc = history.history['val_acc']\n",
        "\n",
        "loss = history.history['loss']\n",
        "val_loss = history.history['val_loss']\n",
        "\n",
        "epochs = range(len(acc))\n",
        "\n",
        "# Plot training and validation accuracy per epoch\n",
        "plt.plot(epochs, acc)\n",
        "plt.plot(epochs, val_acc)\n",
        "plt.title('Training and validation accuracy')\n",
        "\n",
        "plt.figure()\n",
        "\n",
        "# Plot training and validation loss per epoch\n",
        "plt.plot(epochs, loss)\n",
        "plt.plot(epochs, val_loss)\n",
        "plt.title('Training and validation loss')"
      ],
      "execution_count": 34,
      "outputs": [
        {
          "output_type": "execute_result",
          "data": {
            "text/plain": [
              "Text(0.5, 1.0, 'Training and validation loss')"
            ]
          },
          "metadata": {
            "tags": []
          },
          "execution_count": 34
        },
        {
          "output_type": "display_data",
          "data": {
            "image/png": "[encoded data removed]",
            "text/plain": [
              "<Figure size 576x396 with 1 Axes>"
            ]
          },
          "metadata": {
            "tags": []
          }
        },
        {
          "output_type": "display_data",
          "data": {
            "image/png": "[encoded data removed]",
            "text/plain": [
              "<Figure size 576x396 with 1 Axes>"
            ]
          },
          "metadata": {
            "tags": []
          }
        }
      ]
    }
  ]
}
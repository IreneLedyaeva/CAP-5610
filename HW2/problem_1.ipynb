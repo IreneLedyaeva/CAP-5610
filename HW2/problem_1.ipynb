{
  "nbformat": 4,
  "nbformat_minor": 0,
  "metadata": {
    "colab": {
      "name": "problem_1.ipynb",
      "version": "0.3.2",
      "provenance": [],
      "include_colab_link": true
    },
    "kernelspec": {
      "name": "python3",
      "display_name": "Python 3"
    }
  },
  "cells": [
    {
      "cell_type": "markdown",
      "metadata": {
        "id": "view-in-github",
        "colab_type": "text"
      },
      "source": [
        "<a href=\"https://colab.research.google.com/github/IreneLedyaeva/CAP-5610/blob/master/HW2/problem_1.ipynb\" target=\"_parent\"><img src=\"https://colab.research.google.com/assets/colab-badge.svg\" alt=\"Open In Colab\"/></a>"
      ]
    },
    {
      "metadata": {
        "id": "pwfDXmfJ_zK3",
        "colab_type": "text"
      },
      "cell_type": "markdown",
      "source": [
        "### Loading the CIFAR10 data set"
      ]
    },
    {
      "metadata": {
        "id": "JhDk_-QE_2Ns",
        "colab_type": "code",
        "outputId": "4a303584-a569-44f7-cb28-3b9c811c8aaf",
        "colab": {
          "base_uri": "https://localhost:8080/",
          "height": 68
        }
      },
      "cell_type": "code",
      "source": [
        "from keras.datasets import cifar10\n",
        "\n",
        "(non_test_images, non_test_labels), (test_images, test_labels) = cifar10.load_data()"
      ],
      "execution_count": 1,
      "outputs": [
        {
          "output_type": "stream",
          "text": [
            "Using TensorFlow backend.\n"
          ],
          "name": "stderr"
        },
        {
          "output_type": "stream",
          "text": [
            "Downloading data from https://www.cs.toronto.edu/~kriz/cifar-10-python.tar.gz\n",
            "170500096/170498071 [==============================] - 18s 0us/step\n"
          ],
          "name": "stdout"
        }
      ]
    },
    {
      "metadata": {
        "id": "kVOZsyMM18jB",
        "colab_type": "text"
      },
      "cell_type": "markdown",
      "source": [
        "### Splitting non-test data into training and validation"
      ]
    },
    {
      "metadata": {
        "id": "j2pjCIjQ2DQ-",
        "colab_type": "code",
        "colab": {}
      },
      "cell_type": "code",
      "source": [
        "num_validation_samples = int(non_test_images.shape[0] * 0.2)\n",
        "\n",
        "train_images_original = non_test_images[num_validation_samples:] \n",
        "validation_images_original = non_test_images[:num_validation_samples]\n",
        "\n",
        "train_labels = non_test_labels[num_validation_samples:] \n",
        "validation_labels = non_test_labels[:num_validation_samples]"
      ],
      "execution_count": 0,
      "outputs": []
    },
    {
      "metadata": {
        "id": "nx40fYO57VQs",
        "colab_type": "text"
      },
      "cell_type": "markdown",
      "source": [
        "### Preprocessing the data"
      ]
    },
    {
      "metadata": {
        "id": "PiRs1w0t7ZmG",
        "colab_type": "code",
        "colab": {}
      },
      "cell_type": "code",
      "source": [
        "train_images = train_images_original.reshape((40000, 32, 32, 3)) / 255.0\n",
        "validation_images = validation_images_original.reshape((10000, 32, 32, 3)) / 255.0"
      ],
      "execution_count": 0,
      "outputs": []
    },
    {
      "metadata": {
        "id": "tOK5_ixvAzcR",
        "colab_type": "text"
      },
      "cell_type": "markdown",
      "source": [
        "### Building the model"
      ]
    },
    {
      "metadata": {
        "id": "1giH-P1NI9pl",
        "colab_type": "code",
        "colab": {
          "base_uri": "https://localhost:8080/",
          "height": 479
        },
        "outputId": "d8d3d7cd-a079-408b-e291-c57d4ba7fcf4"
      },
      "cell_type": "code",
      "source": [
        "import tensorflow as tf\n",
        "from tensorflow import keras\n",
        "\n",
        "model = keras.Sequential([\n",
        "    keras.layers.Conv2D(32, (3, 3), activation='relu', input_shape=(32, 32, 3)),\n",
        "    keras.layers.MaxPooling2D((2, 2)),\n",
        "    \n",
        "    keras.layers.Conv2D(64, (3, 3), activation='relu'),\n",
        "    keras.layers.MaxPooling2D((2, 2)),\n",
        "    \n",
        "    keras.layers.Conv2D(64, (3, 3), activation='relu'),\n",
        "    \n",
        "    keras.layers.Flatten(),\n",
        "    keras.layers.Dense(64, activation='relu'),\n",
        "    keras.layers.Dense(10, activation='softmax')\n",
        "])\n",
        "model.summary()"
      ],
      "execution_count": 34,
      "outputs": [
        {
          "output_type": "stream",
          "text": [
            "WARNING:tensorflow:From /usr/local/lib/python3.6/dist-packages/tensorflow/python/ops/resource_variable_ops.py:435: colocate_with (from tensorflow.python.framework.ops) is deprecated and will be removed in a future version.\n",
            "Instructions for updating:\n",
            "Colocations handled automatically by placer.\n",
            "_________________________________________________________________\n",
            "Layer (type)                 Output Shape              Param #   \n",
            "=================================================================\n",
            "conv2d (Conv2D)              (None, 30, 30, 32)        896       \n",
            "_________________________________________________________________\n",
            "max_pooling2d (MaxPooling2D) (None, 15, 15, 32)        0         \n",
            "_________________________________________________________________\n",
            "conv2d_1 (Conv2D)            (None, 13, 13, 64)        18496     \n",
            "_________________________________________________________________\n",
            "max_pooling2d_1 (MaxPooling2 (None, 6, 6, 64)          0         \n",
            "_________________________________________________________________\n",
            "conv2d_2 (Conv2D)            (None, 4, 4, 64)          36928     \n",
            "_________________________________________________________________\n",
            "flatten (Flatten)            (None, 1024)              0         \n",
            "_________________________________________________________________\n",
            "dense (Dense)                (None, 64)                65600     \n",
            "_________________________________________________________________\n",
            "dense_1 (Dense)              (None, 10)                650       \n",
            "=================================================================\n",
            "Total params: 122,570\n",
            "Trainable params: 122,570\n",
            "Non-trainable params: 0\n",
            "_________________________________________________________________\n"
          ],
          "name": "stdout"
        }
      ]
    },
    {
      "metadata": {
        "id": "S6wmyqtMJW6I",
        "colab_type": "text"
      },
      "cell_type": "markdown",
      "source": [
        "### Compiling the model"
      ]
    },
    {
      "metadata": {
        "id": "gJjJAvwDJf8P",
        "colab_type": "code",
        "colab": {}
      },
      "cell_type": "code",
      "source": [
        "model.compile(optimizer='adam',\n",
        "             loss='sparse_categorical_crossentropy',\n",
        "             metrics=['accuracy'])"
      ],
      "execution_count": 0,
      "outputs": []
    },
    {
      "metadata": {
        "id": "W9CBde1GJpe-",
        "colab_type": "text"
      },
      "cell_type": "markdown",
      "source": [
        "### Training the model"
      ]
    },
    {
      "metadata": {
        "id": "B--p3OsrJvTt",
        "colab_type": "code",
        "colab": {
          "base_uri": "https://localhost:8080/",
          "height": 714
        },
        "outputId": "cd3ce102-b609-440f-bda3-6e65139728f9"
      },
      "cell_type": "code",
      "source": [
        "epochs = 20\n",
        "history = model.fit(train_images, \n",
        "                      train_labels, \n",
        "                      epochs=epochs,  \n",
        "                      validation_data=(validation_images, validation_labels))"
      ],
      "execution_count": 36,
      "outputs": [
        {
          "output_type": "stream",
          "text": [
            "Train on 40000 samples, validate on 10000 samples\n",
            "Epoch 1/20\n",
            "40000/40000 [==============================] - 94s 2ms/sample - loss: 1.5917 - acc: 0.4172 - val_loss: 1.2927 - val_acc: 0.5422\n",
            "Epoch 2/20\n",
            "40000/40000 [==============================] - 90s 2ms/sample - loss: 1.2089 - acc: 0.5717 - val_loss: 1.0928 - val_acc: 0.6203\n",
            "Epoch 3/20\n",
            "40000/40000 [==============================] - 90s 2ms/sample - loss: 1.0409 - acc: 0.6321 - val_loss: 1.0070 - val_acc: 0.6501\n",
            "Epoch 4/20\n",
            "40000/40000 [==============================] - 91s 2ms/sample - loss: 0.9342 - acc: 0.6707 - val_loss: 0.9482 - val_acc: 0.6694\n",
            "Epoch 5/20\n",
            "40000/40000 [==============================] - 89s 2ms/sample - loss: 0.8552 - acc: 0.6993 - val_loss: 0.9277 - val_acc: 0.6786\n",
            "Epoch 6/20\n",
            "40000/40000 [==============================] - 88s 2ms/sample - loss: 0.7918 - acc: 0.7216 - val_loss: 0.9362 - val_acc: 0.6786\n",
            "Epoch 7/20\n",
            "40000/40000 [==============================] - 89s 2ms/sample - loss: 0.7360 - acc: 0.7414 - val_loss: 0.8704 - val_acc: 0.7019\n",
            "Epoch 8/20\n",
            "40000/40000 [==============================] - 89s 2ms/sample - loss: 0.6905 - acc: 0.7594 - val_loss: 0.9180 - val_acc: 0.6904\n",
            "Epoch 9/20\n",
            "40000/40000 [==============================] - 89s 2ms/sample - loss: 0.6519 - acc: 0.7698 - val_loss: 0.8850 - val_acc: 0.7026\n",
            "Epoch 10/20\n",
            "40000/40000 [==============================] - 90s 2ms/sample - loss: 0.6133 - acc: 0.7834 - val_loss: 0.9025 - val_acc: 0.6936\n",
            "Epoch 11/20\n",
            "40000/40000 [==============================] - 91s 2ms/sample - loss: 0.5715 - acc: 0.7983 - val_loss: 0.9232 - val_acc: 0.6953\n",
            "Epoch 12/20\n",
            "40000/40000 [==============================] - 89s 2ms/sample - loss: 0.5361 - acc: 0.8104 - val_loss: 0.9095 - val_acc: 0.7025\n",
            "Epoch 13/20\n",
            "40000/40000 [==============================] - 85s 2ms/sample - loss: 0.4968 - acc: 0.8234 - val_loss: 1.0163 - val_acc: 0.6875\n",
            "Epoch 14/20\n",
            "40000/40000 [==============================] - 84s 2ms/sample - loss: 0.4671 - acc: 0.8335 - val_loss: 1.0381 - val_acc: 0.6844\n",
            "Epoch 15/20\n",
            "40000/40000 [==============================] - 86s 2ms/sample - loss: 0.4307 - acc: 0.8490 - val_loss: 1.0140 - val_acc: 0.6901\n",
            "Epoch 16/20\n",
            "40000/40000 [==============================] - 85s 2ms/sample - loss: 0.4040 - acc: 0.8558 - val_loss: 1.0623 - val_acc: 0.6997\n",
            "Epoch 17/20\n",
            "40000/40000 [==============================] - 90s 2ms/sample - loss: 0.3742 - acc: 0.8666 - val_loss: 1.1050 - val_acc: 0.6911\n",
            "Epoch 18/20\n",
            "40000/40000 [==============================] - 89s 2ms/sample - loss: 0.3445 - acc: 0.8753 - val_loss: 1.1619 - val_acc: 0.6917\n",
            "Epoch 19/20\n",
            "40000/40000 [==============================] - 89s 2ms/sample - loss: 0.3231 - acc: 0.8838 - val_loss: 1.2046 - val_acc: 0.6916\n",
            "Epoch 20/20\n",
            "40000/40000 [==============================] - 88s 2ms/sample - loss: 0.2980 - acc: 0.8916 - val_loss: 1.2925 - val_acc: 0.6858\n"
          ],
          "name": "stdout"
        }
      ]
    },
    {
      "metadata": {
        "id": "C8BlB3rHK5x2",
        "colab_type": "text"
      },
      "cell_type": "markdown",
      "source": [
        "### K-fold validation and hold-out validation\n",
        "### Data augmentation and drop out\n",
        "### Plots, observations, accuracy metrics (confusion matrix)"
      ]
    },
    {
      "metadata": {
        "id": "1c7ajOCeA3w4",
        "colab_type": "code",
        "colab": {}
      },
      "cell_type": "code",
      "source": [
        ""
      ],
      "execution_count": 0,
      "outputs": []
    }
  ]
}
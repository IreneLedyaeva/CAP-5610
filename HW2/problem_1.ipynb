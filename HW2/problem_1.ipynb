{
  "nbformat": 4,
  "nbformat_minor": 0,
  "metadata": {
    "colab": {
      "name": "problem_1.ipynb",
      "version": "0.3.2",
      "provenance": [],
      "include_colab_link": true
    },
    "kernelspec": {
      "name": "python3",
      "display_name": "Python 3"
    }
  },
  "cells": [
    {
      "cell_type": "markdown",
      "metadata": {
        "id": "view-in-github",
        "colab_type": "text"
      },
      "source": [
        "<a href=\"https://colab.research.google.com/github/IreneLedyaeva/CAP-5610/blob/master/HW2/problem_1.ipynb\" target=\"_parent\"><img src=\"https://colab.research.google.com/assets/colab-badge.svg\" alt=\"Open In Colab\"/></a>"
      ]
    },
    {
      "metadata": {
        "id": "pwfDXmfJ_zK3",
        "colab_type": "text"
      },
      "cell_type": "markdown",
      "source": [
        "## CNN architecture with hold-out validation and data augmentation"
      ]
    },
    {
      "metadata": {
        "id": "zRWk951gSW_n",
        "colab_type": "text"
      },
      "cell_type": "markdown",
      "source": [
        "### Loading the CIFAR10 data set"
      ]
    },
    {
      "metadata": {
        "id": "JhDk_-QE_2Ns",
        "colab_type": "code",
        "colab": {}
      },
      "cell_type": "code",
      "source": [
        "from keras.datasets import cifar10\n",
        "\n",
        "(non_test_images, non_test_labels), (test_images, test_labels) = cifar10.load_data()"
      ],
      "execution_count": 0,
      "outputs": []
    },
    {
      "metadata": {
        "id": "kVOZsyMM18jB",
        "colab_type": "text"
      },
      "cell_type": "markdown",
      "source": [
        "### Splitting non-test data into training and validation"
      ]
    },
    {
      "metadata": {
        "id": "j2pjCIjQ2DQ-",
        "colab_type": "code",
        "outputId": "d8049c1b-070d-468c-9465-21061d24166f",
        "colab": {
          "base_uri": "https://localhost:8080/",
          "height": 51
        }
      },
      "cell_type": "code",
      "source": [
        "num_validation_samples = int(non_test_images.shape[0] * 0.2)\n",
        "\n",
        "train_images = non_test_images[num_validation_samples:] \n",
        "validation_images = non_test_images[:num_validation_samples]\n",
        "\n",
        "train_labels = non_test_labels[num_validation_samples:] \n",
        "validation_labels = non_test_labels[:num_validation_samples]\n",
        "\n",
        "print('total training images:', train_images.shape[0])\n",
        "print('total validation images:', validation_images.shape[0])"
      ],
      "execution_count": 15,
      "outputs": [
        {
          "output_type": "stream",
          "text": [
            "total training images: 40000\n",
            "total validation images: 10000\n"
          ],
          "name": "stdout"
        }
      ]
    },
    {
      "metadata": {
        "id": "7dHHcp5USgOD",
        "colab_type": "text"
      },
      "cell_type": "markdown",
      "source": [
        "### Encoding the labels"
      ]
    },
    {
      "metadata": {
        "id": "Ecf4mka-SusC",
        "colab_type": "code",
        "colab": {}
      },
      "cell_type": "code",
      "source": [
        "from keras.utils import to_categorical\n",
        "\n",
        "class_names = ['airplan', 'automobile', 'bird', 'cat', 'deer', 'dog', 'frog', 'horse', 'ship', 'truck']\n",
        "num_classes = len(class_names)\n",
        "\n",
        "train_labels = to_categorical(train_labels, num_classes)\n",
        "validation_labels = to_categorical(validation_labels, num_classes)"
      ],
      "execution_count": 0,
      "outputs": []
    },
    {
      "metadata": {
        "id": "90zmcK2hhyWQ",
        "colab_type": "text"
      },
      "cell_type": "markdown",
      "source": [
        "### Preprocessing the data"
      ]
    },
    {
      "metadata": {
        "id": "eNeeHK0Qh1r9",
        "colab_type": "code",
        "colab": {}
      },
      "cell_type": "code",
      "source": [
        "train_images = train_images.astype('float32') / 255.0\n",
        "validation_images = validation_images.astype('float32') / 255.0"
      ],
      "execution_count": 0,
      "outputs": []
    },
    {
      "metadata": {
        "id": "nx40fYO57VQs",
        "colab_type": "text"
      },
      "cell_type": "markdown",
      "source": [
        "### Adding data augmentation\n",
        "Validation data should not be augmented"
      ]
    },
    {
      "metadata": {
        "id": "PiRs1w0t7ZmG",
        "colab_type": "code",
        "colab": {}
      },
      "cell_type": "code",
      "source": [
        "from tensorflow.keras.preprocessing.image import ImageDataGenerator\n",
        "\n",
        "# Training images\n",
        "datagen = ImageDataGenerator(\n",
        "    rotation_range=15,\n",
        "    width_shift_range=0.1,\n",
        "    height_shift_range=0.1,\n",
        "    horizontal_flip=True)\n",
        "\n",
        "datagen.fit(train_images)"
      ],
      "execution_count": 0,
      "outputs": []
    },
    {
      "metadata": {
        "id": "tOK5_ixvAzcR",
        "colab_type": "text"
      },
      "cell_type": "markdown",
      "source": [
        "### Building the model"
      ]
    },
    {
      "metadata": {
        "id": "1giH-P1NI9pl",
        "colab_type": "code",
        "outputId": "b5f5a02b-919d-4491-bcf3-007cbd705239",
        "colab": {
          "base_uri": "https://localhost:8080/",
          "height": 408
        }
      },
      "cell_type": "code",
      "source": [
        "from tensorflow import keras\n",
        "\n",
        "model = keras.Sequential([\n",
        "    keras.layers.Conv2D(32, (3, 3), activation='relu', input_shape=(32, 32, 3)),\n",
        "    keras.layers.MaxPooling2D((2, 2)),\n",
        "    \n",
        "    keras.layers.Conv2D(64, (3, 3), activation='relu'),\n",
        "    keras.layers.MaxPooling2D((2, 2)),\n",
        "    \n",
        "    keras.layers.Conv2D(128, (3, 3), activation='relu'),\n",
        "    keras.layers.MaxPooling2D((2, 2)),\n",
        "    \n",
        "    keras.layers.Flatten(),\n",
        "    keras.layers.Dense(num_classes, activation='softmax')\n",
        "])\n",
        "\n",
        "model.summary()"
      ],
      "execution_count": 19,
      "outputs": [
        {
          "output_type": "stream",
          "text": [
            "_________________________________________________________________\n",
            "Layer (type)                 Output Shape              Param #   \n",
            "=================================================================\n",
            "conv2d_6 (Conv2D)            (None, 30, 30, 32)        896       \n",
            "_________________________________________________________________\n",
            "max_pooling2d_6 (MaxPooling2 (None, 15, 15, 32)        0         \n",
            "_________________________________________________________________\n",
            "conv2d_7 (Conv2D)            (None, 13, 13, 64)        18496     \n",
            "_________________________________________________________________\n",
            "max_pooling2d_7 (MaxPooling2 (None, 6, 6, 64)          0         \n",
            "_________________________________________________________________\n",
            "conv2d_8 (Conv2D)            (None, 4, 4, 128)         73856     \n",
            "_________________________________________________________________\n",
            "max_pooling2d_8 (MaxPooling2 (None, 2, 2, 128)         0         \n",
            "_________________________________________________________________\n",
            "flatten_2 (Flatten)          (None, 512)               0         \n",
            "_________________________________________________________________\n",
            "dense_2 (Dense)              (None, 10)                5130      \n",
            "=================================================================\n",
            "Total params: 98,378\n",
            "Trainable params: 98,378\n",
            "Non-trainable params: 0\n",
            "_________________________________________________________________\n"
          ],
          "name": "stdout"
        }
      ]
    },
    {
      "metadata": {
        "id": "S6wmyqtMJW6I",
        "colab_type": "text"
      },
      "cell_type": "markdown",
      "source": [
        "### Compiling the model"
      ]
    },
    {
      "metadata": {
        "id": "gJjJAvwDJf8P",
        "colab_type": "code",
        "colab": {}
      },
      "cell_type": "code",
      "source": [
        "from tensorflow.keras.optimizers import RMSprop\n",
        "\n",
        "model.compile(loss='categorical_crossentropy',\n",
        "              optimizer=RMSprop(lr=0.001),\n",
        "              metrics=['accuracy'])"
      ],
      "execution_count": 0,
      "outputs": []
    },
    {
      "metadata": {
        "id": "W9CBde1GJpe-",
        "colab_type": "text"
      },
      "cell_type": "markdown",
      "source": [
        "### Training the model"
      ]
    },
    {
      "metadata": {
        "id": "B--p3OsrJvTt",
        "colab_type": "code",
        "outputId": "81e5c193-4f77-44ca-f9c9-c262b50b00c4",
        "colab": {
          "base_uri": "https://localhost:8080/",
          "height": 1547
        }
      },
      "cell_type": "code",
      "source": [
        "history = model.fit_generator(datagen.flow(train_images, train_labels, batch_size=32),\n",
        "                    epochs=30, verbose=1, validation_data=(validation_images, validation_labels), shuffle=True)"
      ],
      "execution_count": 21,
      "outputs": [
        {
          "output_type": "stream",
          "text": [
            "Epoch 1/30\n",
            "10000/10000 [==============================] - 7s 669us/sample - loss: 1.5502 - acc: 0.4612\n",
            "1250/1250 [==============================] - 92s 73ms/step - loss: 1.6960 - acc: 0.3811 - val_loss: 1.5504 - val_acc: 0.4612\n",
            "Epoch 2/30\n",
            "10000/10000 [==============================] - 7s 669us/sample - loss: 1.2454 - acc: 0.5615\n",
            "1250/1250 [==============================] - 92s 73ms/step - loss: 1.3815 - acc: 0.5062 - val_loss: 1.2463 - val_acc: 0.5615\n",
            "Epoch 3/30\n",
            "10000/10000 [==============================] - 7s 672us/sample - loss: 1.0564 - acc: 0.6305\n",
            "1250/1250 [==============================] - 93s 74ms/step - loss: 1.2468 - acc: 0.5619 - val_loss: 1.0571 - val_acc: 0.6305\n",
            "Epoch 4/30\n",
            "10000/10000 [==============================] - 7s 673us/sample - loss: 1.0717 - acc: 0.6342\n",
            "1250/1250 [==============================] - 92s 74ms/step - loss: 1.1578 - acc: 0.5954 - val_loss: 1.0726 - val_acc: 0.6342\n",
            "Epoch 5/30\n",
            "10000/10000 [==============================] - 7s 669us/sample - loss: 1.0106 - acc: 0.6514\n",
            "1250/1250 [==============================] - 92s 73ms/step - loss: 1.0955 - acc: 0.6166 - val_loss: 1.0112 - val_acc: 0.6514\n",
            "Epoch 6/30\n",
            "10000/10000 [==============================] - 7s 708us/sample - loss: 1.0755 - acc: 0.6381\n",
            "1250/1250 [==============================] - 92s 74ms/step - loss: 1.0517 - acc: 0.6369 - val_loss: 1.0763 - val_acc: 0.6381\n",
            "Epoch 7/30\n",
            "10000/10000 [==============================] - 7s 671us/sample - loss: 0.9295 - acc: 0.6721\n",
            "1250/1250 [==============================] - 92s 73ms/step - loss: 1.0104 - acc: 0.6467 - val_loss: 0.9301 - val_acc: 0.6721\n",
            "Epoch 8/30\n",
            "10000/10000 [==============================] - 7s 665us/sample - loss: 0.8686 - acc: 0.7025\n",
            "1250/1250 [==============================] - 92s 73ms/step - loss: 0.9764 - acc: 0.6578 - val_loss: 0.8696 - val_acc: 0.7025\n",
            "Epoch 9/30\n",
            "10000/10000 [==============================] - 7s 673us/sample - loss: 0.9896 - acc: 0.6760\n",
            "1250/1250 [==============================] - 92s 74ms/step - loss: 0.9540 - acc: 0.6684 - val_loss: 0.9905 - val_acc: 0.6760\n",
            "Epoch 10/30\n",
            "10000/10000 [==============================] - 7s 664us/sample - loss: 0.8455 - acc: 0.7103\n",
            "1250/1250 [==============================] - 92s 74ms/step - loss: 0.9264 - acc: 0.6768 - val_loss: 0.8462 - val_acc: 0.7103\n",
            "Epoch 11/30\n",
            "10000/10000 [==============================] - 7s 671us/sample - loss: 0.8206 - acc: 0.7203\n",
            "1250/1250 [==============================] - 91s 73ms/step - loss: 0.9117 - acc: 0.6848 - val_loss: 0.8213 - val_acc: 0.7203\n",
            "Epoch 12/30\n",
            "10000/10000 [==============================] - 7s 666us/sample - loss: 0.8527 - acc: 0.7090\n",
            "1250/1250 [==============================] - 92s 73ms/step - loss: 0.8903 - acc: 0.6923 - val_loss: 0.8532 - val_acc: 0.7090\n",
            "Epoch 13/30\n",
            "10000/10000 [==============================] - 7s 660us/sample - loss: 0.8059 - acc: 0.7236\n",
            "1250/1250 [==============================] - 92s 74ms/step - loss: 0.8788 - acc: 0.6972 - val_loss: 0.8062 - val_acc: 0.7236\n",
            "Epoch 14/30\n",
            "10000/10000 [==============================] - 7s 664us/sample - loss: 0.8371 - acc: 0.7167\n",
            "1250/1250 [==============================] - 92s 73ms/step - loss: 0.8675 - acc: 0.6998 - val_loss: 0.8380 - val_acc: 0.7167\n",
            "Epoch 15/30\n",
            "10000/10000 [==============================] - 7s 666us/sample - loss: 0.8412 - acc: 0.7172\n",
            "1250/1250 [==============================] - 91s 73ms/step - loss: 0.8505 - acc: 0.7071 - val_loss: 0.8426 - val_acc: 0.7172\n",
            "Epoch 16/30\n",
            "10000/10000 [==============================] - 7s 662us/sample - loss: 0.7907 - acc: 0.7349\n",
            "1250/1250 [==============================] - 91s 73ms/step - loss: 0.8472 - acc: 0.7070 - val_loss: 0.7920 - val_acc: 0.7349\n",
            "Epoch 17/30\n",
            "10000/10000 [==============================] - 7s 659us/sample - loss: 0.7902 - acc: 0.7423\n",
            "1250/1250 [==============================] - 92s 74ms/step - loss: 0.8370 - acc: 0.7100 - val_loss: 0.7908 - val_acc: 0.7423\n",
            "Epoch 18/30\n",
            "10000/10000 [==============================] - 7s 668us/sample - loss: 0.7938 - acc: 0.7292\n",
            "1250/1250 [==============================] - 92s 73ms/step - loss: 0.8309 - acc: 0.7123 - val_loss: 0.7948 - val_acc: 0.7292\n",
            "Epoch 19/30\n",
            "10000/10000 [==============================] - 7s 669us/sample - loss: 0.7922 - acc: 0.7331\n",
            "1250/1250 [==============================] - 91s 73ms/step - loss: 0.8186 - acc: 0.7176 - val_loss: 0.7935 - val_acc: 0.7331\n",
            "Epoch 20/30\n",
            "10000/10000 [==============================] - 7s 671us/sample - loss: 0.7695 - acc: 0.7395\n",
            "1250/1250 [==============================] - 92s 74ms/step - loss: 0.8109 - acc: 0.7219 - val_loss: 0.7709 - val_acc: 0.7395\n",
            "Epoch 21/30\n",
            "10000/10000 [==============================] - 7s 666us/sample - loss: 0.8831 - acc: 0.7095\n",
            "1250/1250 [==============================] - 92s 73ms/step - loss: 0.8087 - acc: 0.7225 - val_loss: 0.8843 - val_acc: 0.7095\n",
            "Epoch 22/30\n",
            "10000/10000 [==============================] - 7s 659us/sample - loss: 0.8352 - acc: 0.7291\n",
            "1250/1250 [==============================] - 91s 73ms/step - loss: 0.7939 - acc: 0.7273 - val_loss: 0.8362 - val_acc: 0.7291\n",
            "Epoch 23/30\n",
            "10000/10000 [==============================] - 7s 693us/sample - loss: 0.8036 - acc: 0.7365\n",
            "1250/1250 [==============================] - 92s 74ms/step - loss: 0.8022 - acc: 0.7255 - val_loss: 0.8049 - val_acc: 0.7365\n",
            "Epoch 24/30\n",
            "10000/10000 [==============================] - 7s 664us/sample - loss: 0.8281 - acc: 0.7307\n",
            "1250/1250 [==============================] - 92s 73ms/step - loss: 0.7998 - acc: 0.7250 - val_loss: 0.8283 - val_acc: 0.7307\n",
            "Epoch 25/30\n",
            "10000/10000 [==============================] - 7s 667us/sample - loss: 0.7722 - acc: 0.7412\n",
            "1250/1250 [==============================] - 91s 73ms/step - loss: 0.7816 - acc: 0.7328 - val_loss: 0.7727 - val_acc: 0.7412\n",
            "Epoch 26/30\n",
            "10000/10000 [==============================] - 7s 661us/sample - loss: 0.7538 - acc: 0.7499\n",
            "1250/1250 [==============================] - 91s 73ms/step - loss: 0.7893 - acc: 0.7311 - val_loss: 0.7547 - val_acc: 0.7499\n",
            "Epoch 27/30\n",
            "10000/10000 [==============================] - 7s 654us/sample - loss: 0.7931 - acc: 0.7402\n",
            "1250/1250 [==============================] - 92s 73ms/step - loss: 0.7839 - acc: 0.7320 - val_loss: 0.7933 - val_acc: 0.7402\n",
            "Epoch 28/30\n",
            "10000/10000 [==============================] - 7s 656us/sample - loss: 0.7426 - acc: 0.7548\n",
            "1250/1250 [==============================] - 91s 73ms/step - loss: 0.7865 - acc: 0.7351 - val_loss: 0.7432 - val_acc: 0.7548\n",
            "Epoch 29/30\n",
            "10000/10000 [==============================] - 7s 663us/sample - loss: 0.7968 - acc: 0.7436\n",
            "1250/1250 [==============================] - 91s 73ms/step - loss: 0.7841 - acc: 0.7315 - val_loss: 0.7971 - val_acc: 0.7436\n",
            "Epoch 30/30\n",
            "10000/10000 [==============================] - 7s 677us/sample - loss: 0.7440 - acc: 0.7601\n",
            "1250/1250 [==============================] - 91s 73ms/step - loss: 0.7817 - acc: 0.7352 - val_loss: 0.7445 - val_acc: 0.7601\n"
          ],
          "name": "stdout"
        }
      ]
    },
    {
      "metadata": {
        "id": "9_JJfpsRpore",
        "colab_type": "text"
      },
      "cell_type": "markdown",
      "source": [
        "The final training accuracy: 0.7352\n",
        "\n",
        "The final validation accuracy: 0.7601"
      ]
    },
    {
      "metadata": {
        "id": "HdZaiaR5pFcu",
        "colab_type": "text"
      },
      "cell_type": "markdown",
      "source": [
        "### Saving the model"
      ]
    },
    {
      "metadata": {
        "id": "Imm1TdespJA-",
        "colab_type": "code",
        "colab": {}
      },
      "cell_type": "code",
      "source": [
        "model_fname = 'model_augment.h5' \n",
        "model.save(model_fname)"
      ],
      "execution_count": 0,
      "outputs": []
    },
    {
      "metadata": {
        "id": "XOY1qRS2pV4L",
        "colab_type": "text"
      },
      "cell_type": "markdown",
      "source": [
        "### Downloading the model"
      ]
    },
    {
      "metadata": {
        "id": "dN56DIj4pZt5",
        "colab_type": "code",
        "colab": {}
      },
      "cell_type": "code",
      "source": [
        "from google.colab import files\n",
        "\n",
        "with open(model_fname, 'r') as f:\n",
        "  files.download(model_fname)"
      ],
      "execution_count": 0,
      "outputs": []
    },
    {
      "metadata": {
        "id": "iLytHSp_ds6C",
        "colab_type": "text"
      },
      "cell_type": "markdown",
      "source": [
        "### Checking overfitting"
      ]
    },
    {
      "metadata": {
        "id": "K6t234ovdv3s",
        "colab_type": "code",
        "outputId": "1d397726-c25c-4aa2-ab78-ae6a1eaff02b",
        "colab": {
          "base_uri": "https://localhost:8080/",
          "height": 752
        }
      },
      "cell_type": "code",
      "source": [
        "import matplotlib.pyplot as plt\n",
        "\n",
        "acc = history.history['acc']\n",
        "val_acc = history.history['val_acc']\n",
        "\n",
        "loss = history.history['loss']\n",
        "val_loss = history.history['val_loss']\n",
        "\n",
        "epochs = range(len(acc))\n",
        "\n",
        "# Plot training and validation accuracy per epoch\n",
        "plt.plot(epochs, acc, 'bo', label='Training accuracy')\n",
        "plt.plot(epochs, val_acc, 'ro', label='Validation accuracy')\n",
        "plt.title('Training and validation accuracy')\n",
        "plt.xlabel('Epochs')\n",
        "plt.ylabel('Accuracy')\n",
        "plt.legend()\n",
        "\n",
        "plt.figure()\n",
        "\n",
        "# Plot training and validation loss per epoch\n",
        "plt.plot(epochs, loss, 'bo', label='Training loss')\n",
        "plt.plot(epochs, val_loss, 'ro', label='Validation loss')\n",
        "plt.title('Training and validation loss')\n",
        "plt.xlabel('Epochs')\n",
        "plt.ylabel('Loss')\n",
        "plt.legend()"
      ],
      "execution_count": 25,
      "outputs": [
        {
          "output_type": "execute_result",
          "data": {
            "text/plain": [
              "<matplotlib.legend.Legend at 0x7f121b50feb8>"
            ]
          },
          "metadata": {
            "tags": []
          },
          "execution_count": 25
        },
        {
          "output_type": "display_data",
          "data": {
            "image/png": "[encoded data removed]",
            "text/plain": [
              "<Figure size 576x396 with 1 Axes>"
            ]
          },
          "metadata": {
            "tags": []
          }
        },
        {
          "output_type": "display_data",
          "data": {
            "image/png": "[encoded data removed]",
            "text/plain": [
              "<Figure size 576x396 with 1 Axes>"
            ]
          },
          "metadata": {
            "tags": []
          }
        }
      ]
    }
  ]
}